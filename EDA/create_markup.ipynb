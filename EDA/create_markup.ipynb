{
 "cells": [
  {
   "cell_type": "markdown",
   "id": "0e383a9f",
   "metadata": {},
   "source": [
    "# Создание предфинальной разметки"
   ]
  },
  {
   "cell_type": "markdown",
   "id": "7e0abd4f",
   "metadata": {},
   "source": [
    "Для построения бейзлайна нужно сформировать некоторую базу текстов, так как все данные с википедии не поместятся в память и обучение не будет технически возможно. Для формирования сокращенной разметки будут выполнены следующие шаги:\n",
    "* Будут взяты все тексты из 14 отобранных книг. Таких текстов не так много по сравнению с Вики, однако они ообогащены эмоциональной окраской, из-за чего в них чаще встречаются восклицательные и вопросительные знаки. Всего таких текстов чуть менее 30 тысяч, в сумме они содержат более миллиона слов. \n",
    "* Из данных Википедии будут взяты 830 тысяч абзацев."
   ]
  },
  {
   "cell_type": "code",
   "execution_count": 90,
   "id": "08221496",
   "metadata": {},
   "outputs": [],
   "source": [
    "import os\n",
    "import tqdm\n",
    "import pandas as pd\n",
    "import re\n",
    "import numpy as np\n",
    "from collections import Counter\n",
    "from sklearn.model_selection import train_test_split"
   ]
  },
  {
   "cell_type": "code",
   "execution_count": 2,
   "id": "098e9519",
   "metadata": {},
   "outputs": [
    {
     "data": {
      "text/plain": [
       "16"
      ]
     },
     "execution_count": 2,
     "metadata": {},
     "output_type": "execute_result"
    }
   ],
   "source": [
    "path_to_books = 'books/'\n",
    "\n",
    "book_file_names = [i for i in os.listdir(path_to_books) if i != '.DS_Store']\n",
    "len(book_file_names)"
   ]
  },
  {
   "cell_type": "code",
   "execution_count": 3,
   "id": "571e33ae",
   "metadata": {},
   "outputs": [
    {
     "name": "stderr",
     "output_type": "stream",
     "text": [
      "100%|███████████████████████████████████████████| 16/16 [00:00<00:00, 55.65it/s]\n"
     ]
    },
    {
     "data": {
      "text/plain": [
       "27863"
      ]
     },
     "execution_count": 3,
     "metadata": {},
     "output_type": "execute_result"
    }
   ],
   "source": [
    "all_books_texts = []\n",
    "\n",
    "for book_name in tqdm.tqdm(book_file_names):\n",
    "    # в философии текст довольно сомнительного качества \n",
    "    if (book_name == 'bytie_i_vremya.txt') or (book_name == 'tak_govoril_zaratustra.txt'):\n",
    "        continue\n",
    "        \n",
    "    with open(path_to_books + book_name, encoding='utf-8') as file:\n",
    "        for line in file:\n",
    "            line = line[:-1]\n",
    "            \n",
    "            # меняем тире\n",
    "            line = re.sub('–', '—', line)\n",
    "            \n",
    "            # если реплика, то проверяем отстутсвие еще одного тире\n",
    "            if (line[:2] == '— ') & (' — ' in line[2:]):\n",
    "                continue\n",
    "                \n",
    "            elif line[:2] == '— ':\n",
    "                line = line[2:]\n",
    "                \n",
    "            # меняем троеточие    \n",
    "            line = re.sub('…', '...', line)\n",
    "\n",
    "            all_books_texts.append(line)\n",
    "            \n",
    "len(all_books_texts)"
   ]
  },
  {
   "cell_type": "code",
   "execution_count": 46,
   "id": "55618c85",
   "metadata": {},
   "outputs": [],
   "source": [
    "def clean_text_special_symbols(line):\n",
    "    \n",
    "    line = re.sub('– ', '', line)\n",
    "    line = re.sub('— ', '', line)\n",
    "#     line = re.sub('\\(', '', line)\n",
    "#     line = re.sub('\\)', '', line)\n",
    "    line = re.sub('\"', '', line)\n",
    "    line = line.lower()\n",
    "    line = re.sub('\\s+', ' ', line)\n",
    "    \n",
    "    return [token for token in line.split(' ') if token != '']"
   ]
  },
  {
   "cell_type": "code",
   "execution_count": 83,
   "id": "ebd00358",
   "metadata": {},
   "outputs": [],
   "source": [
    "def create_labels(token_list):\n",
    "    \n",
    "    labels_puncts = ['.', ',', '?', '!', ';', '...', ':']\n",
    "    labels = []\n",
    "    for token in token_list:\n",
    "        if (len(token) > 3) & (token[-3:] == '...'):\n",
    "            labels.append('...')\n",
    "        elif token[-1] in labels_puncts:\n",
    "            labels.append(token[-1])\n",
    "        else:\n",
    "            labels.append('o')\n",
    "    \n",
    "    return labels"
   ]
  },
  {
   "cell_type": "code",
   "execution_count": 81,
   "id": "9dc16c56",
   "metadata": {},
   "outputs": [],
   "source": [
    "def get_markup(df_text):\n",
    "    '''\n",
    "    Функция, принимающая на вход датафрейм с колонкой текстов (text) и\n",
    "    возвращающая датафрейм с соответствующими метками.\n",
    "    1) Список очищенных токенов для обучения\n",
    "    2) Метки основных знаков препинания:\n",
    "    ['.', ',', '?', '!', ';', '...', ':', 'o']. (o = other)\n",
    "    \n",
    "    TODO:\n",
    "    3) Метки кавычек и скобок:\n",
    "    ['\"_', '_\"', ')', '(', 'o']\n",
    "    4) Метки тире:\n",
    "    ['—', 'o']\n",
    "    \n",
    "    Таким образом, для каждого текста будет возвращаться 4 списка\n",
    "    '''\n",
    "    # если сплитим по пробелу, то тире будет отдельным токеном\n",
    "    # пока что удалим его и кавычки (для бейзлайна)\n",
    "    df_text['tokens'] = df_text['text'].apply(clean_text_special_symbols)\n",
    "    \n",
    "    labels_puncts = ['.', ',', '?', '!', ';', '...', ':']\n",
    "    df_text['labels'] = df_text['tokens'].apply(create_labels)\n",
    "    \n",
    "    df_text['tokens'] = df_text['tokens'].apply(lambda x: [re.sub(\"[^\\w\\s]\", '', y) for y in x])\n",
    "    \n",
    "    return df_text\n"
   ]
  },
  {
   "cell_type": "code",
   "execution_count": 84,
   "id": "7aead464",
   "metadata": {},
   "outputs": [
    {
     "data": {
      "text/html": [
       "<div>\n",
       "<style scoped>\n",
       "    .dataframe tbody tr th:only-of-type {\n",
       "        vertical-align: middle;\n",
       "    }\n",
       "\n",
       "    .dataframe tbody tr th {\n",
       "        vertical-align: top;\n",
       "    }\n",
       "\n",
       "    .dataframe thead th {\n",
       "        text-align: right;\n",
       "    }\n",
       "</style>\n",
       "<table border=\"1\" class=\"dataframe\">\n",
       "  <thead>\n",
       "    <tr style=\"text-align: right;\">\n",
       "      <th></th>\n",
       "      <th>text</th>\n",
       "      <th>tokens</th>\n",
       "      <th>labels</th>\n",
       "    </tr>\n",
       "  </thead>\n",
       "  <tbody>\n",
       "    <tr>\n",
       "      <th>0</th>\n",
       "      <td>Должен с сожалением сказать, что Фолио Клуб — ...</td>\n",
       "      <td>[должен, с, сожалением, сказать, что, фолио, к...</td>\n",
       "      <td>[o, o, o, ,, o, o, o, o, o, o, o, ., o, ,, o, ...</td>\n",
       "    </tr>\n",
       "    <tr>\n",
       "      <th>1</th>\n",
       "      <td>А между тем, когда я, всего какую-нибудь недел...</td>\n",
       "      <td>[а, между, тем, когда, я, всего, какуюнибудь, ...</td>\n",
       "      <td>[o, o, ,, o, ,, o, o, o, ,, o, o, o, o, ,, o, ...</td>\n",
       "    </tr>\n",
       "    <tr>\n",
       "      <th>2</th>\n",
       "      <td>В пять часов пополудни я, как было условлено, ...</td>\n",
       "      <td>[в, пять, часов, пополудни, я, как, было, усло...</td>\n",
       "      <td>[o, o, o, o, ,, o, o, ,, o, o, o, ,, o, o, o, ...</td>\n",
       "    </tr>\n",
       "    <tr>\n",
       "      <th>3</th>\n",
       "      <td>Членами его были большей частью очень примечат...</td>\n",
       "      <td>[членами, его, были, большей, частью, очень, п...</td>\n",
       "      <td>[o, o, o, o, o, o, o, ., o, o, o, o, o, ,, ,, ...</td>\n",
       "    </tr>\n",
       "    <tr>\n",
       "      <th>4</th>\n",
       "      <td>Был там также мистер Конволвулус Гондола, моло...</td>\n",
       "      <td>[был, там, также, мистер, конволвулус, гондола...</td>\n",
       "      <td>[o, o, o, o, o, ,, o, ,, o, o, .]</td>\n",
       "    </tr>\n",
       "    <tr>\n",
       "      <th>...</th>\n",
       "      <td>...</td>\n",
       "      <td>...</td>\n",
       "      <td>...</td>\n",
       "    </tr>\n",
       "    <tr>\n",
       "      <th>27858</th>\n",
       "      <td>Так странно вдруг для Наташи показался этот ег...</td>\n",
       "      <td>[так, странно, вдруг, для, наташи, показался, ...</td>\n",
       "      <td>[o, o, o, o, o, o, o, o, ,, ,, o, .]</td>\n",
       "    </tr>\n",
       "    <tr>\n",
       "      <th>27859</th>\n",
       "      <td>Наташа в первый раз после многих дней заплакал...</td>\n",
       "      <td>[наташа, в, первый, раз, после, многих, дней, ...</td>\n",
       "      <td>[o, o, o, o, o, o, o, o, o, o, o, o, ,, o, o, ...</td>\n",
       "    </tr>\n",
       "    <tr>\n",
       "      <th>27860</th>\n",
       "      <td>Пьер тоже вслед за нею почти выбежал в передню...</td>\n",
       "      <td>[пьер, тоже, вслед, за, нею, почти, выбежал, в...</td>\n",
       "      <td>[o, o, o, o, o, o, o, o, ,, o, o, o, o, ,, o, ...</td>\n",
       "    </tr>\n",
       "    <tr>\n",
       "      <th>27861</th>\n",
       "      <td>\"Куда? — спросил себя Пьер. — Куда же можно ех...</td>\n",
       "      <td>[куда, спросил, себя, пьер, куда, же, можно, е...</td>\n",
       "      <td>[?, o, o, ., o, o, o, o, ?, o, o, o, o, o, ?, ...</td>\n",
       "    </tr>\n",
       "    <tr>\n",
       "      <th>27862</th>\n",
       "      <td>Было морозно и ясно. Над грязными, полутемными...</td>\n",
       "      <td>[было, морозно, и, ясно, над, грязными, полуте...</td>\n",
       "      <td>[o, o, o, ., o, ,, o, ,, o, o, o, o, o, o, ., ...</td>\n",
       "    </tr>\n",
       "  </tbody>\n",
       "</table>\n",
       "<p>27863 rows × 3 columns</p>\n",
       "</div>"
      ],
      "text/plain": [
       "                                                    text  \\\n",
       "0      Должен с сожалением сказать, что Фолио Клуб — ...   \n",
       "1      А между тем, когда я, всего какую-нибудь недел...   \n",
       "2      В пять часов пополудни я, как было условлено, ...   \n",
       "3      Членами его были большей частью очень примечат...   \n",
       "4      Был там также мистер Конволвулус Гондола, моло...   \n",
       "...                                                  ...   \n",
       "27858  Так странно вдруг для Наташи показался этот ег...   \n",
       "27859  Наташа в первый раз после многих дней заплакал...   \n",
       "27860  Пьер тоже вслед за нею почти выбежал в передню...   \n",
       "27861  \"Куда? — спросил себя Пьер. — Куда же можно ех...   \n",
       "27862  Было морозно и ясно. Над грязными, полутемными...   \n",
       "\n",
       "                                                  tokens  \\\n",
       "0      [должен, с, сожалением, сказать, что, фолио, к...   \n",
       "1      [а, между, тем, когда, я, всего, какуюнибудь, ...   \n",
       "2      [в, пять, часов, пополудни, я, как, было, усло...   \n",
       "3      [членами, его, были, большей, частью, очень, п...   \n",
       "4      [был, там, также, мистер, конволвулус, гондола...   \n",
       "...                                                  ...   \n",
       "27858  [так, странно, вдруг, для, наташи, показался, ...   \n",
       "27859  [наташа, в, первый, раз, после, многих, дней, ...   \n",
       "27860  [пьер, тоже, вслед, за, нею, почти, выбежал, в...   \n",
       "27861  [куда, спросил, себя, пьер, куда, же, можно, е...   \n",
       "27862  [было, морозно, и, ясно, над, грязными, полуте...   \n",
       "\n",
       "                                                  labels  \n",
       "0      [o, o, o, ,, o, o, o, o, o, o, o, ., o, ,, o, ...  \n",
       "1      [o, o, ,, o, ,, o, o, o, ,, o, o, o, o, ,, o, ...  \n",
       "2      [o, o, o, o, ,, o, o, ,, o, o, o, ,, o, o, o, ...  \n",
       "3      [o, o, o, o, o, o, o, ., o, o, o, o, o, ,, ,, ...  \n",
       "4                      [o, o, o, o, o, ,, o, ,, o, o, .]  \n",
       "...                                                  ...  \n",
       "27858               [o, o, o, o, o, o, o, o, ,, ,, o, .]  \n",
       "27859  [o, o, o, o, o, o, o, o, o, o, o, o, ,, o, o, ...  \n",
       "27860  [o, o, o, o, o, o, o, o, ,, o, o, o, o, ,, o, ...  \n",
       "27861  [?, o, o, ., o, o, o, o, ?, o, o, o, o, o, ?, ...  \n",
       "27862  [o, o, o, ., o, ,, o, ,, o, o, o, o, o, o, ., ...  \n",
       "\n",
       "[27863 rows x 3 columns]"
      ]
     },
     "execution_count": 84,
     "metadata": {},
     "output_type": "execute_result"
    }
   ],
   "source": [
    "df_markup = pd.DataFrame()\n",
    "df_markup['text'] = all_books_texts\n",
    "df_markup = get_markup(df_markup)\n",
    "df_markup"
   ]
  },
  {
   "cell_type": "code",
   "execution_count": 70,
   "id": "89601189",
   "metadata": {},
   "outputs": [
    {
     "name": "stderr",
     "output_type": "stream",
     "text": [
      "100%|███████████████████████████████████████████| 83/83 [04:34<00:00,  3.30s/it]\n"
     ]
    }
   ],
   "source": [
    "np.random.seed(999)\n",
    "\n",
    "paths_to_folders = os.listdir('all_articles_edited/')\n",
    "wiki_texts = []\n",
    "\n",
    "for file_name in tqdm.tqdm(paths_to_folders):\n",
    "    folder_texts = []\n",
    "    with open('all_articles_edited/' + file_name, 'r') as file:\n",
    "        if file_name == '.DS_Store':\n",
    "            continue\n",
    "            \n",
    "        for line in file:\n",
    "            line = line[:-1]\n",
    "            # убираем тезнические символы и заголовки\n",
    "            if ('#' in line) or (' ,' in line)  or (' ;' in line)\\\n",
    "                or (' .' in line) or (len(line.split(' ')) <= 4):\n",
    "                continue\n",
    "            folder_texts.append(line)\n",
    "            \n",
    "        wiki_texts += np.random.choice(folder_texts, size=10000, replace=False).tolist() "
   ]
  },
  {
   "cell_type": "code",
   "execution_count": 85,
   "id": "dcf0d423",
   "metadata": {},
   "outputs": [
    {
     "data": {
      "text/plain": [
       "830000"
      ]
     },
     "execution_count": 85,
     "metadata": {},
     "output_type": "execute_result"
    }
   ],
   "source": [
    "len(wiki_texts)"
   ]
  },
  {
   "cell_type": "code",
   "execution_count": 86,
   "id": "1a5528a3",
   "metadata": {},
   "outputs": [
    {
     "data": {
      "text/plain": [
       "['На драфте НХЛ 1998 года был выбран в 4 раунде под общим 108 номером командой \"Калгари Флеймз\". В 2003—2004 годах выступал за \"Лас-Вегас Рэнглерс\". 10 августа 2005 года как неограниченно свободный агент подписал контракт с \"Питтсбург Пингвинз\". 4 октября 2006 года был забран на вейвере \"Ванкувер Кэнакс\". 1 июля 2007 года как неограниченно свободный агент подписал контракт с \"Питтсбург Пингвинз\".',\n",
       " 'Категория лица имени существительного выражается личными показателями, совпадающими с личными местоимениями. В двойственном и множественном числе личные показатели ставятся непосредственно после основ существительных. В первом и втором лицах единственного числа между основой существительного и показателем вставляется \"j\". Если основа оканчивается на согласный, вставляется \"i\". Третье лицо не имеет специальных форм личных показателей. Личные показатели употребляются только в номинативе. В косвенных падежах они заменяются падежными показателями.',\n",
       " 'В 2007 году, в результате комплексной проверки НПО \"Сибсельмаш\" органами Ростехнадзора, на его территории были выявлены порядка 10 тысяч тонн вредных отходов производства. Органы Ростехнадзора внесли в 2008 году объединение в \"список шести самых худших предприятий Сибири по части промышленной и экологической безопасности\".',\n",
       " 'Во главе его стоял Адольф Гоздава-Реутт (псевдоним \"Веляновский\"), однако ведение непосредственного командования обусловил себе Болеслав Пясецкий. Деятельность этого сектора признавалась самой важной. Самой основной формой ведения боевой деятельности считали партизанскую борьбу — партизаны Конфедерации народа выступили уже в октябре 1942 года. Они носили название Кадровых ударных батальонов. КУБ воевали в первое время на Белостокщине, а после слияния с АК в районе Новогрудского округа (польск. Okręg Nowogródek AK). Это соответствовало политическим целями КН акцентирующего на необходимости обороны восточных воеводств не только от оккупирующих их на тот момент немцев, но также от потенциальной опасности со стороны СССР.',\n",
       " 'В 1847 году поступил в Петербургское строительное училище. После выпуска в 1853 году поступил в распоряжение управление петербургско-варшавской железной дороги.']"
      ]
     },
     "execution_count": 86,
     "metadata": {},
     "output_type": "execute_result"
    }
   ],
   "source": [
    "wiki_texts[:5]"
   ]
  },
  {
   "cell_type": "code",
   "execution_count": 87,
   "id": "87eebd96",
   "metadata": {},
   "outputs": [
    {
     "data": {
      "text/html": [
       "<div>\n",
       "<style scoped>\n",
       "    .dataframe tbody tr th:only-of-type {\n",
       "        vertical-align: middle;\n",
       "    }\n",
       "\n",
       "    .dataframe tbody tr th {\n",
       "        vertical-align: top;\n",
       "    }\n",
       "\n",
       "    .dataframe thead th {\n",
       "        text-align: right;\n",
       "    }\n",
       "</style>\n",
       "<table border=\"1\" class=\"dataframe\">\n",
       "  <thead>\n",
       "    <tr style=\"text-align: right;\">\n",
       "      <th></th>\n",
       "      <th>text</th>\n",
       "      <th>tokens</th>\n",
       "      <th>labels</th>\n",
       "    </tr>\n",
       "  </thead>\n",
       "  <tbody>\n",
       "    <tr>\n",
       "      <th>0</th>\n",
       "      <td>На драфте НХЛ 1998 года был выбран в 4 раунде ...</td>\n",
       "      <td>[на, драфте, нхл, 1998, года, был, выбран, в, ...</td>\n",
       "      <td>[o, o, o, o, o, o, o, o, o, o, o, o, o, o, o, ...</td>\n",
       "    </tr>\n",
       "    <tr>\n",
       "      <th>1</th>\n",
       "      <td>Категория лица имени существительного выражает...</td>\n",
       "      <td>[категория, лица, имени, существительного, выр...</td>\n",
       "      <td>[o, o, o, o, o, o, ,, o, o, o, ., o, o, o, o, ...</td>\n",
       "    </tr>\n",
       "    <tr>\n",
       "      <th>2</th>\n",
       "      <td>В 2007 году, в результате комплексной проверки...</td>\n",
       "      <td>[в, 2007, году, в, результате, комплексной, пр...</td>\n",
       "      <td>[o, o, ,, o, o, o, o, o, o, o, ,, o, o, o, o, ...</td>\n",
       "    </tr>\n",
       "    <tr>\n",
       "      <th>3</th>\n",
       "      <td>Во главе его стоял Адольф Гоздава-Реутт (псевд...</td>\n",
       "      <td>[во, главе, его, стоял, адольф, гоздавареутт, ...</td>\n",
       "      <td>[o, o, o, o, o, o, o, ,, o, o, o, o, o, o, o, ...</td>\n",
       "    </tr>\n",
       "    <tr>\n",
       "      <th>4</th>\n",
       "      <td>В 1847 году поступил в Петербургское строитель...</td>\n",
       "      <td>[в, 1847, году, поступил, в, петербургское, ст...</td>\n",
       "      <td>[o, o, o, o, o, o, o, ., o, o, o, o, o, o, o, ...</td>\n",
       "    </tr>\n",
       "    <tr>\n",
       "      <th>...</th>\n",
       "      <td>...</td>\n",
       "      <td>...</td>\n",
       "      <td>...</td>\n",
       "    </tr>\n",
       "    <tr>\n",
       "      <th>829995</th>\n",
       "      <td>Был противником большевизма. 31 марта 1918 год...</td>\n",
       "      <td>[был, противником, большевизма, 31, марта, 191...</td>\n",
       "      <td>[o, o, ., o, o, o, o, o, o, o, o, o, o, o, :, ...</td>\n",
       "    </tr>\n",
       "    <tr>\n",
       "      <th>829996</th>\n",
       "      <td>Tischeria quercitella — вид одноцветных молей-...</td>\n",
       "      <td>[tischeria, quercitella, вид, одноцветных, мол...</td>\n",
       "      <td>[o, o, o, o, o, o, o, ., o, o, o, o, o, ., o, ...</td>\n",
       "    </tr>\n",
       "    <tr>\n",
       "      <th>829997</th>\n",
       "      <td>По данным 1914 года, в деревне проживало 46 че...</td>\n",
       "      <td>[по, данным, 1914, года, в, деревне, проживало...</td>\n",
       "      <td>[o, o, o, ,, o, o, o, o, o, o, o, o, o, ., o, ...</td>\n",
       "    </tr>\n",
       "    <tr>\n",
       "      <th>829998</th>\n",
       "      <td>Биюк-Узень (также \"исток реки Кача\", \"Хавалы́х...</td>\n",
       "      <td>[биюкузень, также, исток, реки, кача, хавалыхд...</td>\n",
       "      <td>[o, o, o, o, ,, o, ,, o, o, o, o, ,, o, o, o, ...</td>\n",
       "    </tr>\n",
       "    <tr>\n",
       "      <th>829999</th>\n",
       "      <td>UCAC3 234-106607 — одиночная звезда в созвезди...</td>\n",
       "      <td>[ucac3, 234106607, одиночная, звезда, в, созве...</td>\n",
       "      <td>[o, o, o, o, o, o, o, o, o, o, o, o, o, o, o, ...</td>\n",
       "    </tr>\n",
       "  </tbody>\n",
       "</table>\n",
       "<p>830000 rows × 3 columns</p>\n",
       "</div>"
      ],
      "text/plain": [
       "                                                     text  \\\n",
       "0       На драфте НХЛ 1998 года был выбран в 4 раунде ...   \n",
       "1       Категория лица имени существительного выражает...   \n",
       "2       В 2007 году, в результате комплексной проверки...   \n",
       "3       Во главе его стоял Адольф Гоздава-Реутт (псевд...   \n",
       "4       В 1847 году поступил в Петербургское строитель...   \n",
       "...                                                   ...   \n",
       "829995  Был противником большевизма. 31 марта 1918 год...   \n",
       "829996  Tischeria quercitella — вид одноцветных молей-...   \n",
       "829997  По данным 1914 года, в деревне проживало 46 че...   \n",
       "829998  Биюк-Узень (также \"исток реки Кача\", \"Хавалы́х...   \n",
       "829999  UCAC3 234-106607 — одиночная звезда в созвезди...   \n",
       "\n",
       "                                                   tokens  \\\n",
       "0       [на, драфте, нхл, 1998, года, был, выбран, в, ...   \n",
       "1       [категория, лица, имени, существительного, выр...   \n",
       "2       [в, 2007, году, в, результате, комплексной, пр...   \n",
       "3       [во, главе, его, стоял, адольф, гоздавареутт, ...   \n",
       "4       [в, 1847, году, поступил, в, петербургское, ст...   \n",
       "...                                                   ...   \n",
       "829995  [был, противником, большевизма, 31, марта, 191...   \n",
       "829996  [tischeria, quercitella, вид, одноцветных, мол...   \n",
       "829997  [по, данным, 1914, года, в, деревне, проживало...   \n",
       "829998  [биюкузень, также, исток, реки, кача, хавалыхд...   \n",
       "829999  [ucac3, 234106607, одиночная, звезда, в, созве...   \n",
       "\n",
       "                                                   labels  \n",
       "0       [o, o, o, o, o, o, o, o, o, o, o, o, o, o, o, ...  \n",
       "1       [o, o, o, o, o, o, ,, o, o, o, ., o, o, o, o, ...  \n",
       "2       [o, o, ,, o, o, o, o, o, o, o, ,, o, o, o, o, ...  \n",
       "3       [o, o, o, o, o, o, o, ,, o, o, o, o, o, o, o, ...  \n",
       "4       [o, o, o, o, o, o, o, ., o, o, o, o, o, o, o, ...  \n",
       "...                                                   ...  \n",
       "829995  [o, o, ., o, o, o, o, o, o, o, o, o, o, o, :, ...  \n",
       "829996  [o, o, o, o, o, o, o, ., o, o, o, o, o, ., o, ...  \n",
       "829997  [o, o, o, ,, o, o, o, o, o, o, o, o, o, ., o, ...  \n",
       "829998  [o, o, o, o, ,, o, ,, o, o, o, o, ,, o, o, o, ...  \n",
       "829999  [o, o, o, o, o, o, o, o, o, o, o, o, o, o, o, ...  \n",
       "\n",
       "[830000 rows x 3 columns]"
      ]
     },
     "execution_count": 87,
     "metadata": {},
     "output_type": "execute_result"
    }
   ],
   "source": [
    "df_markup_wiki = pd.DataFrame()\n",
    "df_markup_wiki['text'] = wiki_texts\n",
    "df_markup_wiki = get_markup(df_markup_wiki)\n",
    "df_markup_wiki"
   ]
  },
  {
   "cell_type": "markdown",
   "id": "b30632ec",
   "metadata": {},
   "source": [
    "Как видно из последних примеров, тире сейчас проглатывается."
   ]
  },
  {
   "cell_type": "code",
   "execution_count": 88,
   "id": "5ba75707",
   "metadata": {},
   "outputs": [
    {
     "name": "stdout",
     "output_type": "stream",
     "text": [
      "<class 'pandas.core.frame.DataFrame'>\n",
      "RangeIndex: 857863 entries, 0 to 857862\n",
      "Data columns (total 3 columns):\n",
      " #   Column  Non-Null Count   Dtype \n",
      "---  ------  --------------   ----- \n",
      " 0   text    857863 non-null  object\n",
      " 1   tokens  857863 non-null  object\n",
      " 2   labels  857863 non-null  object\n",
      "dtypes: object(3)\n",
      "memory usage: 19.6+ MB\n"
     ]
    }
   ],
   "source": [
    "final_markup = pd.concat([df_markup, df_markup_wiki]).reset_index(drop=True)\n",
    "labels.append(token[-1]).info()"
   ]
  },
  {
   "cell_type": "code",
   "execution_count": 89,
   "id": "c5e02de9",
   "metadata": {},
   "outputs": [
    {
     "name": "stderr",
     "output_type": "stream",
     "text": [
      "100%|███████████████████████████████| 857863/857863 [00:04<00:00, 213838.82it/s]\n"
     ]
    },
    {
     "data": {
      "text/plain": [
       "Counter({'o': 30445317,\n",
       "         ',': 2748598,\n",
       "         '.': 2496043,\n",
       "         ';': 77286,\n",
       "         ':': 93630,\n",
       "         '!': 8703,\n",
       "         '?': 8793,\n",
       "         '...': 2769})"
      ]
     },
     "execution_count": 89,
     "metadata": {},
     "output_type": "execute_result"
    }
   ],
   "source": [
    "markup_stats = Counter()\n",
    "\n",
    "for row in tqdm.tqdm(final_markup.values):\n",
    "    markup_stats += Counter(row[2])\n",
    "\n",
    "markup_stats "
   ]
  },
  {
   "cell_type": "code",
   "execution_count": 91,
   "id": "e568da53",
   "metadata": {},
   "outputs": [],
   "source": [
    "data_dev, data_test = train_test_split(final_markup, test_size=0.1, random_state=999)\n",
    "data_train, data_val = train_test_split(data_dev, test_size=0.2, random_state=999)\n",
    "\n",
    "data_train.to_csv('train.csv', index=False)\n",
    "data_val.to_csv('val.csv', index=False)\n",
    "data_test.to_csv('test.csv', index=False)"
   ]
  },
  {
   "cell_type": "code",
   "execution_count": 92,
   "id": "7b08a87b",
   "metadata": {},
   "outputs": [
    {
     "name": "stderr",
     "output_type": "stream",
     "text": [
      "100%|███████████████████████████████| 617660/617660 [00:02<00:00, 206987.01it/s]\n"
     ]
    },
    {
     "data": {
      "text/plain": [
       "Counter({'o': 21911068,\n",
       "         ',': 1977130,\n",
       "         '.': 1796203,\n",
       "         ':': 67245,\n",
       "         ';': 55604,\n",
       "         '?': 6314,\n",
       "         '!': 6193,\n",
       "         '...': 1948})"
      ]
     },
     "execution_count": 92,
     "metadata": {},
     "output_type": "execute_result"
    }
   ],
   "source": [
    "markup_stats = Counter()\n",
    "\n",
    "for row in tqdm.tqdm(data_train.values):\n",
    "    markup_stats += Counter(row[2])\n",
    "\n",
    "markup_stats "
   ]
  },
  {
   "cell_type": "code",
   "execution_count": 93,
   "id": "2ff55cd5",
   "metadata": {},
   "outputs": [
    {
     "name": "stderr",
     "output_type": "stream",
     "text": [
      "100%|███████████████████████████████| 154416/154416 [00:00<00:00, 208356.03it/s]\n"
     ]
    },
    {
     "data": {
      "text/plain": [
       "Counter({'o': 5492890,\n",
       "         '.': 450557,\n",
       "         ',': 496778,\n",
       "         ':': 16996,\n",
       "         ';': 14007,\n",
       "         '?': 1625,\n",
       "         '...': 553,\n",
       "         '!': 1647})"
      ]
     },
     "execution_count": 93,
     "metadata": {},
     "output_type": "execute_result"
    }
   ],
   "source": [
    "markup_stats = Counter()\n",
    "\n",
    "for row in tqdm.tqdm(data_val.values):\n",
    "    markup_stats += Counter(row[2])\n",
    "\n",
    "markup_stats "
   ]
  },
  {
   "cell_type": "code",
   "execution_count": 94,
   "id": "7e3ba0db",
   "metadata": {},
   "outputs": [
    {
     "name": "stderr",
     "output_type": "stream",
     "text": [
      "100%|█████████████████████████████████| 85787/85787 [00:00<00:00, 204956.53it/s]\n"
     ]
    },
    {
     "data": {
      "text/plain": [
       "Counter({'o': 3041359,\n",
       "         ',': 274690,\n",
       "         '.': 249283,\n",
       "         ':': 9389,\n",
       "         ';': 7675,\n",
       "         '?': 854,\n",
       "         '...': 268,\n",
       "         '!': 863})"
      ]
     },
     "execution_count": 94,
     "metadata": {},
     "output_type": "execute_result"
    }
   ],
   "source": [
    "markup_stats = Counter()\n",
    "\n",
    "for row in tqdm.tqdm(data_test.values):\n",
    "    markup_stats += Counter(row[2])\n",
    "\n",
    "markup_stats "
   ]
  },
  {
   "cell_type": "code",
   "execution_count": null,
   "id": "c095db73",
   "metadata": {},
   "outputs": [],
   "source": []
  }
 ],
 "metadata": {
  "kernelspec": {
   "display_name": "Python 3 (ipykernel)",
   "language": "python",
   "name": "python3"
  },
  "language_info": {
   "codemirror_mode": {
    "name": "ipython",
    "version": 3
   },
   "file_extension": ".py",
   "mimetype": "text/x-python",
   "name": "python",
   "nbconvert_exporter": "python",
   "pygments_lexer": "ipython3",
   "version": "3.9.12"
  }
 },
 "nbformat": 4,
 "nbformat_minor": 5
}
