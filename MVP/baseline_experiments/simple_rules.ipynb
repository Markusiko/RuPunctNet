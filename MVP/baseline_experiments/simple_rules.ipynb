{
 "cells": [
  {
   "cell_type": "code",
   "execution_count": 164,
   "id": "5a3cc225",
   "metadata": {},
   "outputs": [],
   "source": [
    "import pandas as pd\n",
    "# from gensim.models import Word2Vec\n",
    "import tqdm\n",
    "import ast\n",
    "from collections import Counter\n",
    "from navec import Navec\n",
    "from sklearn.linear_model import LogisticRegression\n",
    "from sklearn.preprocessing import LabelEncoder\n",
    "from sklearn.metrics import confusion_matrix, roc_auc_score, top_k_accuracy_score,\\\n",
    "                            f1_score, precision_score, recall_score, average_precision_score\n",
    "from joblib import dump\n",
    "import re"
   ]
  },
  {
   "cell_type": "code",
   "execution_count": null,
   "id": "55655f00",
   "metadata": {},
   "outputs": [],
   "source": [
    "df_train = pd.read_csv('final_markup/train.csv').sample(n=20000, random_state=999)\n",
    "df_val = pd.read_csv('final_markup/val.csv').sample(n=5000, random_state=999)\n",
    "df_test = pd.read_csv('final_markup/test.csv').sample(n=5000, random_state=999)"
   ]
  },
  {
   "cell_type": "markdown",
   "id": "e121921e",
   "metadata": {},
   "source": [
    "## Простые правила"
   ]
  },
  {
   "cell_type": "markdown",
   "id": "d73fad5e",
   "metadata": {},
   "source": [
    "Единественным правилом русского языка, которое точно определяет  необходимость знака припенания и которым мы можем с точностью воспользоваться - правило вводных слов.\n",
    "\n",
    "Пробелы постараемся ставить после каждого слова, тк их как в трейне было много, так и вероятность получить прочий знак меньше, что потенциально должно улучшить метрики для базового алгоритма по правилам.\n",
    "\n",
    "Что касается порчих символов:\n",
    "- мы уверены, что точку нужно ставить в конце \n",
    "- больше никакие другие правила нам не помогут, поэтому придется экспрементировать\n"
   ]
  },
  {
   "cell_type": "code",
   "execution_count": null,
   "id": "f23f5090",
   "metadata": {},
   "outputs": [
    {
     "name": "stdout",
     "output_type": "stream",
     "text": [
      "<Response [200]>\n",
      "<title>Список вводных слов русского языка</title>\n"
     ]
    }
   ],
   "source": [
    "# Возьмем вводные слова с сайта, чтобы руками не переносить под 400 слов\n",
    "\n",
    "import requests\n",
    "from bs4 import BeautifulSoup\n",
    "\n",
    "target_url = 'https://russkiiyazyk.ru/sintaksis/spisok-vvodnyh-slov.html'\n",
    "resp = requests.get(target_url)\n",
    "print(resp)\n",
    "\n",
    "soup = BeautifulSoup(resp.text, 'html.parser')\n",
    "print(soup.title)"
   ]
  },
  {
   "cell_type": "code",
   "execution_count": null,
   "id": "8e3f445b",
   "metadata": {},
   "outputs": [],
   "source": [
    "all_comma_words_comb = soup.find_all(\"p\")\n",
    "commas_words_dict = {'smth':0}\n",
    "\n",
    "for i in range(5,len(all_comma_words_comb)):\n",
    "    if str(all_comma_words_comb[i])[:11] != '<p><strong>':\n",
    "        for word_comb in all_comma_words_comb[i].text.replace(u'\\xa0', u' ').split('\\n'):\n",
    "            try: \n",
    "                if word_comb[0] != '*' or word_comb[-1] != '*' or word_comb[0] != '\\t' or word_comb[0] != \"Δ\" or word_comb != 'Поиск' or  word_comb[0] != '2':\n",
    "                    commas_words_dict[word_comb]  = 1\n",
    "            except:\n",
    "                continue\n",
    "\n",
    "check = list(commas_words_dict.keys())[-1]\n",
    "\n",
    "while check != 'ясное дело':\n",
    "    commas_words_dict.pop(check)\n",
    "    check = list(commas_words_dict.keys())[-1]\n",
    "\n",
    "# commas_words_dict - слова, которые мы будем отделять запятыми, тк они вводные \n",
    "commas_words_dict.pop('smth')\n",
    "\n",
    "#before_commas_words_dict - попытка ввести деепричастные, причастные обороты и определенные суфиксы, перед которымы нужна запятая \n",
    "\n",
    "before_commas_words_dict = {}\n",
    "before_commas_words_dict['а'] = 1\n",
    "before_commas_words_dict['что'] = 1\n",
    "before_commas_words_dict['когда'] = 1\n",
    "before_commas_words_dict['который'] = 1\n",
    "before_commas_words_dict['которая'] = 1\n",
    "before_commas_words_dict['которое'] = 1\n",
    "before_commas_words_dict['которые'] = 1\n",
    "before_commas_words_dict['но'] = 1\n",
    "before_commas_words_dict['ущ'] = 1\n",
    "before_commas_words_dict['их'] = 1\n",
    "before_commas_words_dict['ющ'] = 1\n",
    "before_commas_words_dict['ую'] = 1\n",
    "before_commas_words_dict['ащ'] = 1\n",
    "before_commas_words_dict['ом'] = 1\n",
    "before_commas_words_dict['ем'] = 1\n",
    "before_commas_words_dict['вш'] = 1\n"
   ]
  },
  {
   "cell_type": "markdown",
   "id": "775754c1",
   "metadata": {},
   "source": [
    "Дальше продложено 2 алгоритма:\n",
    "1) На основание только словарей выше и добавления точки в конце\n",
    "2) Во втором берется вероятность возникновения определенного символо как в трейне (чтобы учесть ?, ! и тд, которые в правилах мы никак не описываем). Причем это дополнение 1 подхода, поэтому больший вес в пресказания вносят словари выше, поэтому и качество определения запятой просесть не должно "
   ]
  },
  {
   "cell_type": "code",
   "execution_count": 343,
   "id": "a29011fd",
   "metadata": {},
   "outputs": [],
   "source": [
    "import ast \n",
    "from scipy.stats import bernoulli\n",
    "import random\n",
    "\n",
    "class dumb_model():\n",
    "    def __init__(self, data, type) -> list:\n",
    "        self.data = data.text.apply(lambda x: x.split())\n",
    "        self.type = type\n",
    "\n",
    "        if type == 'vera': \n",
    "            punct_dict = {\n",
    "                'total_words' : 0,\n",
    "                ',' : 0,\n",
    "                ':' : 0,\n",
    "                ';' : 0,\n",
    "                '.' : 0,\n",
    "                '!' : 0,\n",
    "                '?' : 0,\n",
    "                '...' : 0\n",
    "            }\n",
    "            enctryption = {1:':',2:';',3:\".\",4:\"!\",5:\"?\",6:'...'}\n",
    "\n",
    "            for lst in self.data:\n",
    "                for ind in range(len(lst)):\n",
    "                    if lst[ind][-1] in punct_dict:\n",
    "                        punct_dict[lst[ind][-1]] += 1\n",
    "                    punct_dict['total_words'] += 1 \n",
    "            self.punct_dict = punct_dict   \n",
    "            self.enctryption = enctryption\n",
    "        \n",
    "    def transform(self, string):\n",
    "        string = ast.literal_eval(string)\n",
    "        if self.type == 'dict':\n",
    "            res = ['']\n",
    "            for i in range(len(string)):\n",
    "                if commas_words_dict.get(string[i], 0) == 1 and i == 0:\n",
    "                    res.append(string[i] + \",\")\n",
    "                elif commas_words_dict.get(string[i], 0) == 1 and i != 0:\n",
    "                    previous = res.pop()\n",
    "                    res.append(previous+\",\")\n",
    "                    res.append(string[i]+\",\")\n",
    "                else:\n",
    "                    if before_commas_words_dict.get(string[i], 0) == 1 and i != 0:\n",
    "                        previous = res.pop()\n",
    "                        res.append(previous+\",\")\n",
    "                        res.append(string[i])\n",
    "                    elif len(string[i]) > 2:\n",
    "                        if before_commas_words_dict.get(string[i][-2:], 0) == 1 and string[i][-2:] != string[i]:\n",
    "                            previous = res.pop()\n",
    "                            res.append(previous+\",\")\n",
    "                            res.append(string[i])\n",
    "                        elif string[i] == 'г':\n",
    "                            res.append(string[i]+\".\")\n",
    "                        else:\n",
    "                            res.append(string[i])\n",
    "                    else:\n",
    "                        res.append(string[i])\n",
    "            res = \" \".join(res)\n",
    "            if res[-1] in ',;:':\n",
    "                return res[1:-1]+'.'\n",
    "            else:\n",
    "                return res[1:] +'.'\n",
    "        \n",
    "        elif self.type == 'vera':\n",
    "            res = ''\n",
    "            for i in range(len(string)):\n",
    "                flag_dict = {',':0, '.':0, ':':0, ';':0, '?':0, '!':0, 'before_,':0}\n",
    "                if commas_words_dict.get(string[i], 0) == 1 and i == 0:\n",
    "                    flag_dict[','] += 1\n",
    "                elif commas_words_dict.get(string[i], 0) == 1 and i != 0:\n",
    "                    flag_dict['before_,'] += 1\n",
    "                    flag_dict[','] += 1\n",
    "                else:\n",
    "                    if before_commas_words_dict.get(string[i], 0) == 1 and i != 0:\n",
    "                        flag_dict['before_,'] += 1\n",
    "                    elif len(string[i]) > 2:\n",
    "                        if before_commas_words_dict.get(string[i][-2:], 0) == 1 and string[i][-2:] != string[i]:\n",
    "                            flag_dict['before_,'] += 1\n",
    "                        if string[i] == 'г':\n",
    "                            flag_dict['.'] += 1\n",
    "                right = ''\n",
    "                left = ' '\n",
    "\n",
    "                if bernoulli.rvs(size=1,p=(sum(self.punct_dict.values()) - self.punct_dict['total_words'])/self.punct_dict['total_words'])[0] == 1 or sum(flag_dict.values()) > 1:\n",
    "                    if  flag_dict['before_,'] > 0:\n",
    "                        left = ', '\n",
    "                    if bernoulli.rvs(size=1,p=self.punct_dict[',']/self.punct_dict['total_words'])[0] == 1 or flag_dict[','] > 0:\n",
    "                        right = ','\n",
    "                    else:\n",
    "                        mark = self.enctryption.get(random.choices(list(self.enctryption.keys()), weights=list(self.punct_dict.values())[2:], k=1)[0], '')\n",
    "                        if mark == '.' or flag_dict['.'] > 0:\n",
    "                            right = '.'\n",
    "                        else:\n",
    "                            right = mark\n",
    "                res += left + string[i] + right\n",
    "            if res[0] == ' ':\n",
    "                res = res[1:]\n",
    "            if res[-1] in ',:;':\n",
    "                return res[:-1] + self.enctryption.get(random.choices(list(self.enctryption.keys())[2:], weights=list(self.punct_dict.values())[4:], k=1)[0], '.')\n",
    "            else:\n",
    "                return res + '.'"
   ]
  },
  {
   "cell_type": "code",
   "execution_count": 344,
   "id": "a0330e43",
   "metadata": {},
   "outputs": [
    {
     "name": "stdout",
     "output_type": "stream",
     "text": [
      "Original text       :  Теперь известные как Алая Ведьма и Ртуть, Ванда и Пьетро сопровождали Магнето и стали его верными подручными мутантами в его поисках могущества, сталкиваясь с героями Людьми Икс. Спустя некоторое время брат и сестра, разочарованные в Магнето и чувствуя, что их долг благодарности уже был вдоволь заплачен, решили расстаться с их прежними террористическими действиями; вместе с лучником и бывшим преступником Соколиным Глазом они присоединились к Мстителям под предводительством Капитана Америки. Как член этой четвёрки, первой реорганизации всё ещё молодой команды супергероев, Алая Ведьма безупречно сражалась против Доктора Дума, Человека-крота, Канга и других.\n",
      "Probability aproach :  теперь известные как: алая ведьма и ртуть. ванда. и пьетро сопровождали магнето. и. стали его верными, подручными мутантами в его поисках могущества сталкиваясь с героями людьми икс. спустя некоторое время брат и сестра. разочарованные. в магнето и чувствуя. что их долг. благодарности уже был вдоволь заплачен решили расстаться с их прежними. террористическими действиями. вместе с лучником и бывшим, преступником. соколиным глазом они. присоединились к мстителям под., предводительством. капитана америки как, член этой четвёрки. первой реорганизации всё ещё молодой команды. супергероев алая ведьма безупречно сражалась против доктора дума человекакрота. канга и других.\n",
      "Dictionary aproach  :  теперь известные как алая ведьма и ртуть ванда и пьетро сопровождали магнето и стали его верными подручными мутантами в его поисках могущества сталкиваясь с героями людьми икс спустя некоторое время брат и сестра разочарованные в магнето и чувствуя, что, их долг благодарности уже был вдоволь заплачен решили расстаться с, их прежними террористическими действиями вместе с, лучником и бывшим, преступником соколиным, глазом они присоединились к мстителям под, предводительством капитана америки как член этой четвёрки первой реорганизации всё ещё молодой команды супергероев алая ведьма, безупречно сражалась против доктора дума человекакрота канга и, других.\n"
     ]
    }
   ],
   "source": [
    "print(\"Original text       : \", df_test['text'].iloc[0])\n",
    "print(\"Probability aproach : \", dumb_model(df_train, type = 'vera').transform(df_test['tokens'].iloc[0]))\n",
    "print(\"Dictionary aproach  : \", dumb_model(df_train, type = 'dict').transform(df_test['tokens'].iloc[0]))"
   ]
  },
  {
   "cell_type": "markdown",
   "id": "807f381f",
   "metadata": {},
   "source": [
    "Подход через словари хорошо определяет запятые, но он не учитывает сложные предложения, тк в нем не закладывалось определение подлежащего и сказуемого. Однако это самый простой подъод и давайте прогоним его по тесту"
   ]
  },
  {
   "cell_type": "code",
   "execution_count": 369,
   "id": "5d558ab2",
   "metadata": {},
   "outputs": [],
   "source": [
    "def get_data_for_metrics(df_train, df_test):\n",
    "    model_pr = dumb_model(df_train, type = 'vera')\n",
    "    model_dc = dumb_model(df_train, type = 'dict')\n",
    "\n",
    "    df_test['model_probs_pred'] = df_test.tokens.apply(lambda x: model_pr.transform(x))\n",
    "    df_test['model_dict_pred'] = df_test.tokens.apply(lambda x: model_dc.transform(x))\n",
    "\n",
    "    enctryption = {0:\",\",1:':',2:';',3:\".\",4:\"!\",5:\"?\",6:'...'}\n",
    "    back_enctryption = {\",\":0,':':1,';':2,\".\":3,\"!\":4,\"?\":5,'...':6,}\n",
    "    \n",
    "    def transform_to_labels(data, back_enctryption):\n",
    "        output = []\n",
    "        for sentence in data:\n",
    "            for word in sentence.split():\n",
    "                if word != \"\":\n",
    "                    if word[-1] in back_enctryption:\n",
    "                        output.append(back_enctryption[word[-1]])\n",
    "                    else:\n",
    "                        output.append(7)\n",
    "        return np.array(output)\n",
    "    \n",
    "    \n",
    "    return transform_to_labels(df_test.text, back_enctryption), transform_to_labels(df_test['model_probs_pred'], back_enctryption), transform_to_labels(df_test['model_dict_pred'], back_enctryption)\n",
    "            \n",
    "    "
   ]
  },
  {
   "cell_type": "code",
   "execution_count": 370,
   "id": "caf09b69",
   "metadata": {},
   "outputs": [],
   "source": [
    "y_true, y_pred_prob, y_pred = get_data_for_metrics(df_train, df_test)"
   ]
  },
  {
   "cell_type": "code",
   "execution_count": 371,
   "id": "42ee9789",
   "metadata": {},
   "outputs": [
    {
     "data": {
      "text/plain": [
       "(211021, 211021, 211021)"
      ]
     },
     "execution_count": 371,
     "metadata": {},
     "output_type": "execute_result"
    }
   ],
   "source": [
    "len(y_true), len(y_pred_prob), len(y_pred)"
   ]
  },
  {
   "cell_type": "code",
   "execution_count": 413,
   "id": "d5839316",
   "metadata": {},
   "outputs": [],
   "source": [
    "def calc_metrics(y_true, y_pred):\n",
    "    y_true = np.array(y_true)\n",
    "    y_pred = np.array(y_pred)\n",
    "    print('Доля пробелов:', (y_true == 7).mean())\n",
    "    metrics = []\n",
    "    enctryption = {0:\",\",1:':',2:';',3:\".\",4:\"!\",5:\"?\",6:'...', 7:'o'}\n",
    "    sorted_dict = {enctryption[i[0]] : i[1] for i in sorted(Counter(y_true).items())}\n",
    "    \n",
    "    metrics.append(sorted_dict.values())\n",
    "    metrics.append(f1_score(y_true, y_pred, average=None))\n",
    "    metrics.append(precision_score(y_true, y_pred, average=None, zero_division=0))\n",
    "    metrics.append(recall_score(y_true, y_pred, average=None, zero_division=0))\n",
    "    metrics_index = ['Count', 'F1-Score', 'Precision', 'Recall']\n",
    "    df_metrics = pd.DataFrame(metrics, columns=sorted_dict.keys(), index=metrics_index)\n",
    "    \n",
    "    return df_metrics"
   ]
  },
  {
   "cell_type": "code",
   "execution_count": 414,
   "id": "fc3a40b9",
   "metadata": {},
   "outputs": [
    {
     "name": "stdout",
     "output_type": "stream",
     "text": [
      "Доля пробелов: 0.851773046284493\n"
     ]
    },
    {
     "data": {
      "text/html": [
       "<div>\n",
       "<style scoped>\n",
       "    .dataframe tbody tr th:only-of-type {\n",
       "        vertical-align: middle;\n",
       "    }\n",
       "\n",
       "    .dataframe tbody tr th {\n",
       "        vertical-align: top;\n",
       "    }\n",
       "\n",
       "    .dataframe thead th {\n",
       "        text-align: right;\n",
       "    }\n",
       "</style>\n",
       "<table border=\"1\" class=\"dataframe\">\n",
       "  <thead>\n",
       "    <tr style=\"text-align: right;\">\n",
       "      <th></th>\n",
       "      <th>,</th>\n",
       "      <th>:</th>\n",
       "      <th>;</th>\n",
       "      <th>.</th>\n",
       "      <th>!</th>\n",
       "      <th>?</th>\n",
       "      <th>o</th>\n",
       "    </tr>\n",
       "  </thead>\n",
       "  <tbody>\n",
       "    <tr>\n",
       "      <th>Count</th>\n",
       "      <td>15674.000000</td>\n",
       "      <td>560.0</td>\n",
       "      <td>510.0</td>\n",
       "      <td>14458.000000</td>\n",
       "      <td>30.0</td>\n",
       "      <td>47.0</td>\n",
       "      <td>179742.000000</td>\n",
       "    </tr>\n",
       "    <tr>\n",
       "      <th>F1-Score</th>\n",
       "      <td>0.076916</td>\n",
       "      <td>0.0</td>\n",
       "      <td>0.0</td>\n",
       "      <td>0.033200</td>\n",
       "      <td>0.0</td>\n",
       "      <td>0.0</td>\n",
       "      <td>0.874524</td>\n",
       "    </tr>\n",
       "    <tr>\n",
       "      <th>Precision</th>\n",
       "      <td>0.075068</td>\n",
       "      <td>0.0</td>\n",
       "      <td>0.0</td>\n",
       "      <td>0.064600</td>\n",
       "      <td>0.0</td>\n",
       "      <td>0.0</td>\n",
       "      <td>0.851885</td>\n",
       "    </tr>\n",
       "    <tr>\n",
       "      <th>Recall</th>\n",
       "      <td>0.078857</td>\n",
       "      <td>0.0</td>\n",
       "      <td>0.0</td>\n",
       "      <td>0.022341</td>\n",
       "      <td>0.0</td>\n",
       "      <td>0.0</td>\n",
       "      <td>0.898399</td>\n",
       "    </tr>\n",
       "  </tbody>\n",
       "</table>\n",
       "</div>"
      ],
      "text/plain": [
       "                      ,      :      ;             .     !     ?              o\n",
       "Count      15674.000000  560.0  510.0  14458.000000  30.0  47.0  179742.000000\n",
       "F1-Score       0.076916    0.0    0.0      0.033200   0.0   0.0       0.874524\n",
       "Precision      0.075068    0.0    0.0      0.064600   0.0   0.0       0.851885\n",
       "Recall         0.078857    0.0    0.0      0.022341   0.0   0.0       0.898399"
      ]
     },
     "execution_count": 414,
     "metadata": {},
     "output_type": "execute_result"
    }
   ],
   "source": [
    "# Via dictionary aproach\n",
    "\n",
    "calc_metrics(y_true, y_pred)"
   ]
  },
  {
   "cell_type": "code",
   "execution_count": 415,
   "id": "686d10fb",
   "metadata": {},
   "outputs": [
    {
     "name": "stdout",
     "output_type": "stream",
     "text": [
      "Доля пробелов: 0.851773046284493\n"
     ]
    },
    {
     "data": {
      "text/html": [
       "<div>\n",
       "<style scoped>\n",
       "    .dataframe tbody tr th:only-of-type {\n",
       "        vertical-align: middle;\n",
       "    }\n",
       "\n",
       "    .dataframe tbody tr th {\n",
       "        vertical-align: top;\n",
       "    }\n",
       "\n",
       "    .dataframe thead th {\n",
       "        text-align: right;\n",
       "    }\n",
       "</style>\n",
       "<table border=\"1\" class=\"dataframe\">\n",
       "  <thead>\n",
       "    <tr style=\"text-align: right;\">\n",
       "      <th></th>\n",
       "      <th>,</th>\n",
       "      <th>:</th>\n",
       "      <th>;</th>\n",
       "      <th>.</th>\n",
       "      <th>!</th>\n",
       "      <th>?</th>\n",
       "      <th>o</th>\n",
       "    </tr>\n",
       "  </thead>\n",
       "  <tbody>\n",
       "    <tr>\n",
       "      <th>Count</th>\n",
       "      <td>15674.000000</td>\n",
       "      <td>560.000000</td>\n",
       "      <td>510.000000</td>\n",
       "      <td>14458.000000</td>\n",
       "      <td>30.0</td>\n",
       "      <td>47.0</td>\n",
       "      <td>179742.000000</td>\n",
       "    </tr>\n",
       "    <tr>\n",
       "      <th>F1-Score</th>\n",
       "      <td>0.042103</td>\n",
       "      <td>0.002497</td>\n",
       "      <td>0.003044</td>\n",
       "      <td>0.096942</td>\n",
       "      <td>0.0</td>\n",
       "      <td>0.0</td>\n",
       "      <td>0.831920</td>\n",
       "    </tr>\n",
       "    <tr>\n",
       "      <th>Precision</th>\n",
       "      <td>0.070655</td>\n",
       "      <td>0.001919</td>\n",
       "      <td>0.002488</td>\n",
       "      <td>0.071174</td>\n",
       "      <td>0.0</td>\n",
       "      <td>0.0</td>\n",
       "      <td>0.851921</td>\n",
       "    </tr>\n",
       "    <tr>\n",
       "      <th>Recall</th>\n",
       "      <td>0.029986</td>\n",
       "      <td>0.003571</td>\n",
       "      <td>0.003922</td>\n",
       "      <td>0.151957</td>\n",
       "      <td>0.0</td>\n",
       "      <td>0.0</td>\n",
       "      <td>0.812837</td>\n",
       "    </tr>\n",
       "  </tbody>\n",
       "</table>\n",
       "</div>"
      ],
      "text/plain": [
       "                      ,           :           ;             .     !     ?  \\\n",
       "Count      15674.000000  560.000000  510.000000  14458.000000  30.0  47.0   \n",
       "F1-Score       0.042103    0.002497    0.003044      0.096942   0.0   0.0   \n",
       "Precision      0.070655    0.001919    0.002488      0.071174   0.0   0.0   \n",
       "Recall         0.029986    0.003571    0.003922      0.151957   0.0   0.0   \n",
       "\n",
       "                       o  \n",
       "Count      179742.000000  \n",
       "F1-Score        0.831920  \n",
       "Precision       0.851921  \n",
       "Recall          0.812837  "
      ]
     },
     "execution_count": 415,
     "metadata": {},
     "output_type": "execute_result"
    }
   ],
   "source": [
    "# Via probability aproach\n",
    "\n",
    "calc_metrics(y_true, y_pred_prob)"
   ]
  },
  {
   "cell_type": "markdown",
   "id": "2e81b461",
   "metadata": {},
   "source": [
    "Итого: \n",
    "\n",
    "- F1-Score как и предполагалось в определение пробелов больше в подходе без вероятностей, тк мы захломляем текст ненужными знаками\n",
    "- Однако только в вероятностном подходе мы как-то учитываем прочие знаки препинание (помимо точки и запятой)\n",
    "- Подходы конечно не айс, но F1-Score запятой побили в сравнение с лог регрессией) Остальные метрики победить не смогли, но мы не останавливаемся\n",
    "\n"
   ]
  }
 ],
 "metadata": {
  "kernelspec": {
   "display_name": "Python 3 (ipykernel)",
   "language": "python",
   "name": "python3"
  },
  "language_info": {
   "codemirror_mode": {
    "name": "ipython",
    "version": 3
   },
   "file_extension": ".py",
   "mimetype": "text/x-python",
   "name": "python",
   "nbconvert_exporter": "python",
   "pygments_lexer": "ipython3",
   "version": "3.11.4"
  }
 },
 "nbformat": 4,
 "nbformat_minor": 5
}
