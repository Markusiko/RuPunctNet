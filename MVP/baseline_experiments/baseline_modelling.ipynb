{
 "cells": [
  {
   "cell_type": "code",
   "execution_count": 1,
   "id": "5a3cc225",
   "metadata": {},
   "outputs": [
    {
     "name": "stderr",
     "output_type": "stream",
     "text": [
      "<frozen importlib._bootstrap>:228: RuntimeWarning: scipy._lib.messagestream.MessageStream size changed, may indicate binary incompatibility. Expected 56 from C header, got 64 from PyObject\n"
     ]
    }
   ],
   "source": [
    "import pandas as pd\n",
    "# from gensim.models import Word2Vec\n",
    "import tqdm\n",
    "import ast\n",
    "from navec import Navec\n",
    "from sklearn.linear_model import LogisticRegression\n",
    "from sklearn.preprocessing import LabelEncoder"
   ]
  },
  {
   "cell_type": "code",
   "execution_count": 2,
   "id": "55655f00",
   "metadata": {},
   "outputs": [],
   "source": [
    "df_train = pd.read_csv('final_markup/train.csv')\n",
    "df_test = pd.read_csv('final_markup/test.csv')"
   ]
  },
  {
   "cell_type": "code",
   "execution_count": 3,
   "id": "6eebcbba",
   "metadata": {},
   "outputs": [],
   "source": [
    "# !wget https://storage.yandexcloud.net/natasha-navec/packs/navec_hudlit_v1_12B_500K_300d_100q.tar"
   ]
  },
  {
   "cell_type": "code",
   "execution_count": 4,
   "id": "756eebaa",
   "metadata": {},
   "outputs": [],
   "source": [
    "path = 'navec_hudlit_v1_12B_500K_300d_100q.tar'\n",
    "navec = Navec.load(path)"
   ]
  },
  {
   "cell_type": "code",
   "execution_count": 5,
   "id": "aa4cf75b",
   "metadata": {},
   "outputs": [],
   "source": [
    "def get_embeds(data):\n",
    "\n",
    "    data_lst = []\n",
    "\n",
    "    for i in tqdm.tqdm(data):\n",
    "        list_of_words = ast.literal_eval(i[1])\n",
    "        list_of_targets = ast.literal_eval(i[2])\n",
    "    \n",
    "        for i in range(len(list_of_targets)):\n",
    "            try:\n",
    "                data_lst.append([*navec[list_of_words[i]], list_of_targets[i]])\n",
    "            except:\n",
    "                data_lst.append([*navec['<unk>'], list_of_targets[i]])\n",
    "                \n",
    "    return pd.DataFrame(data_lst, \n",
    "                        columns=[f'embed_{i}' for i in range(300)] + ['target'])\n",
    "    "
   ]
  },
  {
   "cell_type": "code",
   "execution_count": 6,
   "id": "284bb941",
   "metadata": {},
   "outputs": [
    {
     "name": "stderr",
     "output_type": "stream",
     "text": [
      "100%|████████████████████████████████████| 20000/20000 [00:41<00:00, 483.93it/s]\n",
      "100%|██████████████████████████████████████| 5000/5000 [00:07<00:00, 640.93it/s]\n"
     ]
    },
    {
     "name": "stdout",
     "output_type": "stream",
     "text": [
      "CPU times: user 2min 47s, sys: 53.9 s, total: 3min 41s\n",
      "Wall time: 4min 32s\n"
     ]
    }
   ],
   "source": [
    "%%time\n",
    "\n",
    "train_embed = get_embeds(df_train.sample(n=20000, random_state=999).values)\n",
    "test_embed = get_embeds(df_test.sample(n=5000, random_state=999).values)"
   ]
  },
  {
   "cell_type": "code",
   "execution_count": 7,
   "id": "e514760e",
   "metadata": {},
   "outputs": [
    {
     "data": {
      "text/plain": [
       "(838808, 211519)"
      ]
     },
     "execution_count": 7,
     "metadata": {},
     "output_type": "execute_result"
    }
   ],
   "source": [
    "len(train_embed), len(test_embed)"
   ]
  },
  {
   "cell_type": "code",
   "execution_count": 8,
   "id": "3b122084",
   "metadata": {},
   "outputs": [],
   "source": [
    "le = LabelEncoder().fit(train_embed['target'])\n",
    "\n",
    "model = LogisticRegression(max_iter=10000).fit(train_embed.drop('target', axis=1),\n",
    "                                 le.transform(train_embed['target']))"
   ]
  },
  {
   "cell_type": "code",
   "execution_count": 9,
   "id": "1fc06e72",
   "metadata": {},
   "outputs": [],
   "source": [
    "y_pred = model.predict(test_embed.drop('target', axis=1))\n",
    "y_pred_proba = model.predict_proba(test_embed.drop('target', axis=1))\n",
    "y_true = le.transform(test_embed['target'])"
   ]
  },
  {
   "cell_type": "code",
   "execution_count": 10,
   "id": "6d85ed1c",
   "metadata": {},
   "outputs": [
    {
     "name": "stdout",
     "output_type": "stream",
     "text": [
      "0.7555137348366741\n",
      "0.8544527914749975\n"
     ]
    },
    {
     "data": {
      "text/plain": [
       "array([[     0,      0,      1,      0,      0,      0,      0,     47],\n",
       "       [     0,      1,     74,      0,      0,      0,      0,  15869],\n",
       "       [     0,      1,   1157,      0,      0,      0,      0,  13496],\n",
       "       [     0,      0,      0,      0,      0,      0,      0,     11],\n",
       "       [     0,      0,      4,      0,      0,      0,      0,    563],\n",
       "       [     0,      1,      9,      0,      0,      0,      0,    502],\n",
       "       [     0,      0,      0,      0,      0,      0,      0,     54],\n",
       "       [     0,     10,    144,      0,      0,      0,      0, 179575]])"
      ]
     },
     "execution_count": 10,
     "metadata": {},
     "output_type": "execute_result"
    }
   ],
   "source": [
    "from sklearn.metrics import confusion_matrix, roc_auc_score, top_k_accuracy_score\n",
    "\n",
    "print(roc_auc_score(y_true, y_pred_proba, multi_class='ovr'))\n",
    "print(top_k_accuracy_score(y_true, y_pred_proba, k=1))\n",
    "confusion_matrix(y_true, y_pred)"
   ]
  },
  {
   "cell_type": "code",
   "execution_count": 11,
   "id": "84cb5aa6",
   "metadata": {},
   "outputs": [
    {
     "data": {
      "text/plain": [
       "array(['!', ',', '.', '...', ':', ';', '?', 'o'], dtype=object)"
      ]
     },
     "execution_count": 11,
     "metadata": {},
     "output_type": "execute_result"
    }
   ],
   "source": [
    "le.classes_"
   ]
  },
  {
   "cell_type": "code",
   "execution_count": 12,
   "id": "f3c60c65",
   "metadata": {},
   "outputs": [
    {
     "data": {
      "text/plain": [
       "target\n",
       "o      0.849706\n",
       ",      0.075379\n",
       ".      0.069280\n",
       ":      0.002681\n",
       ";      0.002421\n",
       "?      0.000255\n",
       "!      0.000227\n",
       "...    0.000052\n",
       "Name: proportion, dtype: float64"
      ]
     },
     "execution_count": 12,
     "metadata": {},
     "output_type": "execute_result"
    }
   ],
   "source": [
    "test_embed['target'].value_counts(normalize=True)"
   ]
  },
  {
   "cell_type": "code",
   "execution_count": 83,
   "id": "29e2cdbd",
   "metadata": {},
   "outputs": [],
   "source": [
    "from joblib import dump\n",
    "\n",
    "dump(le, 'le.joblib')\n",
    "dump(model, 'log_reg.joblib')\n",
    "dump(navec, 'navec.joblib');"
   ]
  },
  {
   "cell_type": "code",
   "execution_count": 71,
   "id": "2ba2cd42",
   "metadata": {},
   "outputs": [],
   "source": [
    "import re\n",
    "def preprocess_input(line):\n",
    "    \n",
    "    # обработка сообщения\n",
    "    line = re.sub('– ', '', line)\n",
    "    line = re.sub('— ', '', line)\n",
    "#     line = re.sub('\\(', '', line)\n",
    "#     line = re.sub('\\)', '', line)\n",
    "    line = re.sub('\"', '', line)\n",
    "    line = line.lower()\n",
    "    line = re.sub(\"[^\\w\\s]\", '', line)\n",
    "    line = re.sub('\\s+', ' ', line)\n",
    "    \n",
    "    # разбиение на токены и преобразование в эмбеддинги\n",
    "    tokens = [token for token in line.split(' ') if token != '']\n",
    "    embeds = []\n",
    "    \n",
    "    for i in tokens:\n",
    "        try:\n",
    "            embeds.append(navec[i])\n",
    "        except:\n",
    "            embeds.append(navec['<unk>'])\n",
    "\n",
    "    embed_df = pd.DataFrame(embeds, columns=[f'embed_{i}' for i in range(300)])\n",
    "            \n",
    "    # предсказания модели\n",
    "    preds = le.inverse_transform(model.predict(embed_df))\n",
    "    answer = ''\n",
    "    flg_new_sent = 1\n",
    "    \n",
    "    for i in range(len(preds)):\n",
    "        token_to_add = tokens[i]\n",
    "        \n",
    "        if flg_new_sent:\n",
    "            token_to_add = token_to_add[0].upper() + token_to_add[1:]\n",
    "        \n",
    "        if preds[i] != 'o':\n",
    "            token_to_add += preds[i]\n",
    "        \n",
    "        answer += token_to_add\n",
    "        \n",
    "        if preds[i] in ['?', '...', '.', '!']:\n",
    "            flg_new_sent = 1\n",
    "        else:\n",
    "            flg_new_sent = 0\n",
    "            \n",
    "            # если в конце нет завершающего знака, то ставим его\n",
    "            if i == (len(preds) - 1):\n",
    "                answer += '.'\n",
    "                \n",
    "        answer += ' '\n",
    "            \n",
    "    return answer.strip()\n"
   ]
  },
  {
   "cell_type": "code",
   "execution_count": null,
   "id": "43408a97",
   "metadata": {},
   "outputs": [],
   "source": []
  },
  {
   "cell_type": "code",
   "execution_count": 84,
   "id": "e2490b6c",
   "metadata": {},
   "outputs": [
    {
     "name": "stdout",
     "output_type": "stream",
     "text": [
      "Collecting punctuators\n",
      "  Downloading punctuators-0.0.5-py3-none-any.whl.metadata (322 bytes)\n",
      "Collecting onnxruntime (from punctuators)\n",
      "  Downloading onnxruntime-1.16.3-cp39-cp39-macosx_10_15_x86_64.whl.metadata (4.3 kB)\n",
      "Requirement already satisfied: torch>=1.9 in /Users/markymark/opt/anaconda3/lib/python3.9/site-packages (from punctuators) (2.0.1)\n",
      "Requirement already satisfied: sentencepiece in /Users/markymark/opt/anaconda3/lib/python3.9/site-packages (from punctuators) (0.1.97)\n",
      "Requirement already satisfied: huggingface-hub in /Users/markymark/opt/anaconda3/lib/python3.9/site-packages (from punctuators) (0.16.4)\n",
      "Collecting omegaconf (from punctuators)\n",
      "  Downloading omegaconf-2.3.0-py3-none-any.whl (79 kB)\n",
      "\u001b[2K     \u001b[90m━━━━━━━━━━━━━━━━━━━━━━━━━━━━━━━━━━━━━━━━\u001b[0m \u001b[32m79.5/79.5 kB\u001b[0m \u001b[31m1.1 MB/s\u001b[0m eta \u001b[36m0:00:00\u001b[0ma \u001b[36m0:00:01\u001b[0m\n",
      "\u001b[?25hRequirement already satisfied: numpy in /Users/markymark/opt/anaconda3/lib/python3.9/site-packages (from punctuators) (1.25.1)\n",
      "Requirement already satisfied: filelock in /Users/markymark/opt/anaconda3/lib/python3.9/site-packages (from torch>=1.9->punctuators) (3.6.0)\n",
      "Requirement already satisfied: typing-extensions in /Users/markymark/opt/anaconda3/lib/python3.9/site-packages (from torch>=1.9->punctuators) (4.8.0)\n",
      "Requirement already satisfied: sympy in /Users/markymark/opt/anaconda3/lib/python3.9/site-packages (from torch>=1.9->punctuators) (1.10.1)\n",
      "Requirement already satisfied: networkx in /Users/markymark/opt/anaconda3/lib/python3.9/site-packages (from torch>=1.9->punctuators) (2.7.1)\n",
      "Requirement already satisfied: jinja2 in /Users/markymark/opt/anaconda3/lib/python3.9/site-packages (from torch>=1.9->punctuators) (2.11.3)\n",
      "Requirement already satisfied: fsspec in /Users/markymark/opt/anaconda3/lib/python3.9/site-packages (from huggingface-hub->punctuators) (2022.2.0)\n",
      "Requirement already satisfied: requests in /Users/markymark/opt/anaconda3/lib/python3.9/site-packages (from huggingface-hub->punctuators) (2.27.1)\n",
      "Requirement already satisfied: tqdm>=4.42.1 in /Users/markymark/opt/anaconda3/lib/python3.9/site-packages (from huggingface-hub->punctuators) (4.64.0)\n",
      "Requirement already satisfied: pyyaml>=5.1 in /Users/markymark/opt/anaconda3/lib/python3.9/site-packages (from huggingface-hub->punctuators) (6.0)\n",
      "Requirement already satisfied: packaging>=20.9 in /Users/markymark/opt/anaconda3/lib/python3.9/site-packages (from huggingface-hub->punctuators) (21.3)\n",
      "Collecting antlr4-python3-runtime==4.9.* (from omegaconf->punctuators)\n",
      "  Downloading antlr4-python3-runtime-4.9.3.tar.gz (117 kB)\n",
      "\u001b[2K     \u001b[90m━━━━━━━━━━━━━━━━━━━━━━━━━━━━━━━━━━━━━━━\u001b[0m \u001b[32m117.0/117.0 kB\u001b[0m \u001b[31m3.1 MB/s\u001b[0m eta \u001b[36m0:00:00\u001b[0ma \u001b[36m0:00:01\u001b[0m\n",
      "\u001b[?25h  Preparing metadata (setup.py) ... \u001b[?25ldone\n",
      "\u001b[?25hCollecting coloredlogs (from onnxruntime->punctuators)\n",
      "  Downloading coloredlogs-15.0.1-py2.py3-none-any.whl (46 kB)\n",
      "\u001b[2K     \u001b[90m━━━━━━━━━━━━━━━━━━━━━━━━━━━━━━━━━━━━━━━\u001b[0m \u001b[32m46.0/46.0 kB\u001b[0m \u001b[31m701.6 kB/s\u001b[0m eta \u001b[36m0:00:00\u001b[0ma \u001b[36m0:00:01\u001b[0m\n",
      "\u001b[?25hRequirement already satisfied: flatbuffers in /Users/markymark/opt/anaconda3/lib/python3.9/site-packages (from onnxruntime->punctuators) (2.0.7)\n",
      "Requirement already satisfied: protobuf in /Users/markymark/opt/anaconda3/lib/python3.9/site-packages (from onnxruntime->punctuators) (3.19.1)\n",
      "Requirement already satisfied: pyparsing!=3.0.5,>=2.0.2 in /Users/markymark/opt/anaconda3/lib/python3.9/site-packages (from packaging>=20.9->huggingface-hub->punctuators) (3.0.4)\n",
      "Collecting humanfriendly>=9.1 (from coloredlogs->onnxruntime->punctuators)\n",
      "  Downloading humanfriendly-10.0-py2.py3-none-any.whl (86 kB)\n",
      "\u001b[2K     \u001b[90m━━━━━━━━━━━━━━━━━━━━━━━━━━━━━━━━━━━━━━━━\u001b[0m \u001b[32m86.8/86.8 kB\u001b[0m \u001b[31m1.9 MB/s\u001b[0m eta \u001b[36m0:00:00\u001b[0ma \u001b[36m0:00:01\u001b[0m\n",
      "\u001b[?25hRequirement already satisfied: MarkupSafe>=0.23 in /Users/markymark/opt/anaconda3/lib/python3.9/site-packages (from jinja2->torch>=1.9->punctuators) (2.0.1)\n",
      "Requirement already satisfied: urllib3<1.27,>=1.21.1 in /Users/markymark/opt/anaconda3/lib/python3.9/site-packages (from requests->huggingface-hub->punctuators) (1.26.9)\n",
      "Requirement already satisfied: certifi>=2017.4.17 in /Users/markymark/opt/anaconda3/lib/python3.9/site-packages (from requests->huggingface-hub->punctuators) (2023.5.7)\n",
      "Requirement already satisfied: charset-normalizer~=2.0.0 in /Users/markymark/opt/anaconda3/lib/python3.9/site-packages (from requests->huggingface-hub->punctuators) (2.0.4)\n",
      "Requirement already satisfied: idna<4,>=2.5 in /Users/markymark/opt/anaconda3/lib/python3.9/site-packages (from requests->huggingface-hub->punctuators) (3.3)\n",
      "Requirement already satisfied: mpmath>=0.19 in /Users/markymark/opt/anaconda3/lib/python3.9/site-packages (from sympy->torch>=1.9->punctuators) (1.2.1)\n",
      "Downloading punctuators-0.0.5-py3-none-any.whl (10 kB)\n",
      "Downloading onnxruntime-1.16.3-cp39-cp39-macosx_10_15_x86_64.whl (7.1 MB)\n",
      "\u001b[2K   \u001b[90m━━━━━━━━━━━━━━━━━━━━━━━━━━━━━━━━━━━━━━━━\u001b[0m \u001b[32m7.1/7.1 MB\u001b[0m \u001b[31m9.7 MB/s\u001b[0m eta \u001b[36m0:00:00\u001b[0m:00:01\u001b[0m00:01\u001b[0m\n",
      "\u001b[?25hBuilding wheels for collected packages: antlr4-python3-runtime\n",
      "  Building wheel for antlr4-python3-runtime (setup.py) ... \u001b[?25ldone\n",
      "\u001b[?25h  Created wheel for antlr4-python3-runtime: filename=antlr4_python3_runtime-4.9.3-py3-none-any.whl size=144575 sha256=80792ffb14527e6a6a5b84514d9d98b38ba992a225e2c76ec7e21a604bcd1a4d\n",
      "  Stored in directory: /Users/markymark/Library/Caches/pip/wheels/23/cf/80/f3efa822e6ab23277902ee9165fe772eeb1dfb8014f359020a\n",
      "Successfully built antlr4-python3-runtime\n",
      "Installing collected packages: antlr4-python3-runtime, omegaconf, humanfriendly, coloredlogs, onnxruntime, punctuators\n",
      "Successfully installed antlr4-python3-runtime-4.9.3 coloredlogs-15.0.1 humanfriendly-10.0 omegaconf-2.3.0 onnxruntime-1.16.3 punctuators-0.0.5\n",
      "\n",
      "\u001b[1m[\u001b[0m\u001b[34;49mnotice\u001b[0m\u001b[1;39;49m]\u001b[0m\u001b[39;49m A new release of pip is available: \u001b[0m\u001b[31;49m23.3.1\u001b[0m\u001b[39;49m -> \u001b[0m\u001b[32;49m23.3.2\u001b[0m\n",
      "\u001b[1m[\u001b[0m\u001b[34;49mnotice\u001b[0m\u001b[1;39;49m]\u001b[0m\u001b[39;49m To update, run: \u001b[0m\u001b[32;49m/Users/markymark/opt/anaconda3/bin/python -m pip install --upgrade pip\u001b[0m\n",
      "Note: you may need to restart the kernel to use updated packages.\n"
     ]
    }
   ],
   "source": [
    "pip install punctuators"
   ]
  },
  {
   "cell_type": "code",
   "execution_count": 85,
   "id": "08a6b32e",
   "metadata": {},
   "outputs": [
    {
     "data": {
      "application/vnd.jupyter.widget-view+json": {
       "model_id": "8680923a98cd41868a3d08d804f37014",
       "version_major": 2,
       "version_minor": 0
      },
      "text/plain": [
       "Downloading sp.model:   0%|          | 0.00/5.07M [00:00<?, ?B/s]"
      ]
     },
     "metadata": {},
     "output_type": "display_data"
    },
    {
     "data": {
      "application/vnd.jupyter.widget-view+json": {
       "model_id": "9e3dd40353b9437db0dabe332b2fbc69",
       "version_major": 2,
       "version_minor": 0
      },
      "text/plain": [
       "Downloading model.onnx:   0%|          | 0.00/1.11G [00:00<?, ?B/s]"
      ]
     },
     "metadata": {},
     "output_type": "display_data"
    },
    {
     "data": {
      "application/vnd.jupyter.widget-view+json": {
       "model_id": "253484795c8f457d8102ae62fbb914c0",
       "version_major": 2,
       "version_minor": 0
      },
      "text/plain": [
       "Downloading config.yaml:   0%|          | 0.00/531 [00:00<?, ?B/s]"
      ]
     },
     "metadata": {},
     "output_type": "display_data"
    },
    {
     "name": "stdout",
     "output_type": "stream",
     "text": [
      "Input: привет как дела это новый кадиллак\n",
      "Outputs:\n",
      "\tПривет, как дела?\n",
      "\tЭто новый кадиллак.\n",
      "\n"
     ]
    }
   ],
   "source": [
    "from punctuators.models import PunctCapSegModelONNX\n",
    "\n",
    "m = PunctCapSegModelONNX.from_pretrained(\n",
    "    \"1-800-BAD-CODE/xlm-roberta_punctuation_fullstop_truecase\"\n",
    ")\n",
    "\n",
    "input_texts = [\n",
    "    'привет как дела это новый кадиллак'\n",
    "]\n",
    "\n",
    "results = m.infer(\n",
    "    texts=input_texts, apply_sbd=True,\n",
    ")\n",
    "\n",
    "' '.join(results[0])"
   ]
  },
  {
   "cell_type": "code",
   "execution_count": 91,
   "id": "523b7b83",
   "metadata": {},
   "outputs": [
    {
     "data": {
      "text/plain": [
       "'Привет, как дела? Это новый кадиллак.'"
      ]
     },
     "execution_count": 91,
     "metadata": {},
     "output_type": "execute_result"
    }
   ],
   "source": [
    "' '.join(results[0])"
   ]
  },
  {
   "cell_type": "code",
   "execution_count": 89,
   "id": "fcec3607",
   "metadata": {},
   "outputs": [
    {
     "data": {
      "text/plain": [
       "[['Привет, как дела?', 'Это новый кадиллак.']]"
      ]
     },
     "execution_count": 89,
     "metadata": {},
     "output_type": "execute_result"
    }
   ],
   "source": [
    "results"
   ]
  },
  {
   "cell_type": "code",
   "execution_count": null,
   "id": "fa467f11",
   "metadata": {},
   "outputs": [],
   "source": []
  }
 ],
 "metadata": {
  "kernelspec": {
   "display_name": "Python 3 (ipykernel)",
   "language": "python",
   "name": "python3"
  },
  "language_info": {
   "codemirror_mode": {
    "name": "ipython",
    "version": 3
   },
   "file_extension": ".py",
   "mimetype": "text/x-python",
   "name": "python",
   "nbconvert_exporter": "python",
   "pygments_lexer": "ipython3",
   "version": "3.9.12"
  }
 },
 "nbformat": 4,
 "nbformat_minor": 5
}
