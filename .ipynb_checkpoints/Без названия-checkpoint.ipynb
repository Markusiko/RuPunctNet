{
 "cells": [
  {
   "cell_type": "code",
   "execution_count": 8,
   "id": "d5fbe16e",
   "metadata": {},
   "outputs": [
    {
     "name": "stdout",
     "output_type": "stream",
     "text": [
      "Requirement already satisfied: wikiextractor in /Users/markymark/opt/anaconda3/lib/python3.9/site-packages (3.0.6)\n",
      "Note: you may need to restart the kernel to use updated packages.\n"
     ]
    }
   ],
   "source": [
    "pip install wikiextractor"
   ]
  },
  {
   "cell_type": "markdown",
   "id": "b0cf4632",
   "metadata": {},
   "source": [
    "# RuPunctNet\n",
    "\n",
    "Данный проект посвящен автоматическим способам коррекции пунктуации в тексте. Главной целью является создание сервиса (например, telegram-бота), который будет обрабатывать предложения пользователя и возвращать аналогичный текст, в котором верно (с точки зрения правил русского языка) расставлены знаки препинания (знаки (.,?).\n",
    "\n",
    "Автоматическая корректировка будет совершаться моделью машинного обучения, выбранной по результатам исследования, проводимого также в рамках данного проекта. Сама задача \n",
    "\n",
    "\n",
    "## Примерный план работы\n",
    "1. В рамках разведочного анализа данных будут сделаны: просмотр примеров и фильтрация данных (проверка на их корректность), статистический анализ различных метрик используемых текстов (например, длин слов и предложений в них), просмотр баланса классов, анализ контекстов слов, при которых обычно ставятся знаки препинания. На основе EDA могут быть приняты решения о некоторых изменениях в данных перед самим этапом моделирования.\n",
    "\n",
    "2. Далее будет построен некий бейзлайн. В качестве него, скорее всего, выступит некий rule-based алгоритм или модель на основе частот слов (например, бустинг на основе TF-IDF признаках). \n",
    "\n",
    "3. На следующем этапе\n",
    "\n",
    "4. В конце концов будет произведена разработка сервиса, в котором используется наилучшая модель, выбранная в рамках пунктов 2 и 3.\n",
    "\n",
    "Дополнительные пункты: также хочется посмотреть\n",
    "\n",
    "\n",
    "\n",
    "\n",
    "\n",
    "\n",
    "## Команда\n",
    "\n",
    "* Никифоров Николай (@nikiforov_uze_bezit)\n",
    "* Столяров Марк (@markusikk)"
   ]
  },
  {
   "cell_type": "code",
   "execution_count": 11,
   "id": "b039dc8e",
   "metadata": {},
   "outputs": [],
   "source": [
    "import wikiextractor"
   ]
  },
  {
   "cell_type": "code",
   "execution_count": 10,
   "id": "6febce45",
   "metadata": {},
   "outputs": [
    {
     "name": "stdout",
     "output_type": "stream",
     "text": [
      "zsh:1: no such file or directory: Wikipedia\r\n"
     ]
    }
   ],
   "source": [
    "!python -m wikiextractor.WikiExtractor <Wikipedia dump file> [--templates <extracted template file>]"
   ]
  },
  {
   "cell_type": "code",
   "execution_count": null,
   "id": "e0e02d70",
   "metadata": {},
   "outputs": [],
   "source": [
    "Какие задачи будут сделаны на первом этапе (разведочный анализ данных и первичная аналитика данных)\n",
    "Какие задачи будут сделаны на втором этапе (ML)\n",
    "Какие задачи будут сделаны на третьем этапе (DL)\n",
    "Какие задачи хочется сделать, но, возможно, не успеете (привязать их к нужным этапам)\n"
   ]
  }
 ],
 "metadata": {
  "kernelspec": {
   "display_name": "Python 3 (ipykernel)",
   "language": "python",
   "name": "python3"
  },
  "language_info": {
   "codemirror_mode": {
    "name": "ipython",
    "version": 3
   },
   "file_extension": ".py",
   "mimetype": "text/x-python",
   "name": "python",
   "nbconvert_exporter": "python",
   "pygments_lexer": "ipython3",
   "version": "3.9.12"
  }
 },
 "nbformat": 4,
 "nbformat_minor": 5
}
