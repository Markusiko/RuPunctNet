{
 "cells": [
  {
   "cell_type": "markdown",
   "id": "dbfb473e",
   "metadata": {},
   "source": [
    "# Ноутбук с экспериментами с CRF"
   ]
  },
  {
   "cell_type": "markdown",
   "id": "cdce84c8",
   "metadata": {},
   "source": [
    "Идеи, которые хочется реализовать:\n",
    "* CRF на FastText эмбеддингах\n",
    "* CRF на кастомных признаках (придуманных вручную)"
   ]
  },
  {
   "cell_type": "code",
   "execution_count": 1,
   "id": "ab50aa46",
   "metadata": {},
   "outputs": [],
   "source": [
    "# pip install sklearn-crfsuite"
   ]
  },
  {
   "cell_type": "code",
   "execution_count": 2,
   "id": "25236435",
   "metadata": {},
   "outputs": [
    {
     "name": "stderr",
     "output_type": "stream",
     "text": [
      "<frozen importlib._bootstrap>:228: RuntimeWarning: scipy._lib.messagestream.MessageStream size changed, may indicate binary incompatibility. Expected 56 from C header, got 64 from PyObject\n"
     ]
    }
   ],
   "source": [
    "import pandas as pd\n",
    "import ast\n",
    "from sklearn.model_selection import train_test_split\n",
    "import string\n",
    "import re\n",
    "import fasttext\n",
    "import sklearn_crfsuite\n",
    "from sklearn_crfsuite import scorers\n",
    "from sklearn_crfsuite import metrics\n",
    "from tqdm import tqdm"
   ]
  },
  {
   "cell_type": "markdown",
   "id": "711f058a",
   "metadata": {},
   "source": [
    "## Загрузка данных"
   ]
  },
  {
   "cell_type": "code",
   "execution_count": 3,
   "id": "935d4f0b",
   "metadata": {},
   "outputs": [
    {
     "data": {
      "text/html": [
       "<div>\n",
       "<style scoped>\n",
       "    .dataframe tbody tr th:only-of-type {\n",
       "        vertical-align: middle;\n",
       "    }\n",
       "\n",
       "    .dataframe tbody tr th {\n",
       "        vertical-align: top;\n",
       "    }\n",
       "\n",
       "    .dataframe thead th {\n",
       "        text-align: right;\n",
       "    }\n",
       "</style>\n",
       "<table border=\"1\" class=\"dataframe\">\n",
       "  <thead>\n",
       "    <tr style=\"text-align: right;\">\n",
       "      <th></th>\n",
       "      <th>text</th>\n",
       "      <th>tokens</th>\n",
       "      <th>clear_punct_lower</th>\n",
       "      <th>labels</th>\n",
       "    </tr>\n",
       "  </thead>\n",
       "  <tbody>\n",
       "    <tr>\n",
       "      <th>1341</th>\n",
       "      <td>Все это смог я различить лишь смутно и с трудо...</td>\n",
       "      <td>[все, это, смог, я, различить, лишь, смутно, и...</td>\n",
       "      <td>все это смог я различить лишь смутно и с трудо...</td>\n",
       "      <td>[o, o, o, o, o, o, o, o, o, ., o, o, o, o, o, ...</td>\n",
       "    </tr>\n",
       "    <tr>\n",
       "      <th>25027</th>\n",
       "      <td>Она поехала в игрушечную лавку, накупила игруш...</td>\n",
       "      <td>[она, поехала, в, игрушечную, лавку, накупила,...</td>\n",
       "      <td>она поехала в игрушечную лавку накупила игруше...</td>\n",
       "      <td>[o, o, o, o, ,, o, o, o, o, o, ., o, o, o, ,, ...</td>\n",
       "    </tr>\n",
       "    <tr>\n",
       "      <th>2585</th>\n",
       "      <td>Наконец настало утро четырнадцатого числа. пог...</td>\n",
       "      <td>[наконец, настало, утро, четырнадцатого, числа...</td>\n",
       "      <td>наконец настало утро четырнадцатого числа пого...</td>\n",
       "      <td>[o, o, o, o, ., o, o, o, o, o, o, o, ,, o, o, ...</td>\n",
       "    </tr>\n",
       "    <tr>\n",
       "      <th>16829</th>\n",
       "      <td>Хорошо. А почему прежде, бывало, с восьми часо...</td>\n",
       "      <td>[хорошо, а, почему, прежде, бывало, с, восьми,...</td>\n",
       "      <td>хорошо а почему прежде бывало с восьми часов в...</td>\n",
       "      <td>[., o, o, ,, ,, o, o, o, o, o, o, o, ,, o, o, ...</td>\n",
       "    </tr>\n",
       "    <tr>\n",
       "      <th>7937</th>\n",
       "      <td>Говоря это, графиня оглянулась на дочь. Наташа...</td>\n",
       "      <td>[говоря, это, графиня, оглянулась, на, дочь, н...</td>\n",
       "      <td>говоря это графиня оглянулась на дочь наташа л...</td>\n",
       "      <td>[o, ,, o, o, o, ., o, ,, o, o, o, o, o, o, o, ...</td>\n",
       "    </tr>\n",
       "    <tr>\n",
       "      <th>...</th>\n",
       "      <td>...</td>\n",
       "      <td>...</td>\n",
       "      <td>...</td>\n",
       "      <td>...</td>\n",
       "    </tr>\n",
       "    <tr>\n",
       "      <th>13908</th>\n",
       "      <td>Разве на одну секунду... Я пришел за советом. ...</td>\n",
       "      <td>[разве, на, одну, секунду, я, пришел, за, сове...</td>\n",
       "      <td>разве на одну секунду я пришел за советом я ко...</td>\n",
       "      <td>[o, o, o, ..., o, o, o, ., ,, ,, o, o, o, ,, ,...</td>\n",
       "    </tr>\n",
       "    <tr>\n",
       "      <th>21490</th>\n",
       "      <td>План был очень хорош, но дело заключалось в то...</td>\n",
       "      <td>[план, был, очень, хорош, но, дело, заключалос...</td>\n",
       "      <td>план был очень хорош но дело заключалось в том...</td>\n",
       "      <td>[o, o, o, ,, o, o, o, o, ,, o, o, o, o, o, o, ...</td>\n",
       "    </tr>\n",
       "    <tr>\n",
       "      <th>2567</th>\n",
       "      <td>Сохраняя, поелику возможно, равновесие, чтобы ...</td>\n",
       "      <td>[сохраняя, поелику, возможно, равновесие, чтоб...</td>\n",
       "      <td>сохраняя поелику возможно равновесие чтобы хор...</td>\n",
       "      <td>[,, o, ,, ,, o, o, o, ,, o, o, ,, o, o, o, o, ...</td>\n",
       "    </tr>\n",
       "    <tr>\n",
       "      <th>25405</th>\n",
       "      <td>Было ли в лице Левина что-нибудь особенное, ил...</td>\n",
       "      <td>[было, ли, в, лице, левина, чтонибудь, особенн...</td>\n",
       "      <td>было ли в лице левина чтонибудь особенное или ...</td>\n",
       "      <td>[o, o, o, o, o, o, ,, o, o, o, ,, o, o, o, o, ...</td>\n",
       "    </tr>\n",
       "    <tr>\n",
       "      <th>21900</th>\n",
       "      <td>Через секунду, не понимая, как это случилось, ...</td>\n",
       "      <td>[через, секунду, не, понимая, как, это, случил...</td>\n",
       "      <td>через секунду не понимая как это случилось мар...</td>\n",
       "      <td>[o, ,, o, ,, o, o, ,, o, o, o, o, o, o, o, o, ...</td>\n",
       "    </tr>\n",
       "  </tbody>\n",
       "</table>\n",
       "<p>2586 rows × 4 columns</p>\n",
       "</div>"
      ],
      "text/plain": [
       "                                                    text  \\\n",
       "1341   Все это смог я различить лишь смутно и с трудо...   \n",
       "25027  Она поехала в игрушечную лавку, накупила игруш...   \n",
       "2585   Наконец настало утро четырнадцатого числа. пог...   \n",
       "16829  Хорошо. А почему прежде, бывало, с восьми часо...   \n",
       "7937   Говоря это, графиня оглянулась на дочь. Наташа...   \n",
       "...                                                  ...   \n",
       "13908  Разве на одну секунду... Я пришел за советом. ...   \n",
       "21490  План был очень хорош, но дело заключалось в то...   \n",
       "2567   Сохраняя, поелику возможно, равновесие, чтобы ...   \n",
       "25405  Было ли в лице Левина что-нибудь особенное, ил...   \n",
       "21900  Через секунду, не понимая, как это случилось, ...   \n",
       "\n",
       "                                                  tokens  \\\n",
       "1341   [все, это, смог, я, различить, лишь, смутно, и...   \n",
       "25027  [она, поехала, в, игрушечную, лавку, накупила,...   \n",
       "2585   [наконец, настало, утро, четырнадцатого, числа...   \n",
       "16829  [хорошо, а, почему, прежде, бывало, с, восьми,...   \n",
       "7937   [говоря, это, графиня, оглянулась, на, дочь, н...   \n",
       "...                                                  ...   \n",
       "13908  [разве, на, одну, секунду, я, пришел, за, сове...   \n",
       "21490  [план, был, очень, хорош, но, дело, заключалос...   \n",
       "2567   [сохраняя, поелику, возможно, равновесие, чтоб...   \n",
       "25405  [было, ли, в, лице, левина, чтонибудь, особенн...   \n",
       "21900  [через, секунду, не, понимая, как, это, случил...   \n",
       "\n",
       "                                       clear_punct_lower  \\\n",
       "1341   все это смог я различить лишь смутно и с трудо...   \n",
       "25027  она поехала в игрушечную лавку накупила игруше...   \n",
       "2585   наконец настало утро четырнадцатого числа пого...   \n",
       "16829  хорошо а почему прежде бывало с восьми часов в...   \n",
       "7937   говоря это графиня оглянулась на дочь наташа л...   \n",
       "...                                                  ...   \n",
       "13908  разве на одну секунду я пришел за советом я ко...   \n",
       "21490  план был очень хорош но дело заключалось в том...   \n",
       "2567   сохраняя поелику возможно равновесие чтобы хор...   \n",
       "25405  было ли в лице левина чтонибудь особенное или ...   \n",
       "21900  через секунду не понимая как это случилось мар...   \n",
       "\n",
       "                                                  labels  \n",
       "1341   [o, o, o, o, o, o, o, o, o, ., o, o, o, o, o, ...  \n",
       "25027  [o, o, o, o, ,, o, o, o, o, o, ., o, o, o, ,, ...  \n",
       "2585   [o, o, o, o, ., o, o, o, o, o, o, o, ,, o, o, ...  \n",
       "16829  [., o, o, ,, ,, o, o, o, o, o, o, o, ,, o, o, ...  \n",
       "7937   [o, ,, o, o, o, ., o, ,, o, o, o, o, o, o, o, ...  \n",
       "...                                                  ...  \n",
       "13908  [o, o, o, ..., o, o, o, ., ,, ,, o, o, o, ,, ,...  \n",
       "21490  [o, o, o, ,, o, o, o, o, ,, o, o, o, o, o, o, ...  \n",
       "2567   [,, o, ,, ,, o, o, o, ,, o, o, ,, o, o, o, o, ...  \n",
       "25405  [o, o, o, o, o, o, ,, o, o, o, ,, o, o, o, o, ...  \n",
       "21900  [o, ,, o, ,, o, o, ,, o, o, o, o, o, o, o, o, ...  \n",
       "\n",
       "[2586 rows x 4 columns]"
      ]
     },
     "execution_count": 3,
     "metadata": {},
     "output_type": "execute_result"
    }
   ],
   "source": [
    "path = 'new_books_prepared.csv'\n",
    "\n",
    "df = pd.read_csv(path, index_col=0)\n",
    "df['tokens'] = df.tokens.apply(ast.literal_eval)\n",
    "df['labels'] = df.labels.apply(ast.literal_eval)\n",
    "df = df[df.tokens.apply(len) < 200]\n",
    "df_train, df_val_test = train_test_split(df, test_size=0.2, random_state=999)\n",
    "df_val, df_test  = train_test_split(df_val_test, test_size=0.5, random_state=999)\n",
    "\n",
    "# одно предложение битое\n",
    "df_train = df_train[~df_train.clear_punct_lower.isna()]\n",
    "\n",
    "df_test"
   ]
  },
  {
   "cell_type": "markdown",
   "id": "f8d0dcb0",
   "metadata": {},
   "source": [
    "## Некоторые функции для обработки текста"
   ]
  },
  {
   "cell_type": "code",
   "execution_count": 4,
   "id": "56d23c34",
   "metadata": {},
   "outputs": [
    {
     "data": {
      "text/plain": [
       "'привет дорогая как дела'"
      ]
     },
     "execution_count": 4,
     "metadata": {},
     "output_type": "execute_result"
    }
   ],
   "source": [
    "def clear_punct_lower(line):\n",
    "    line = line.lower()\n",
    "    line = re.sub('–', '', line)\n",
    "    line = re.sub('—', '', line).strip()\n",
    "    \n",
    "    # удаляем всю пунктуацию\n",
    "    line = line.translate(str.maketrans('', '', string.punctuation))\n",
    "    return line\n",
    "\n",
    "clear_punct_lower('Привет, дорогая! Как дела?')"
   ]
  },
  {
   "cell_type": "markdown",
   "id": "c88322bb",
   "metadata": {},
   "source": [
    "## CRF на FastText эмбеддингах"
   ]
  },
  {
   "cell_type": "markdown",
   "id": "8928931d",
   "metadata": {},
   "source": [
    "### FastText"
   ]
  },
  {
   "cell_type": "markdown",
   "id": "7e1e7f22",
   "metadata": {},
   "source": [
    "Обучим FastText на нашем корпусе (трейн + валидация). Сперва подготовим файл для обучения:"
   ]
  },
  {
   "cell_type": "code",
   "execution_count": 5,
   "id": "29737c45",
   "metadata": {},
   "outputs": [],
   "source": [
    "with open('fasttext_train.txt', 'w') as f:\n",
    "    for sent in pd.concat([df_train, df_val])['clear_punct_lower'].values:\n",
    "        f.write(sent + '\\n')"
   ]
  },
  {
   "cell_type": "code",
   "execution_count": 6,
   "id": "406a36d5",
   "metadata": {},
   "outputs": [
    {
     "name": "stderr",
     "output_type": "stream",
     "text": [
      "Read 0M words\n",
      "Number of words:  17410\n",
      "Number of labels: 0\n",
      "Progress: 100.0% words/sec/thread:   27281 lr:  0.000000 avg.loss:  2.272940 ETA:   0h 0m 0s  1.2% words/sec/thread:   25623 lr:  0.049378 avg.loss:  2.804947 ETA:   0h 0m23s 70.1% words/sec/thread:   27340 lr:  0.014973 avg.loss:  2.276072 ETA:   0h 0m 6s 81.0% words/sec/thread:   27376 lr:  0.009486 avg.loss:  2.272716 ETA:   0h 0m 4s\n"
     ]
    }
   ],
   "source": [
    "fasttext_model = fasttext.train_unsupervised('fasttext_train.txt', \n",
    "                                             minn=2, maxn=5, dim=300)"
   ]
  },
  {
   "cell_type": "code",
   "execution_count": 7,
   "id": "91dd639a",
   "metadata": {},
   "outputs": [
    {
     "data": {
      "text/plain": [
       "[(0.8312212824821472, 'поэму'),\n",
       " (0.8307714462280273, 'чему'),\n",
       " (0.7862650752067566, 'поэтому'),\n",
       " (0.7751836776733398, 'помоему'),\n",
       " (0.7691491842269897, 'ничему'),\n",
       " (0.7637339234352112, 'эпоху'),\n",
       " (0.7405359148979187, 'покажу'),\n",
       " (0.7369662523269653, 'почву'),\n",
       " (0.7219629287719727, 'почемуто'),\n",
       " (0.7218359112739563, 'поймут')]"
      ]
     },
     "execution_count": 7,
     "metadata": {},
     "output_type": "execute_result"
    }
   ],
   "source": [
    "fasttext_model.get_nearest_neighbors('почему')"
   ]
  },
  {
   "cell_type": "code",
   "execution_count": 8,
   "id": "ba58f4e0",
   "metadata": {},
   "outputs": [
    {
     "data": {
      "text/plain": [
       "array([-0.06120062,  0.01125632,  0.11578422,  0.05215767, -0.07034817],\n",
       "      dtype=float32)"
      ]
     },
     "execution_count": 8,
     "metadata": {},
     "output_type": "execute_result"
    }
   ],
   "source": [
    "fasttext_model.get_word_vector('почему')[:5]"
   ]
  },
  {
   "cell_type": "markdown",
   "id": "8e6cb626",
   "metadata": {},
   "source": [
    "### Строим CRF на векторных представлениях"
   ]
  },
  {
   "cell_type": "code",
   "execution_count": 9,
   "id": "cd041fd5",
   "metadata": {},
   "outputs": [],
   "source": [
    "def get_features_fasttext(word):\n",
    "    try:\n",
    "         vector = fasttext_model.get_word_vector(word)\n",
    "    except:\n",
    "        # if the word is not in vocabulary,\n",
    "        # returns zeros array\n",
    "        vector = np.zeros(300,)\n",
    " \n",
    "    return vector  "
   ]
  },
  {
   "cell_type": "code",
   "execution_count": 10,
   "id": "e834c506",
   "metadata": {},
   "outputs": [],
   "source": [
    "def word2features(sent, i):\n",
    "    word = sent[i]\n",
    "    wordembdding = get_features_fasttext(word)   ## word embedding vector \n",
    "    \n",
    "    features = {}\n",
    "\n",
    "    # here you add 300 features (one for each vector component)\n",
    "    for iv,value in enumerate(wordembdding):\n",
    "        features['v{}'.format(iv)] = value\n",
    "    \n",
    "    features['bias'] = 1\n",
    "    \n",
    "    return features\n",
    "\n",
    "\n",
    "def sent2features(sent):\n",
    "    return [word2features(sent, i) for i in range(len(sent))]\n"
   ]
  },
  {
   "cell_type": "code",
   "execution_count": 11,
   "id": "d4cc9d2d",
   "metadata": {},
   "outputs": [
    {
     "name": "stderr",
     "output_type": "stream",
     "text": [
      "100%|████████████████████████████████████| 20686/20686 [03:00<00:00, 114.54it/s]\n",
      "100%|███████████████████████████████████████| 2586/2586 [00:27<00:00, 93.66it/s]\n",
      "100%|███████████████████████████████████████| 2586/2586 [00:27<00:00, 93.60it/s]\n"
     ]
    }
   ],
   "source": [
    "X_train = [sent2features(s) for s in tqdm(df_train.tokens)]\n",
    "y_train = df_train.labels.tolist()\n",
    "\n",
    "X_val = [sent2features(s) for s in tqdm(df_val.tokens)]\n",
    "y_val = df_val.labels.tolist()\n",
    "\n",
    "X_test = [sent2features(s) for s in tqdm(df_test.tokens)]\n",
    "y_test = df_test.labels.tolist()"
   ]
  },
  {
   "cell_type": "code",
   "execution_count": 17,
   "id": "b7566fb5",
   "metadata": {
    "scrolled": false
   },
   "outputs": [
    {
     "name": "stderr",
     "output_type": "stream",
     "text": [
      "loading training data to CRFsuite: 100%|█| 20686/20686 [03:13<00:00, 106.69it/s]\n"
     ]
    },
    {
     "name": "stdout",
     "output_type": "stream",
     "text": [
      "\n",
      "Feature generation\n",
      "type: CRF1d\n",
      "feature.minfreq: 0.000000\n",
      "feature.possible_states: 0\n",
      "feature.possible_transitions: 1\n",
      "0....1....2....3....4....5....6....7....8....9....10\n",
      "Number of features: 1140\n",
      "Seconds required: 26.460\n",
      "\n",
      "L-BFGS optimization\n",
      "c1: 0.100000\n",
      "c2: 0.100000\n",
      "num_memories: 6\n",
      "max_iterations: 50\n",
      "epsilon: 0.000010\n",
      "stop: 10\n",
      "delta: 0.000010\n",
      "linesearch: MoreThuente\n",
      "linesearch.max_iterations: 20\n",
      "\n",
      "Iter 1   time=7.85  loss=687909.75 active=1139  feature_norm=1.00\n",
      "Iter 2   time=3.92  loss=598171.22 active=1048  feature_norm=1.63\n",
      "Iter 3   time=3.93  loss=561452.64 active=1115  feature_norm=1.61\n",
      "Iter 4   time=3.94  loss=528487.34 active=1055  feature_norm=1.96\n",
      "Iter 5   time=3.95  loss=507495.94 active=1131  feature_norm=1.99\n",
      "Iter 6   time=3.98  loss=496545.28 active=1129  feature_norm=2.18\n",
      "Iter 7   time=3.96  loss=478908.17 active=1116  feature_norm=2.64\n",
      "Iter 8   time=3.91  loss=471393.75 active=1123  feature_norm=3.03\n",
      "Iter 9   time=3.94  loss=466776.80 active=1131  feature_norm=3.21\n",
      "Iter 10  time=3.89  loss=463213.29 active=1129  feature_norm=3.45\n",
      "Iter 11  time=3.95  loss=460364.00 active=1131  feature_norm=3.72\n",
      "Iter 12  time=4.00  loss=456664.68 active=1132  feature_norm=3.93\n",
      "Iter 13  time=3.84  loss=453947.35 active=1130  feature_norm=4.12\n",
      "Iter 14  time=3.91  loss=449092.03 active=1125  feature_norm=4.43\n",
      "Iter 15  time=3.88  loss=445854.29 active=1107  feature_norm=5.28\n",
      "Iter 16  time=3.97  loss=438969.51 active=1115  feature_norm=5.58\n",
      "Iter 17  time=3.92  loss=435469.77 active=1103  feature_norm=6.29\n",
      "Iter 18  time=3.92  loss=432964.18 active=980   feature_norm=6.62\n",
      "Iter 19  time=3.91  loss=432017.48 active=1075  feature_norm=7.32\n",
      "Iter 20  time=3.84  loss=429014.77 active=1121  feature_norm=7.81\n",
      "Iter 21  time=3.86  loss=427601.85 active=1115  feature_norm=8.49\n",
      "Iter 22  time=3.89  loss=426370.58 active=1116  feature_norm=8.98\n",
      "Iter 23  time=3.90  loss=425379.79 active=1119  feature_norm=9.25\n",
      "Iter 24  time=3.96  loss=424423.90 active=1126  feature_norm=9.65\n",
      "Iter 25  time=3.96  loss=423389.21 active=1121  feature_norm=9.99\n",
      "Iter 26  time=3.93  loss=422354.43 active=1122  feature_norm=10.59\n",
      "Iter 27  time=3.97  loss=421170.59 active=1127  feature_norm=11.03\n",
      "Iter 28  time=3.95  loss=419780.81 active=1131  feature_norm=11.42\n",
      "Iter 29  time=4.64  loss=418880.42 active=1123  feature_norm=11.96\n",
      "Iter 30  time=4.93  loss=417437.31 active=1126  feature_norm=12.54\n",
      "Iter 31  time=4.14  loss=416326.83 active=1133  feature_norm=13.04\n",
      "Iter 32  time=5.41  loss=415672.19 active=1137  feature_norm=13.60\n",
      "Iter 33  time=5.11  loss=414892.05 active=1136  feature_norm=14.05\n",
      "Iter 34  time=4.72  loss=414399.79 active=1135  feature_norm=14.56\n",
      "Iter 35  time=4.18  loss=413771.27 active=1138  feature_norm=15.11\n",
      "Iter 36  time=4.46  loss=413401.24 active=1137  feature_norm=15.74\n",
      "Iter 37  time=4.04  loss=412851.96 active=1137  feature_norm=16.35\n",
      "Iter 38  time=4.34  loss=412616.74 active=1133  feature_norm=17.01\n",
      "Iter 39  time=4.23  loss=412114.72 active=1132  feature_norm=17.60\n",
      "Iter 40  time=4.28  loss=411936.34 active=1136  feature_norm=18.26\n",
      "Iter 41  time=4.27  loss=411514.14 active=1133  feature_norm=19.01\n",
      "Iter 42  time=4.00  loss=411352.07 active=1132  feature_norm=19.48\n",
      "Iter 43  time=3.94  loss=410987.80 active=1135  feature_norm=19.88\n",
      "Iter 44  time=3.96  loss=410805.92 active=1131  feature_norm=20.15\n",
      "Iter 45  time=3.91  loss=410505.47 active=1133  feature_norm=20.44\n",
      "Iter 46  time=3.88  loss=410227.07 active=1133  feature_norm=20.87\n",
      "Iter 47  time=3.94  loss=409842.88 active=1135  feature_norm=21.35\n",
      "Iter 48  time=3.83  loss=409541.93 active=1135  feature_norm=21.93\n",
      "Iter 49  time=4.09  loss=409132.38 active=1134  feature_norm=22.51\n",
      "Iter 50  time=3.93  loss=408885.86 active=1136  feature_norm=22.97\n",
      "L-BFGS terminated with the maximum number of iterations\n",
      "Total seconds required for training: 208.020\n",
      "\n",
      "Storing the model\n",
      "Number of active features: 1136 (1140)\n",
      "Number of active attributes: 187 (301)\n",
      "Number of active labels: 7 (7)\n",
      "Writing labels\n",
      "Writing attributes\n",
      "Writing feature references for transitions\n",
      "Writing feature references for attributes\n",
      "Seconds required: 0.003\n",
      "\n"
     ]
    }
   ],
   "source": [
    "crf = sklearn_crfsuite.CRF(\n",
    "    algorithm='lbfgs',\n",
    "    c1=0.1,\n",
    "    c2=0.1,\n",
    "    max_iterations=50,\n",
    "    verbose=True,\n",
    "    all_possible_transitions=True\n",
    ")\n",
    "\n",
    "# https://stackoverflow.com/questions/66059532/attributeerror-crf-object-has-no-attribute-keep-tempfiles\n",
    "try:\n",
    "    crf.fit(X_train, y_train)\n",
    "except AttributeError:\n",
    "    pass"
   ]
  },
  {
   "cell_type": "code",
   "execution_count": 20,
   "id": "0acdf152",
   "metadata": {},
   "outputs": [],
   "source": [
    "y_pred_test = crf.predict(X_test)"
   ]
  },
  {
   "cell_type": "code",
   "execution_count": 34,
   "id": "071bf7d5",
   "metadata": {},
   "outputs": [
    {
     "data": {
      "text/plain": [
       "array([6, 6, 6, ..., 6, 6, 2])"
      ]
     },
     "execution_count": 34,
     "metadata": {},
     "output_type": "execute_result"
    }
   ],
   "source": [
    "from sklearn.preprocessing import LabelEncoder\n",
    "\n",
    "all_labels = []\n",
    "\n",
    "for row in df_test.values:\n",
    "    all_labels += row[3]\n",
    "    \n",
    "all_preds = []\n",
    "\n",
    "for row in y_pred_test:\n",
    "    all_preds += row\n",
    "    \n",
    "le = LabelEncoder()\n",
    "\n",
    "y_true = le.fit_transform(all_labels)\n",
    "y_pred = le.transform(all_preds)\n",
    "\n",
    "y_true"
   ]
  },
  {
   "cell_type": "code",
   "execution_count": 35,
   "id": "74fa1a8f",
   "metadata": {},
   "outputs": [],
   "source": [
    "from collections import Counter\n",
    "from sklearn.metrics import confusion_matrix, roc_auc_score, accuracy_score,\\\n",
    "                            f1_score, precision_score, recall_score, average_precision_score\n",
    "\n",
    "def calc_metrics_no_proba(y_true, y_pred):\n",
    "    \n",
    "    print('Доля пробелов:', np.mean(np.array(y_true) == 6))\n",
    "    print('Accuracy:', accuracy_score(y_true, y_pred))\n",
    "\n",
    "    metrics = []\n",
    "    metrics.append(list(dict(sorted(Counter(y_true).items())).values()))\n",
    "    metrics.append(f1_score(y_true, y_pred, average=None))\n",
    "    metrics.append(precision_score(y_true, y_pred, average=None, zero_division=0))\n",
    "    metrics.append(recall_score(y_true, y_pred, average=None, zero_division=0))\n",
    "    metrics_index = ['Count', 'F1-Score', 'Precision', 'Recall']\n",
    "    df_metrics = pd.DataFrame(metrics, columns=le.classes_, index=metrics_index)\n",
    "    \n",
    "    return df_metrics"
   ]
  },
  {
   "cell_type": "code",
   "execution_count": 37,
   "id": "01c1351b",
   "metadata": {},
   "outputs": [
    {
     "name": "stdout",
     "output_type": "stream",
     "text": [
      "Доля пробелов: 0.7968587786651865\n",
      "Accuracy: 0.8157718914140636\n"
     ]
    },
    {
     "data": {
      "text/html": [
       "<div>\n",
       "<style scoped>\n",
       "    .dataframe tbody tr th:only-of-type {\n",
       "        vertical-align: middle;\n",
       "    }\n",
       "\n",
       "    .dataframe tbody tr th {\n",
       "        vertical-align: top;\n",
       "    }\n",
       "\n",
       "    .dataframe thead th {\n",
       "        text-align: right;\n",
       "    }\n",
       "</style>\n",
       "<table border=\"1\" class=\"dataframe\">\n",
       "  <thead>\n",
       "    <tr style=\"text-align: right;\">\n",
       "      <th></th>\n",
       "      <th>!</th>\n",
       "      <th>,</th>\n",
       "      <th>.</th>\n",
       "      <th>...</th>\n",
       "      <th>:</th>\n",
       "      <th>?</th>\n",
       "      <th>o</th>\n",
       "    </tr>\n",
       "  </thead>\n",
       "  <tbody>\n",
       "    <tr>\n",
       "      <th>Count</th>\n",
       "      <td>214.000000</td>\n",
       "      <td>13022.000000</td>\n",
       "      <td>5839.000000</td>\n",
       "      <td>164.0</td>\n",
       "      <td>214.0</td>\n",
       "      <td>310.000000</td>\n",
       "      <td>77524.000000</td>\n",
       "    </tr>\n",
       "    <tr>\n",
       "      <th>F1-Score</th>\n",
       "      <td>0.045045</td>\n",
       "      <td>0.046402</td>\n",
       "      <td>0.488161</td>\n",
       "      <td>0.0</td>\n",
       "      <td>0.0</td>\n",
       "      <td>0.110145</td>\n",
       "      <td>0.898919</td>\n",
       "    </tr>\n",
       "    <tr>\n",
       "      <th>Precision</th>\n",
       "      <td>0.625000</td>\n",
       "      <td>0.329615</td>\n",
       "      <td>0.808958</td>\n",
       "      <td>0.0</td>\n",
       "      <td>0.0</td>\n",
       "      <td>0.542857</td>\n",
       "      <td>0.821187</td>\n",
       "    </tr>\n",
       "    <tr>\n",
       "      <th>Recall</th>\n",
       "      <td>0.023364</td>\n",
       "      <td>0.024958</td>\n",
       "      <td>0.349546</td>\n",
       "      <td>0.0</td>\n",
       "      <td>0.0</td>\n",
       "      <td>0.061290</td>\n",
       "      <td>0.992905</td>\n",
       "    </tr>\n",
       "  </tbody>\n",
       "</table>\n",
       "</div>"
      ],
      "text/plain": [
       "                    !             ,            .    ...      :           ?  \\\n",
       "Count      214.000000  13022.000000  5839.000000  164.0  214.0  310.000000   \n",
       "F1-Score     0.045045      0.046402     0.488161    0.0    0.0    0.110145   \n",
       "Precision    0.625000      0.329615     0.808958    0.0    0.0    0.542857   \n",
       "Recall       0.023364      0.024958     0.349546    0.0    0.0    0.061290   \n",
       "\n",
       "                      o  \n",
       "Count      77524.000000  \n",
       "F1-Score       0.898919  \n",
       "Precision      0.821187  \n",
       "Recall         0.992905  "
      ]
     },
     "execution_count": 37,
     "metadata": {},
     "output_type": "execute_result"
    }
   ],
   "source": [
    "calc_metrics_no_proba(y_true, y_pred)"
   ]
  },
  {
   "cell_type": "code",
   "execution_count": 44,
   "id": "2dced0a0",
   "metadata": {},
   "outputs": [
    {
     "data": {
      "text/plain": [
       "0.1770177921125934"
      ]
     },
     "execution_count": 44,
     "metadata": {},
     "output_type": "execute_result"
    }
   ],
   "source": [
    "metrics.flat_f1_score(y_test, y_pred_test,\n",
    "                      average='weighted', labels=list(set(all_labels) - {'o'}))"
   ]
  },
  {
   "cell_type": "code",
   "execution_count": 45,
   "id": "f0e7704f",
   "metadata": {},
   "outputs": [
    {
     "data": {
      "text/plain": [
       "0.7522712510902712"
      ]
     },
     "execution_count": 45,
     "metadata": {},
     "output_type": "execute_result"
    }
   ],
   "source": [
    "metrics.flat_f1_score(y_test, y_pred_test,\n",
    "                      average='weighted', labels=list(set(all_labels)))"
   ]
  },
  {
   "cell_type": "code",
   "execution_count": null,
   "id": "8bf5376a",
   "metadata": {},
   "outputs": [],
   "source": []
  },
  {
   "cell_type": "markdown",
   "id": "f433e5b7",
   "metadata": {},
   "source": [
    "## CRF на кастомных признаках"
   ]
  },
  {
   "cell_type": "code",
   "execution_count": null,
   "id": "c426ef63",
   "metadata": {},
   "outputs": [],
   "source": []
  },
  {
   "cell_type": "code",
   "execution_count": null,
   "id": "7d03519d",
   "metadata": {},
   "outputs": [],
   "source": []
  },
  {
   "cell_type": "code",
   "execution_count": null,
   "id": "fd9a52b7",
   "metadata": {},
   "outputs": [],
   "source": []
  }
 ],
 "metadata": {
  "kernelspec": {
   "display_name": "Python 3 (ipykernel)",
   "language": "python",
   "name": "python3"
  },
  "language_info": {
   "codemirror_mode": {
    "name": "ipython",
    "version": 3
   },
   "file_extension": ".py",
   "mimetype": "text/x-python",
   "name": "python",
   "nbconvert_exporter": "python",
   "pygments_lexer": "ipython3",
   "version": "3.9.12"
  },
  "varInspector": {
   "cols": {
    "lenName": 16,
    "lenType": 16,
    "lenVar": 40
   },
   "kernels_config": {
    "python": {
     "delete_cmd_postfix": "",
     "delete_cmd_prefix": "del ",
     "library": "var_list.py",
     "varRefreshCmd": "print(var_dic_list())"
    },
    "r": {
     "delete_cmd_postfix": ") ",
     "delete_cmd_prefix": "rm(",
     "library": "var_list.r",
     "varRefreshCmd": "cat(var_dic_list()) "
    }
   },
   "types_to_exclude": [
    "module",
    "function",
    "builtin_function_or_method",
    "instance",
    "_Feature"
   ],
   "window_display": false
  }
 },
 "nbformat": 4,
 "nbformat_minor": 5
}
