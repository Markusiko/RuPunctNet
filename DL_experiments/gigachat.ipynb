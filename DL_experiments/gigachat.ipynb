{
 "cells": [
  {
   "cell_type": "code",
   "execution_count": 59,
   "id": "76f30353",
   "metadata": {},
   "outputs": [],
   "source": [
    "from langchain.schema import HumanMessage, SystemMessage\n",
    "from langchain.chat_models.gigachat import GigaChat\n",
    "import os\n",
    "import pandas as pd\n",
    "import tqdm\n",
    "import re\n",
    "import ast\n",
    "import numpy as np\n",
    "import time\n",
    "import joblib\n",
    "from collections import Counter\n",
    "from sklearn.model_selection import train_test_split\n",
    "from sklearn.metrics import confusion_matrix, roc_auc_score, accuracy_score,\\\n",
    "                            f1_score, precision_score, recall_score, average_precision_score"
   ]
  },
  {
   "cell_type": "code",
   "execution_count": 2,
   "id": "268b4ac8",
   "metadata": {},
   "outputs": [
    {
     "data": {
      "text/html": [
       "<div>\n",
       "<style scoped>\n",
       "    .dataframe tbody tr th:only-of-type {\n",
       "        vertical-align: middle;\n",
       "    }\n",
       "\n",
       "    .dataframe tbody tr th {\n",
       "        vertical-align: top;\n",
       "    }\n",
       "\n",
       "    .dataframe thead th {\n",
       "        text-align: right;\n",
       "    }\n",
       "</style>\n",
       "<table border=\"1\" class=\"dataframe\">\n",
       "  <thead>\n",
       "    <tr style=\"text-align: right;\">\n",
       "      <th></th>\n",
       "      <th>text</th>\n",
       "      <th>tokens</th>\n",
       "      <th>clear_punct_lower</th>\n",
       "      <th>labels</th>\n",
       "    </tr>\n",
       "  </thead>\n",
       "  <tbody>\n",
       "    <tr>\n",
       "      <th>1341</th>\n",
       "      <td>Все это смог я различить лишь смутно и с трудо...</td>\n",
       "      <td>[все, это, смог, я, различить, лишь, смутно, и...</td>\n",
       "      <td>все это смог я различить лишь смутно и с трудо...</td>\n",
       "      <td>[o, o, o, o, o, o, o, o, o, ., o, o, o, o, o, ...</td>\n",
       "    </tr>\n",
       "    <tr>\n",
       "      <th>25027</th>\n",
       "      <td>Она поехала в игрушечную лавку, накупила игруш...</td>\n",
       "      <td>[она, поехала, в, игрушечную, лавку, накупила,...</td>\n",
       "      <td>она поехала в игрушечную лавку накупила игруше...</td>\n",
       "      <td>[o, o, o, o, ,, o, o, o, o, o, ., o, o, o, ,, ...</td>\n",
       "    </tr>\n",
       "    <tr>\n",
       "      <th>2585</th>\n",
       "      <td>Наконец настало утро четырнадцатого числа. пог...</td>\n",
       "      <td>[наконец, настало, утро, четырнадцатого, числа...</td>\n",
       "      <td>наконец настало утро четырнадцатого числа пого...</td>\n",
       "      <td>[o, o, o, o, ., o, o, o, o, o, o, o, ,, o, o, ...</td>\n",
       "    </tr>\n",
       "    <tr>\n",
       "      <th>16829</th>\n",
       "      <td>Хорошо. А почему прежде, бывало, с восьми часо...</td>\n",
       "      <td>[хорошо, а, почему, прежде, бывало, с, восьми,...</td>\n",
       "      <td>хорошо а почему прежде бывало с восьми часов в...</td>\n",
       "      <td>[., o, o, ,, ,, o, o, o, o, o, o, o, ,, o, o, ...</td>\n",
       "    </tr>\n",
       "    <tr>\n",
       "      <th>7937</th>\n",
       "      <td>Говоря это, графиня оглянулась на дочь. Наташа...</td>\n",
       "      <td>[говоря, это, графиня, оглянулась, на, дочь, н...</td>\n",
       "      <td>говоря это графиня оглянулась на дочь наташа л...</td>\n",
       "      <td>[o, ,, o, o, o, ., o, ,, o, o, o, o, o, o, o, ...</td>\n",
       "    </tr>\n",
       "    <tr>\n",
       "      <th>...</th>\n",
       "      <td>...</td>\n",
       "      <td>...</td>\n",
       "      <td>...</td>\n",
       "      <td>...</td>\n",
       "    </tr>\n",
       "    <tr>\n",
       "      <th>13908</th>\n",
       "      <td>Разве на одну секунду... Я пришел за советом. ...</td>\n",
       "      <td>[разве, на, одну, секунду, я, пришел, за, сове...</td>\n",
       "      <td>разве на одну секунду я пришел за советом я ко...</td>\n",
       "      <td>[o, o, o, ..., o, o, o, ., ,, ,, o, o, o, ,, ,...</td>\n",
       "    </tr>\n",
       "    <tr>\n",
       "      <th>21490</th>\n",
       "      <td>План был очень хорош, но дело заключалось в то...</td>\n",
       "      <td>[план, был, очень, хорош, но, дело, заключалос...</td>\n",
       "      <td>план был очень хорош но дело заключалось в том...</td>\n",
       "      <td>[o, o, o, ,, o, o, o, o, ,, o, o, o, o, o, o, ...</td>\n",
       "    </tr>\n",
       "    <tr>\n",
       "      <th>2567</th>\n",
       "      <td>Сохраняя, поелику возможно, равновесие, чтобы ...</td>\n",
       "      <td>[сохраняя, поелику, возможно, равновесие, чтоб...</td>\n",
       "      <td>сохраняя поелику возможно равновесие чтобы хор...</td>\n",
       "      <td>[,, o, ,, ,, o, o, o, ,, o, o, ,, o, o, o, o, ...</td>\n",
       "    </tr>\n",
       "    <tr>\n",
       "      <th>25405</th>\n",
       "      <td>Было ли в лице Левина что-нибудь особенное, ил...</td>\n",
       "      <td>[было, ли, в, лице, левина, чтонибудь, особенн...</td>\n",
       "      <td>было ли в лице левина чтонибудь особенное или ...</td>\n",
       "      <td>[o, o, o, o, o, o, ,, o, o, o, ,, o, o, o, o, ...</td>\n",
       "    </tr>\n",
       "    <tr>\n",
       "      <th>21900</th>\n",
       "      <td>Через секунду, не понимая, как это случилось, ...</td>\n",
       "      <td>[через, секунду, не, понимая, как, это, случил...</td>\n",
       "      <td>через секунду не понимая как это случилось мар...</td>\n",
       "      <td>[o, ,, o, ,, o, o, ,, o, o, o, o, o, o, o, o, ...</td>\n",
       "    </tr>\n",
       "  </tbody>\n",
       "</table>\n",
       "<p>2586 rows × 4 columns</p>\n",
       "</div>"
      ],
      "text/plain": [
       "                                                    text  \\\n",
       "1341   Все это смог я различить лишь смутно и с трудо...   \n",
       "25027  Она поехала в игрушечную лавку, накупила игруш...   \n",
       "2585   Наконец настало утро четырнадцатого числа. пог...   \n",
       "16829  Хорошо. А почему прежде, бывало, с восьми часо...   \n",
       "7937   Говоря это, графиня оглянулась на дочь. Наташа...   \n",
       "...                                                  ...   \n",
       "13908  Разве на одну секунду... Я пришел за советом. ...   \n",
       "21490  План был очень хорош, но дело заключалось в то...   \n",
       "2567   Сохраняя, поелику возможно, равновесие, чтобы ...   \n",
       "25405  Было ли в лице Левина что-нибудь особенное, ил...   \n",
       "21900  Через секунду, не понимая, как это случилось, ...   \n",
       "\n",
       "                                                  tokens  \\\n",
       "1341   [все, это, смог, я, различить, лишь, смутно, и...   \n",
       "25027  [она, поехала, в, игрушечную, лавку, накупила,...   \n",
       "2585   [наконец, настало, утро, четырнадцатого, числа...   \n",
       "16829  [хорошо, а, почему, прежде, бывало, с, восьми,...   \n",
       "7937   [говоря, это, графиня, оглянулась, на, дочь, н...   \n",
       "...                                                  ...   \n",
       "13908  [разве, на, одну, секунду, я, пришел, за, сове...   \n",
       "21490  [план, был, очень, хорош, но, дело, заключалос...   \n",
       "2567   [сохраняя, поелику, возможно, равновесие, чтоб...   \n",
       "25405  [было, ли, в, лице, левина, чтонибудь, особенн...   \n",
       "21900  [через, секунду, не, понимая, как, это, случил...   \n",
       "\n",
       "                                       clear_punct_lower  \\\n",
       "1341   все это смог я различить лишь смутно и с трудо...   \n",
       "25027  она поехала в игрушечную лавку накупила игруше...   \n",
       "2585   наконец настало утро четырнадцатого числа пого...   \n",
       "16829  хорошо а почему прежде бывало с восьми часов в...   \n",
       "7937   говоря это графиня оглянулась на дочь наташа л...   \n",
       "...                                                  ...   \n",
       "13908  разве на одну секунду я пришел за советом я ко...   \n",
       "21490  план был очень хорош но дело заключалось в том...   \n",
       "2567   сохраняя поелику возможно равновесие чтобы хор...   \n",
       "25405  было ли в лице левина чтонибудь особенное или ...   \n",
       "21900  через секунду не понимая как это случилось мар...   \n",
       "\n",
       "                                                  labels  \n",
       "1341   [o, o, o, o, o, o, o, o, o, ., o, o, o, o, o, ...  \n",
       "25027  [o, o, o, o, ,, o, o, o, o, o, ., o, o, o, ,, ...  \n",
       "2585   [o, o, o, o, ., o, o, o, o, o, o, o, ,, o, o, ...  \n",
       "16829  [., o, o, ,, ,, o, o, o, o, o, o, o, ,, o, o, ...  \n",
       "7937   [o, ,, o, o, o, ., o, ,, o, o, o, o, o, o, o, ...  \n",
       "...                                                  ...  \n",
       "13908  [o, o, o, ..., o, o, o, ., ,, ,, o, o, o, ,, ,...  \n",
       "21490  [o, o, o, ,, o, o, o, o, ,, o, o, o, o, o, o, ...  \n",
       "2567   [,, o, ,, ,, o, o, o, ,, o, o, ,, o, o, o, o, ...  \n",
       "25405  [o, o, o, o, o, o, ,, o, o, o, ,, o, o, o, o, ...  \n",
       "21900  [o, ,, o, ,, o, o, ,, o, o, o, o, o, o, o, o, ...  \n",
       "\n",
       "[2586 rows x 4 columns]"
      ]
     },
     "execution_count": 2,
     "metadata": {},
     "output_type": "execute_result"
    }
   ],
   "source": [
    "path = 'new_books_prepared.csv'\n",
    "\n",
    "df = pd.read_csv(path, index_col=0)\n",
    "df['tokens'] = df.tokens.apply(ast.literal_eval)\n",
    "df['labels'] = df.labels.apply(ast.literal_eval)\n",
    "df = df[df.tokens.apply(len) < 200]\n",
    "df_train, df_val_test = train_test_split(df, test_size=0.2, random_state=999)\n",
    "df_val, df_test  = train_test_split(df_val_test, test_size=0.5, random_state=999)\n",
    "\n",
    "df_test"
   ]
  },
  {
   "cell_type": "code",
   "execution_count": 7,
   "id": "a4994938",
   "metadata": {},
   "outputs": [],
   "source": [
    "GIGACHAT_TOKEN = 'NDIxMjA2NDktM2VjNS00ZmY0LWExNzItNzA2MTA3YzE4ODljOjMzNGY1OWE1LWU4ZGYtNDQ2Yi1iZDI5LTQ0YzQ4YjkyNGY0Mg==' # os.environ.get('GIGACHAT_TOKEN')"
   ]
  },
  {
   "cell_type": "code",
   "execution_count": 10,
   "id": "5d87c6b2",
   "metadata": {},
   "outputs": [
    {
     "data": {
      "text/plain": [
       "'Привет! Как дела?'"
      ]
     },
     "execution_count": 10,
     "metadata": {},
     "output_type": "execute_result"
    }
   ],
   "source": [
    "chat = GigaChat(credentials=GIGACHAT_TOKEN,\n",
    "                    verify_ssl_certs=False)\n",
    "\n",
    "chat.invoke('привет как дела').content"
   ]
  },
  {
   "cell_type": "code",
   "execution_count": 51,
   "id": "3a539372",
   "metadata": {},
   "outputs": [],
   "source": [
    "def gigachat_pred(text):\n",
    "    chat = GigaChat(credentials=GIGACHAT_TOKEN,\n",
    "                    verify_ssl_certs=False)\n",
    "\n",
    "    messages = [SystemMessage(content=\"Правильно расставляй в тексте знаки препинания. Сохраняй количество слов в тексте\"),\n",
    "                HumanMessage(content='Текст: \\n' + text)]\n",
    "    answer = chat.invoke(messages).content\n",
    "#     with open('gigachat_preds_test.txt', 'a') as file:\n",
    "#         file.write(answer + '\\n')\n",
    "#         file.close()\n",
    "\n",
    "    return answer"
   ]
  },
  {
   "cell_type": "code",
   "execution_count": 54,
   "id": "3ec5eeb0",
   "metadata": {},
   "outputs": [
    {
     "data": {
      "text/plain": [
       "[',', 'o', 'o', 'o', '?']"
      ]
     },
     "execution_count": 54,
     "metadata": {},
     "output_type": "execute_result"
    }
   ],
   "source": [
    "punctuation_signs = ['!', ',', '.', '...', ':', '?']\n",
    "\n",
    "def prepare_pred(text):\n",
    "    prediction = gigachat_pred(text)\n",
    "    tokens = [token for token in prediction.split(' ') if token != '']\n",
    "    labels = []\n",
    "    \n",
    "    for token in tokens:\n",
    "        if (len(token) > 3) & (token[-3:] == '...'):\n",
    "            labels.append('...')\n",
    "        elif token[-1] in punctuation_signs:\n",
    "            labels.append(token[-1])\n",
    "        else:\n",
    "            labels.append('o')\n",
    "    \n",
    "    return labels\n",
    "\n",
    "prepare_pred('привет как у тебя дела')"
   ]
  },
  {
   "cell_type": "code",
   "execution_count": 55,
   "id": "1b963feb",
   "metadata": {},
   "outputs": [
    {
     "name": "stderr",
     "output_type": "stream",
     "text": [
      "  2%|▊                                      | 56/2586 [04:25<2:58:15,  4.23s/it]Giga generation stopped with reason: blacklist\n",
      "  3%|█▎                                     | 84/2586 [06:37<3:24:27,  4.90s/it]Giga generation stopped with reason: blacklist\n",
      "  5%|██                                    | 137/2586 [10:42<3:15:24,  4.79s/it]Giga generation stopped with reason: blacklist\n",
      "  7%|██▋                                   | 182/2586 [14:14<3:14:57,  4.87s/it]Giga generation stopped with reason: blacklist\n",
      "  8%|██▊                                   | 195/2586 [15:14<3:01:39,  4.56s/it]Giga generation stopped with reason: blacklist\n",
      "  8%|██▉                                   | 197/2586 [15:22<2:52:46,  4.34s/it]Giga generation stopped with reason: blacklist\n",
      " 10%|███▊                                  | 263/2586 [20:21<2:41:05,  4.16s/it]Giga generation stopped with reason: blacklist\n",
      " 10%|███▉                                  | 269/2586 [20:49<2:59:48,  4.66s/it]Giga generation stopped with reason: blacklist\n",
      " 12%|████▌                                 | 311/2586 [24:10<2:57:55,  4.69s/it]Giga generation stopped with reason: blacklist\n",
      " 13%|████▉                                 | 334/2586 [25:52<2:55:42,  4.68s/it]Giga generation stopped with reason: blacklist\n",
      " 15%|█████▉                                | 400/2586 [30:47<2:48:01,  4.61s/it]Giga generation stopped with reason: blacklist\n",
      " 19%|███████▏                              | 489/2586 [37:35<2:28:08,  4.24s/it]Giga generation stopped with reason: blacklist\n",
      " 27%|██████████                            | 686/2586 [52:31<2:15:53,  4.29s/it]Giga generation stopped with reason: blacklist\n",
      " 31%|███████████▎                        | 813/2586 [1:01:52<2:12:24,  4.48s/it]Giga generation stopped with reason: blacklist\n",
      " 38%|█████████████▋                      | 987/2586 [1:15:05<2:11:52,  4.95s/it]Giga generation stopped with reason: blacklist\n",
      " 40%|█████████████▉                     | 1032/2586 [1:18:23<1:46:53,  4.13s/it]Giga generation stopped with reason: blacklist\n",
      " 42%|██████████████▊                    | 1090/2586 [1:22:48<1:59:19,  4.79s/it]Giga generation stopped with reason: blacklist\n",
      " 45%|███████████████▊                   | 1165/2586 [1:28:33<2:01:39,  5.14s/it]Giga generation stopped with reason: blacklist\n",
      " 45%|███████████████▊                   | 1166/2586 [1:28:37<1:51:57,  4.73s/it]Giga generation stopped with reason: blacklist\n",
      " 48%|████████████████▊                  | 1245/2586 [1:34:34<1:43:03,  4.61s/it]Giga generation stopped with reason: blacklist\n",
      " 51%|█████████████████▉                 | 1328/2586 [1:40:33<1:29:05,  4.25s/it]Giga generation stopped with reason: blacklist\n",
      " 55%|███████████████████                | 1411/2586 [1:46:51<1:28:22,  4.51s/it]Giga generation stopped with reason: blacklist\n",
      " 61%|█████████████████████▏             | 1569/2586 [1:58:42<1:17:07,  4.55s/it]Giga generation stopped with reason: blacklist\n",
      " 64%|██████████████████████▍            | 1657/2586 [2:05:28<1:02:04,  4.01s/it]Giga generation stopped with reason: blacklist\n",
      " 64%|██████████████████████▍            | 1662/2586 [2:05:49<1:03:47,  4.14s/it]Giga generation stopped with reason: blacklist\n",
      " 66%|██████████████████████▉            | 1697/2586 [2:08:24<1:05:04,  4.39s/it]Giga generation stopped with reason: blacklist\n",
      " 69%|█████████████████████████▌           | 1786/2586 [2:15:12<58:59,  4.42s/it]Giga generation stopped with reason: blacklist\n",
      " 69%|████████████████████████▎          | 1797/2586 [2:16:04<1:05:30,  4.98s/it]Giga generation stopped with reason: blacklist\n",
      " 76%|████████████████████████████▏        | 1974/2586 [2:29:38<53:55,  5.29s/it]Giga generation stopped with reason: blacklist\n",
      " 77%|████████████████████████████▍        | 1989/2586 [2:30:45<48:23,  4.86s/it]Giga generation stopped with reason: blacklist\n",
      " 77%|████████████████████████████▌        | 1996/2586 [2:31:15<44:24,  4.52s/it]Giga generation stopped with reason: blacklist\n",
      " 78%|█████████████████████████████        | 2027/2586 [2:33:29<39:28,  4.24s/it]Giga generation stopped with reason: blacklist\n",
      " 81%|█████████████████████████████▊       | 2082/2586 [2:37:39<39:44,  4.73s/it]Giga generation stopped with reason: blacklist\n",
      " 85%|███████████████████████████████▎     | 2188/2586 [2:45:54<32:22,  4.88s/it]Giga generation stopped with reason: blacklist\n",
      " 89%|█████████████████████████████████    | 2308/2586 [2:54:49<18:52,  4.07s/it]Giga generation stopped with reason: blacklist\n",
      " 90%|█████████████████████████████████▏   | 2317/2586 [2:55:27<19:53,  4.44s/it]Giga generation stopped with reason: blacklist\n",
      " 99%|████████████████████████████████████▊| 2570/2586 [3:14:37<01:11,  4.45s/it]Giga generation stopped with reason: blacklist\n",
      "100%|████████████████████████████████████▉| 2583/2586 [3:15:33<00:13,  4.42s/it]Giga generation stopped with reason: blacklist\n",
      "100%|█████████████████████████████████████| 2586/2586 [3:15:46<00:00,  4.54s/it]\n"
     ]
    }
   ],
   "source": [
    "preds = []\n",
    "true_labels = []\n",
    "\n",
    "# процесс падал, поэтому продолжал генерировать с момента падения\n",
    "for id_text in tqdm.tqdm(range(len(df_test.text.values))):\n",
    "    time.sleep(3)\n",
    "    prediction = prepare_pred(df_test.clear_punct_lower.values[id_text])   \n",
    "    needed_labels = df_test.labels.values[id_text]\n",
    "    \n",
    "    # если модель выдала что-то не то по размеру\n",
    "    if len(prediction) != len(needed_labels):        \n",
    "        not_empty_token_idxs = ~(np.array(df_test.tokens.values[id_text]) == '')\n",
    "        needed_labels = np.array(needed_labels)[not_empty_token_idxs].tolist()\n",
    "        \n",
    "    if len(needed_labels) == len(prediction):\n",
    "        true_labels += needed_labels\n",
    "        preds += prediction\n"
   ]
  },
  {
   "cell_type": "code",
   "execution_count": 56,
   "id": "88c0823e",
   "metadata": {},
   "outputs": [
    {
     "data": {
      "text/plain": [
       "(68141, 68141)"
      ]
     },
     "execution_count": 56,
     "metadata": {},
     "output_type": "execute_result"
    }
   ],
   "source": [
    "len(true_labels), len(preds)"
   ]
  },
  {
   "cell_type": "code",
   "execution_count": 58,
   "id": "015e0027",
   "metadata": {},
   "outputs": [
    {
     "data": {
      "text/plain": [
       "array([6, 6, 6, ..., 6, 6, 2])"
      ]
     },
     "execution_count": 58,
     "metadata": {},
     "output_type": "execute_result"
    }
   ],
   "source": [
    "from sklearn.preprocessing import LabelEncoder\n",
    "\n",
    "le = LabelEncoder()\n",
    "\n",
    "y_pred = le.fit_transform(preds)\n",
    "y_true = le.transform(true_labels)\n",
    "\n",
    "y_true"
   ]
  },
  {
   "cell_type": "code",
   "execution_count": 60,
   "id": "cac990b4",
   "metadata": {},
   "outputs": [],
   "source": [
    "def calc_metrics_no_proba(y_true, y_pred):\n",
    "    print('Доля пробелов:', (y_true == 6).mean())\n",
    "    print('Accuracy:', accuracy_score(y_true, y_pred, ))\n",
    "#     print('Top-2 Accuracy:', top_k_accuracy_score(y_true, y_pred_proba, k=2))\n",
    "#     rint('ROC-AUC (OVR):',roc_auc_score(y_true, y_pred_proba, multi_class='ovr'))\n",
    "#     print('AUC-PR:',average_precision_score(y_true, y_pred_proba, average='weighted'))\n",
    "    \n",
    "    metrics = []\n",
    "    metrics.append(list(dict(sorted(Counter(y_true).items())).values()))\n",
    "    metrics.append(f1_score(y_true, y_pred, average=None))\n",
    "    metrics.append(precision_score(y_true, y_pred, average=None, zero_division=0))\n",
    "    metrics.append(recall_score(y_true, y_pred, average=None, zero_division=0))\n",
    "#     metrics.append(roc_auc_score(y_true, y_pred_proba, multi_class='ovr', average=None))\n",
    "#     metrics.append(average_precision_score(y_true, y_pred_proba, average=None))\n",
    "    metrics_index = ['Count', 'F1-Score', 'Precision', 'Recall']\n",
    "#                      'ROC-AUC', 'AUC-PR']\n",
    "    df_metrics = pd.DataFrame(metrics, columns=le.classes_, index=metrics_index)\n",
    "    \n",
    "    return df_metrics"
   ]
  },
  {
   "cell_type": "code",
   "execution_count": 61,
   "id": "114af2dc",
   "metadata": {},
   "outputs": [
    {
     "name": "stdout",
     "output_type": "stream",
     "text": [
      "Доля пробелов: 0.7968183619260064\n",
      "Accuracy: 0.9298513376674836\n"
     ]
    },
    {
     "data": {
      "text/html": [
       "<div>\n",
       "<style scoped>\n",
       "    .dataframe tbody tr th:only-of-type {\n",
       "        vertical-align: middle;\n",
       "    }\n",
       "\n",
       "    .dataframe tbody tr th {\n",
       "        vertical-align: top;\n",
       "    }\n",
       "\n",
       "    .dataframe thead th {\n",
       "        text-align: right;\n",
       "    }\n",
       "</style>\n",
       "<table border=\"1\" class=\"dataframe\">\n",
       "  <thead>\n",
       "    <tr style=\"text-align: right;\">\n",
       "      <th></th>\n",
       "      <th>!</th>\n",
       "      <th>,</th>\n",
       "      <th>.</th>\n",
       "      <th>...</th>\n",
       "      <th>:</th>\n",
       "      <th>?</th>\n",
       "      <th>o</th>\n",
       "    </tr>\n",
       "  </thead>\n",
       "  <tbody>\n",
       "    <tr>\n",
       "      <th>Count</th>\n",
       "      <td>127.000000</td>\n",
       "      <td>9061.000000</td>\n",
       "      <td>4222.000000</td>\n",
       "      <td>91.0</td>\n",
       "      <td>133.000000</td>\n",
       "      <td>211.000000</td>\n",
       "      <td>54296.000000</td>\n",
       "    </tr>\n",
       "    <tr>\n",
       "      <th>F1-Score</th>\n",
       "      <td>0.109589</td>\n",
       "      <td>0.787717</td>\n",
       "      <td>0.746078</td>\n",
       "      <td>0.0</td>\n",
       "      <td>0.190476</td>\n",
       "      <td>0.627848</td>\n",
       "      <td>0.969944</td>\n",
       "    </tr>\n",
       "    <tr>\n",
       "      <th>Precision</th>\n",
       "      <td>0.421053</td>\n",
       "      <td>0.792691</td>\n",
       "      <td>0.850303</td>\n",
       "      <td>0.0</td>\n",
       "      <td>0.321429</td>\n",
       "      <td>0.673913</td>\n",
       "      <td>0.958297</td>\n",
       "    </tr>\n",
       "    <tr>\n",
       "      <th>Recall</th>\n",
       "      <td>0.062992</td>\n",
       "      <td>0.782805</td>\n",
       "      <td>0.664614</td>\n",
       "      <td>0.0</td>\n",
       "      <td>0.135338</td>\n",
       "      <td>0.587678</td>\n",
       "      <td>0.981877</td>\n",
       "    </tr>\n",
       "  </tbody>\n",
       "</table>\n",
       "</div>"
      ],
      "text/plain": [
       "                    !            ,            .   ...           :           ?  \\\n",
       "Count      127.000000  9061.000000  4222.000000  91.0  133.000000  211.000000   \n",
       "F1-Score     0.109589     0.787717     0.746078   0.0    0.190476    0.627848   \n",
       "Precision    0.421053     0.792691     0.850303   0.0    0.321429    0.673913   \n",
       "Recall       0.062992     0.782805     0.664614   0.0    0.135338    0.587678   \n",
       "\n",
       "                      o  \n",
       "Count      54296.000000  \n",
       "F1-Score       0.969944  \n",
       "Precision      0.958297  \n",
       "Recall         0.981877  "
      ]
     },
     "execution_count": 61,
     "metadata": {},
     "output_type": "execute_result"
    }
   ],
   "source": [
    "calc_metrics_no_proba(y_true, y_pred)"
   ]
  },
  {
   "cell_type": "code",
   "execution_count": 62,
   "id": "2b50f589",
   "metadata": {},
   "outputs": [
    {
     "name": "stdout",
     "output_type": "stream",
     "text": [
      "Доля пробелов: 0.7968183619260064\n",
      "Accuracy: 0.9298513376674836\n"
     ]
    }
   ],
   "source": [
    "calc_metrics_no_proba(y_true, y_pred).to_excel('metrics_giga.xlsx')"
   ]
  },
  {
   "cell_type": "code",
   "execution_count": null,
   "id": "4310f7ee",
   "metadata": {},
   "outputs": [],
   "source": []
  }
 ],
 "metadata": {
  "kernelspec": {
   "display_name": "Python 3 (ipykernel)",
   "language": "python",
   "name": "python3"
  },
  "language_info": {
   "codemirror_mode": {
    "name": "ipython",
    "version": 3
   },
   "file_extension": ".py",
   "mimetype": "text/x-python",
   "name": "python",
   "nbconvert_exporter": "python",
   "pygments_lexer": "ipython3",
   "version": "3.9.12"
  },
  "varInspector": {
   "cols": {
    "lenName": 16,
    "lenType": 16,
    "lenVar": 40
   },
   "kernels_config": {
    "python": {
     "delete_cmd_postfix": "",
     "delete_cmd_prefix": "del ",
     "library": "var_list.py",
     "varRefreshCmd": "print(var_dic_list())"
    },
    "r": {
     "delete_cmd_postfix": ") ",
     "delete_cmd_prefix": "rm(",
     "library": "var_list.r",
     "varRefreshCmd": "cat(var_dic_list()) "
    }
   },
   "types_to_exclude": [
    "module",
    "function",
    "builtin_function_or_method",
    "instance",
    "_Feature"
   ],
   "window_display": false
  }
 },
 "nbformat": 4,
 "nbformat_minor": 5
}
