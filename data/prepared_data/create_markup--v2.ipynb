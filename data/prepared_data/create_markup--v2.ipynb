{
 "cells": [
  {
   "cell_type": "markdown",
   "id": "0e383a9f",
   "metadata": {},
   "source": [
    "# Создание финальной разметки"
   ]
  },
  {
   "cell_type": "code",
   "execution_count": 3,
   "id": "08221496",
   "metadata": {},
   "outputs": [],
   "source": [
    "import os\n",
    "import tqdm\n",
    "import pandas as pd\n",
    "import re\n",
    "import numpy as np\n",
    "from collections import Counter\n",
    "from sklearn.model_selection import train_test_split"
   ]
  },
  {
   "cell_type": "code",
   "execution_count": 4,
   "id": "098e9519",
   "metadata": {},
   "outputs": [
    {
     "data": {
      "text/plain": [
       "16"
      ]
     },
     "execution_count": 4,
     "metadata": {},
     "output_type": "execute_result"
    }
   ],
   "source": [
    "path_to_books = '/home/niknikiforov/RuPunctNet/data/prepared_data/books'\n",
    "\n",
    "book_file_names = [i for i in os.listdir(path_to_books) if i != '.DS_Store']\n",
    "len(book_file_names)"
   ]
  },
  {
   "cell_type": "code",
   "execution_count": 5,
   "id": "bfd4982a",
   "metadata": {},
   "outputs": [],
   "source": [
    "book_file_names.remove('bytie_i_vremya.txt')\n",
    "book_file_names.remove('tak_govoril_zaratustra.txt')\n",
    "book_file_names.remove('starik_i_more.txt')"
   ]
  },
  {
   "cell_type": "code",
   "execution_count": 6,
   "id": "bc95d2a1",
   "metadata": {},
   "outputs": [
    {
     "data": {
      "text/plain": [
       "13"
      ]
     },
     "execution_count": 6,
     "metadata": {},
     "output_type": "execute_result"
    }
   ],
   "source": [
    "len(book_file_names)"
   ]
  },
  {
   "cell_type": "code",
   "execution_count": 7,
   "id": "6532de85",
   "metadata": {},
   "outputs": [
    {
     "data": {
      "text/plain": [
       "['belye_nochi.txt',\n",
       " 'po.txt',\n",
       " 'mir_v_orehovoy-skorlupke.txt',\n",
       " 'detstvo_tolstoi.txt',\n",
       " 'voina_mir12.txt',\n",
       " 'prestup_i_nakaz.txt',\n",
       " 'chekhov.txt',\n",
       " 'idiot.txt',\n",
       " 'oblomov.txt',\n",
       " 'voina_mir3.txt',\n",
       " 'voina_mir4.txt',\n",
       " 'master_margarita.txt',\n",
       " 'anna_karenina.txt']"
      ]
     },
     "execution_count": 7,
     "metadata": {},
     "output_type": "execute_result"
    }
   ],
   "source": [
    "# в филосовских текстах присуствует зашумление текста из-за битый формул, второго языка и тд\n",
    "book_file_names"
   ]
  },
  {
   "cell_type": "code",
   "execution_count": 8,
   "id": "b1cfccc6",
   "metadata": {},
   "outputs": [
    {
     "name": "stderr",
     "output_type": "stream",
     "text": [
      "100%|███████████████████████████████████████████████████████████████████████████████████| 13/13 [00:00<00:00, 25.12it/s]\n"
     ]
    },
    {
     "data": {
      "text/plain": [
       "26474"
      ]
     },
     "execution_count": 8,
     "metadata": {},
     "output_type": "execute_result"
    }
   ],
   "source": [
    "all_books_texts = []\n",
    "\n",
    "for book_name in tqdm.tqdm(book_file_names): \n",
    "    with open(path_to_books + \"/\" + book_name, encoding='utf-8') as file:\n",
    "        for line in file:\n",
    "            line = line[:-1]\n",
    "            \n",
    "            # меняем тире\n",
    "            line = re.sub('–', '—', line)\n",
    "            \n",
    "            # если реплика, то проверяем отстутсвие еще одного тире\n",
    "            if (line[:2] == '— ') & (' — ' in line[2:]):\n",
    "                continue\n",
    "            if ('\"' in line) & (':' in line):\n",
    "                continue\n",
    "                \n",
    "            elif line[:2] == '— ':\n",
    "                line = line[2:]\n",
    "                \n",
    "            # меняем доветочие и  троеточие\n",
    "            line = re.sub('\\?..', '?', line)\n",
    "            line = re.sub('\\!..', '!', line)\n",
    "            line = re.sub('…', '...', line)\n",
    "            \n",
    "            # убираем технические знаки для ссылок\n",
    "            \n",
    "            line = re.sub(r'{\\d}', '', line)\n",
    "            line = re.sub('{', '', line)\n",
    "            line = re.sub('}', '', line)\n",
    "            \n",
    "            # убираем тире\n",
    "            \n",
    "            line = re.sub(r'\\s-\\s', '', line)\n",
    "            \n",
    "            # убираем ;, \"\"\n",
    "            \n",
    "            line = re.sub(';', '.', line)\n",
    "            line = re.sub('\"', '', line)\n",
    "\n",
    "\n",
    "            all_books_texts.append(line)\n",
    "            \n",
    "len(all_books_texts)"
   ]
  },
  {
   "cell_type": "code",
   "execution_count": 9,
   "id": "55618c85",
   "metadata": {},
   "outputs": [],
   "source": [
    "def clean_text_special_symbols(line):\n",
    "    line = re.sub('– ', '', line)\n",
    "    line = re.sub('— ', '', line)\n",
    "    line = re.sub('\\(', '', line)\n",
    "    line = re.sub('\\)', '', line)\n",
    "    line = re.sub('\"', '', line)\n",
    "    line = line.lower()\n",
    "    line = re.sub('\\s+', ' ', line)\n",
    "    \n",
    "    return [token for token in line.split(' ') if token != '']\n"
   ]
  },
  {
   "cell_type": "code",
   "execution_count": 10,
   "id": "929dc3a7",
   "metadata": {},
   "outputs": [],
   "source": [
    "import string"
   ]
  },
  {
   "cell_type": "code",
   "execution_count": 11,
   "id": "2b0f829e",
   "metadata": {},
   "outputs": [],
   "source": [
    "def clear_punct_lower(line):\n",
    "    line = line.lower()\n",
    "    line = re.sub('–', '', line)\n",
    "    line = re.sub('—', '', line).strip()\n",
    "    \n",
    "    # удаляем всю пунктуацию\n",
    "    line = line.translate(str.maketrans('', '', string.punctuation))\n",
    "    return line"
   ]
  },
  {
   "cell_type": "code",
   "execution_count": 12,
   "id": "ebd00358",
   "metadata": {},
   "outputs": [],
   "source": [
    "def create_labels(token_list):\n",
    "    \n",
    "    labels_puncts = ['.', ',', '?', '!', ';', '...', ':']\n",
    "    labels = []\n",
    "    for token in token_list:\n",
    "        if (len(token) > 3) & (token[-3:] == '...'):\n",
    "            labels.append('...')\n",
    "        elif token[-1] in labels_puncts:\n",
    "            labels.append(token[-1])\n",
    "        else:\n",
    "            labels.append('o')\n",
    "    \n",
    "    return labels"
   ]
  },
  {
   "cell_type": "code",
   "execution_count": 13,
   "id": "9dc16c56",
   "metadata": {},
   "outputs": [],
   "source": [
    "def get_markup(df_text):\n",
    "    '''\n",
    "    Функция, принимающая на вход датафрейм с колонкой текстов (text) и\n",
    "    возвращающая датафрейм с соответствующими метками.\n",
    "    1) Список очищенных токенов для обучения\n",
    "    2) Список токенов приведенных к нижнему регистру для будущей модели\n",
    "    2) Метки основных знаков препинания:\n",
    "    ['.', ',', '?', '!', ';', '...', ':', 'o']. (o = other)\n",
    "    \n",
    "    \n",
    "    Таким образом, для каждого текста будет возвращаться 4 списка\n",
    "    '''\n",
    "    df_text['tokens'] = df_text['text'].apply(clean_text_special_symbols)\n",
    "    df_text['clear_punct_lower'] = df_text['text'].apply(clear_punct_lower)\n",
    "    \n",
    "    labels_puncts = ['.', ',', '?', '!', ';', '...', ':']\n",
    "    df_text['labels'] = df_text['tokens'].apply(create_labels)\n",
    "    \n",
    "    \n",
    "    df_text['tokens'] = df_text['tokens'].apply(lambda x: [re.sub(\"[^\\w\\s]\", '', y) for y in x])\n",
    "    \n",
    "    return df_text\n"
   ]
  },
  {
   "cell_type": "code",
   "execution_count": 38,
   "id": "7aead464",
   "metadata": {},
   "outputs": [
    {
     "data": {
      "text/html": [
       "<div>\n",
       "<style scoped>\n",
       "    .dataframe tbody tr th:only-of-type {\n",
       "        vertical-align: middle;\n",
       "    }\n",
       "\n",
       "    .dataframe tbody tr th {\n",
       "        vertical-align: top;\n",
       "    }\n",
       "\n",
       "    .dataframe thead th {\n",
       "        text-align: right;\n",
       "    }\n",
       "</style>\n",
       "<table border=\"1\" class=\"dataframe\">\n",
       "  <thead>\n",
       "    <tr style=\"text-align: right;\">\n",
       "      <th></th>\n",
       "      <th>text</th>\n",
       "      <th>tokens</th>\n",
       "      <th>clear_punct_lower</th>\n",
       "      <th>labels</th>\n",
       "    </tr>\n",
       "  </thead>\n",
       "  <tbody>\n",
       "    <tr>\n",
       "      <th>0</th>\n",
       "      <td>Итак, вы понимаете, читатель, каким образом я ...</td>\n",
       "      <td>[итак, вы, понимаете, читатель, каким, образом...</td>\n",
       "      <td>итак вы понимаете читатель каким образом я зна...</td>\n",
       "      <td>[,, o, ,, ,, o, o, o, o, o, o, .]</td>\n",
       "    </tr>\n",
       "    <tr>\n",
       "      <th>1</th>\n",
       "      <td>Я ходил много и долго, так что уже совсем успе...</td>\n",
       "      <td>[я, ходил, много, и, долго, так, что, уже, сов...</td>\n",
       "      <td>я ходил много и долго так что уже совсем успел...</td>\n",
       "      <td>[o, o, o, o, ,, o, o, o, o, ,, o, o, ,, ,, o, ...</td>\n",
       "    </tr>\n",
       "    <tr>\n",
       "      <th>2</th>\n",
       "      <td>А все-таки моя ночь была лучше дня!от как это ...</td>\n",
       "      <td>[а, всетаки, моя, ночь, была, лучше, дняот, ка...</td>\n",
       "      <td>а всетаки моя ночь была лучше дняот как это было</td>\n",
       "      <td>[o, o, o, o, o, o, o, o, o, .]</td>\n",
       "    </tr>\n",
       "    <tr>\n",
       "      <th>3</th>\n",
       "      <td>Я пришел назад в город очень поздно, и уже про...</td>\n",
       "      <td>[я, пришел, назад, в, город, очень, поздно, и,...</td>\n",
       "      <td>я пришел назад в город очень поздно и уже проб...</td>\n",
       "      <td>[o, o, o, o, o, o, ,, o, o, o, o, ,, o, o, o, ...</td>\n",
       "    </tr>\n",
       "    <tr>\n",
       "      <th>4</th>\n",
       "      <td>По той стороне тротуара, недалеко от моей незн...</td>\n",
       "      <td>[по, той, стороне, тротуара, недалеко, от, мое...</td>\n",
       "      <td>по той стороне тротуара недалеко от моей незна...</td>\n",
       "      <td>[o, o, o, ,, o, o, o, ,, o, o, o, o, ,, o, ,, ...</td>\n",
       "    </tr>\n",
       "    <tr>\n",
       "      <th>...</th>\n",
       "      <td>...</td>\n",
       "      <td>...</td>\n",
       "      <td>...</td>\n",
       "      <td>...</td>\n",
       "    </tr>\n",
       "    <tr>\n",
       "      <th>26469</th>\n",
       "      <td>И разве астрономы могли бы понять и вычислить ...</td>\n",
       "      <td>[и, разве, астрономы, могли, бы, понять, и, вы...</td>\n",
       "      <td>и разве астрономы могли бы понять и вычислить ...</td>\n",
       "      <td>[o, o, o, o, o, o, o, o, ,, o, o, o, o, o, o, ...</td>\n",
       "    </tr>\n",
       "    <tr>\n",
       "      <th>26470</th>\n",
       "      <td>Но она все-таки не рассмотрела бы его лица, ес...</td>\n",
       "      <td>[но, она, всетаки, не, рассмотрела, бы, его, л...</td>\n",
       "      <td>но она всетаки не рассмотрела бы его лица если...</td>\n",
       "      <td>[o, o, o, o, o, o, o, ,, o, o, o, ,, o, ,, o, ...</td>\n",
       "    </tr>\n",
       "    <tr>\n",
       "      <th>26471</th>\n",
       "      <td>Она понимает, — думал он, — она знает, о чем я...</td>\n",
       "      <td>[она, понимает, думал, он, она, знает, о, чем,...</td>\n",
       "      <td>она понимает  думал он  она знает о чем я дума...</td>\n",
       "      <td>[o, ,, o, ,, o, ,, o, o, o, ., o, o, o, ,, o, ...</td>\n",
       "    </tr>\n",
       "    <tr>\n",
       "      <th>26472</th>\n",
       "      <td>Нет, не надо говорить, — подумал он, когда она...</td>\n",
       "      <td>[нет, не, надо, говорить, подумал, он, когда, ...</td>\n",
       "      <td>нет не надо говорить  подумал он когда она про...</td>\n",
       "      <td>[,, o, o, ,, o, ,, o, o, o, o, ., o, ,, o, o, ...</td>\n",
       "    </tr>\n",
       "    <tr>\n",
       "      <th>26473</th>\n",
       "      <td>Это новое чувство не изменило меня, не осчастл...</td>\n",
       "      <td>[это, новое, чувство, не, изменило, меня, не, ...</td>\n",
       "      <td>это новое чувство не изменило меня не осчастли...</td>\n",
       "      <td>[o, o, o, o, o, ,, o, ,, o, o, ,, o, o, ,, o, ...</td>\n",
       "    </tr>\n",
       "  </tbody>\n",
       "</table>\n",
       "<p>26474 rows × 4 columns</p>\n",
       "</div>"
      ],
      "text/plain": [
       "                                                    text  \\\n",
       "0      Итак, вы понимаете, читатель, каким образом я ...   \n",
       "1      Я ходил много и долго, так что уже совсем успе...   \n",
       "2      А все-таки моя ночь была лучше дня!от как это ...   \n",
       "3      Я пришел назад в город очень поздно, и уже про...   \n",
       "4      По той стороне тротуара, недалеко от моей незн...   \n",
       "...                                                  ...   \n",
       "26469  И разве астрономы могли бы понять и вычислить ...   \n",
       "26470  Но она все-таки не рассмотрела бы его лица, ес...   \n",
       "26471  Она понимает, — думал он, — она знает, о чем я...   \n",
       "26472  Нет, не надо говорить, — подумал он, когда она...   \n",
       "26473  Это новое чувство не изменило меня, не осчастл...   \n",
       "\n",
       "                                                  tokens  \\\n",
       "0      [итак, вы, понимаете, читатель, каким, образом...   \n",
       "1      [я, ходил, много, и, долго, так, что, уже, сов...   \n",
       "2      [а, всетаки, моя, ночь, была, лучше, дняот, ка...   \n",
       "3      [я, пришел, назад, в, город, очень, поздно, и,...   \n",
       "4      [по, той, стороне, тротуара, недалеко, от, мое...   \n",
       "...                                                  ...   \n",
       "26469  [и, разве, астрономы, могли, бы, понять, и, вы...   \n",
       "26470  [но, она, всетаки, не, рассмотрела, бы, его, л...   \n",
       "26471  [она, понимает, думал, он, она, знает, о, чем,...   \n",
       "26472  [нет, не, надо, говорить, подумал, он, когда, ...   \n",
       "26473  [это, новое, чувство, не, изменило, меня, не, ...   \n",
       "\n",
       "                                       clear_punct_lower  \\\n",
       "0      итак вы понимаете читатель каким образом я зна...   \n",
       "1      я ходил много и долго так что уже совсем успел...   \n",
       "2       а всетаки моя ночь была лучше дняот как это было   \n",
       "3      я пришел назад в город очень поздно и уже проб...   \n",
       "4      по той стороне тротуара недалеко от моей незна...   \n",
       "...                                                  ...   \n",
       "26469  и разве астрономы могли бы понять и вычислить ...   \n",
       "26470  но она всетаки не рассмотрела бы его лица если...   \n",
       "26471  она понимает  думал он  она знает о чем я дума...   \n",
       "26472  нет не надо говорить  подумал он когда она про...   \n",
       "26473  это новое чувство не изменило меня не осчастли...   \n",
       "\n",
       "                                                  labels  \n",
       "0                      [,, o, ,, ,, o, o, o, o, o, o, .]  \n",
       "1      [o, o, o, o, ,, o, o, o, o, ,, o, o, ,, ,, o, ...  \n",
       "2                         [o, o, o, o, o, o, o, o, o, .]  \n",
       "3      [o, o, o, o, o, o, ,, o, o, o, o, ,, o, o, o, ...  \n",
       "4      [o, o, o, ,, o, o, o, ,, o, o, o, o, ,, o, ,, ...  \n",
       "...                                                  ...  \n",
       "26469  [o, o, o, o, o, o, o, o, ,, o, o, o, o, o, o, ...  \n",
       "26470  [o, o, o, o, o, o, o, ,, o, o, o, ,, o, ,, o, ...  \n",
       "26471  [o, ,, o, ,, o, ,, o, o, o, ., o, o, o, ,, o, ...  \n",
       "26472  [,, o, o, ,, o, ,, o, o, o, o, ., o, ,, o, o, ...  \n",
       "26473  [o, o, o, o, o, ,, o, ,, o, o, ,, o, o, ,, o, ...  \n",
       "\n",
       "[26474 rows x 4 columns]"
      ]
     },
     "execution_count": 38,
     "metadata": {},
     "output_type": "execute_result"
    }
   ],
   "source": [
    "books_markup = pd.DataFrame()\n",
    "books_markup['text'] = all_books_texts\n",
    "books_markup = get_markup(books_markup)\n",
    "books_markup"
   ]
  },
  {
   "cell_type": "code",
   "execution_count": 25,
   "id": "7e9b8d59",
   "metadata": {},
   "outputs": [],
   "source": [
    "books_markup.to_csv(\"new_books_prepared.csv\")"
   ]
  },
  {
   "cell_type": "code",
   "execution_count": 16,
   "id": "c5e02de9",
   "metadata": {},
   "outputs": [
    {
     "name": "stderr",
     "output_type": "stream",
     "text": [
      "100%|█████████████████████████████████████████████████████████████████████████| 26474/26474 [00:00<00:00, 186406.94it/s]\n"
     ]
    },
    {
     "data": {
      "text/plain": [
       "Counter({'o': 891801,\n",
       "         ',': 150475,\n",
       "         '.': 65898,\n",
       "         '?': 3119,\n",
       "         '!': 2328,\n",
       "         ':': 2168,\n",
       "         '...': 1889})"
      ]
     },
     "execution_count": 16,
     "metadata": {},
     "output_type": "execute_result"
    }
   ],
   "source": [
    "markup_stats = Counter()\n",
    "\n",
    "for row in tqdm.tqdm(books_markup.values):\n",
    "    markup_stats += Counter(row[3])\n",
    "\n",
    "markup_stats "
   ]
  },
  {
   "cell_type": "code",
   "execution_count": 17,
   "id": "c8cc215e",
   "metadata": {},
   "outputs": [
    {
     "name": "stdout",
     "output_type": "stream",
     "text": [
      "Share of , = 0.6662\n",
      "Share of o = 3.9482\n",
      "Share of . = 0.2917\n",
      "Share of ... = 0.0084\n",
      "Share of ! = 0.0103\n",
      "Share of : = 0.0096\n",
      "Share of ? = 0.0138\n"
     ]
    }
   ],
   "source": [
    "for key, value in markup_stats.items():\n",
    "    print(f\"Share of {key} = {np.round(value/(sum(markup_stats.values())-markup_stats['o']), 4)}\")"
   ]
  },
  {
   "cell_type": "markdown",
   "id": "d79e869f",
   "metadata": {},
   "source": [
    "# Gigachat augmentation"
   ]
  },
  {
   "cell_type": "code",
   "execution_count": 20,
   "id": "2c54f873",
   "metadata": {},
   "outputs": [],
   "source": [
    "from gigachat import GigaChat"
   ]
  },
  {
   "cell_type": "code",
   "execution_count": 21,
   "id": "87768023",
   "metadata": {},
   "outputs": [],
   "source": [
    "giga = GigaChat(credentials=GIGACHAT_TOKEN,model=\"GigaChat-Pro\", verify_ssl_certs=False)"
   ]
  },
  {
   "cell_type": "code",
   "execution_count": 26,
   "id": "a46068e4",
   "metadata": {
    "scrolled": true
   },
   "outputs": [
    {
     "name": "stderr",
     "output_type": "stream",
     "text": [
      "  1%|▍                                                                           | 137/26474 [04:47<15:21:04,  2.10s/it]\n"
     ]
    }
   ],
   "source": [
    "responses = []\n",
    "\n",
    "for line_index in tqdm.tqdm(range(books_markup.shape[0])):\n",
    "    line = books_markup.text.iloc[line_index]\n",
    "    try:\n",
    "        req = 'Перефразируй текст и добавь в него эмоциональные знаки препинания ?, ! и ...: ' + line\n",
    "        responses.append(giga.chat(req).choices[0].message.content)\n",
    "    except:\n",
    "        break"
   ]
  },
  {
   "cell_type": "code",
   "execution_count": 31,
   "id": "95bfa46d",
   "metadata": {},
   "outputs": [
    {
     "data": {
      "text/html": [
       "<div>\n",
       "<style scoped>\n",
       "    .dataframe tbody tr th:only-of-type {\n",
       "        vertical-align: middle;\n",
       "    }\n",
       "\n",
       "    .dataframe tbody tr th {\n",
       "        vertical-align: top;\n",
       "    }\n",
       "\n",
       "    .dataframe thead th {\n",
       "        text-align: right;\n",
       "    }\n",
       "</style>\n",
       "<table border=\"1\" class=\"dataframe\">\n",
       "  <thead>\n",
       "    <tr style=\"text-align: right;\">\n",
       "      <th></th>\n",
       "      <th>text</th>\n",
       "      <th>tokens</th>\n",
       "      <th>clear_punct_lower</th>\n",
       "      <th>labels</th>\n",
       "    </tr>\n",
       "  </thead>\n",
       "  <tbody>\n",
       "    <tr>\n",
       "      <th>0</th>\n",
       "      <td>И так, вы понимаете, читатель, каким образом я...</td>\n",
       "      <td>[и, так, вы, понимаете, читатель, каким, образ...</td>\n",
       "      <td>и так вы понимаете читатель каким образом я зн...</td>\n",
       "      <td>[o, ,, o, ,, ,, o, o, o, o, o, o, !]</td>\n",
       "    </tr>\n",
       "    <tr>\n",
       "      <th>1</th>\n",
       "      <td>Я ходил много и долго, так что уже совсем успе...</td>\n",
       "      <td>[я, ходил, много, и, долго, так, что, уже, сов...</td>\n",
       "      <td>я ходил много и долго так что уже совсем успел...</td>\n",
       "      <td>[o, o, o, o, ,, o, o, o, o, ,, o, o, ,, ,, o, ...</td>\n",
       "    </tr>\n",
       "    <tr>\n",
       "      <th>2</th>\n",
       "      <td>А все-таки моя ночь была лучше дня! Вот как эт...</td>\n",
       "      <td>[а, всетаки, моя, ночь, была, лучше, дня, вот,...</td>\n",
       "      <td>а всетаки моя ночь была лучше дня вот как это ...</td>\n",
       "      <td>[o, o, o, o, o, o, !, o, o, o, :, o, o, ,, o, ...</td>\n",
       "    </tr>\n",
       "    <tr>\n",
       "      <th>3</th>\n",
       "      <td>Я пришел назад в город очень поздно, и уже про...</td>\n",
       "      <td>[я, пришел, назад, в, город, очень, поздно, и,...</td>\n",
       "      <td>я пришел назад в город очень поздно и уже проб...</td>\n",
       "      <td>[o, o, o, o, o, o, ,, o, o, o, o, ,, o, o, o, ...</td>\n",
       "    </tr>\n",
       "    <tr>\n",
       "      <th>4</th>\n",
       "      <td>По той стороне тротуара, недалеко от моей незн...</td>\n",
       "      <td>[по, той, стороне, тротуара, недалеко, от, мое...</td>\n",
       "      <td>по той стороне тротуара недалеко от моей незна...</td>\n",
       "      <td>[o, o, o, ,, o, o, o, ,, o, o, o, o, ,, o, ,, ...</td>\n",
       "    </tr>\n",
       "    <tr>\n",
       "      <th>...</th>\n",
       "      <td>...</td>\n",
       "      <td>...</td>\n",
       "      <td>...</td>\n",
       "      <td>...</td>\n",
       "    </tr>\n",
       "    <tr>\n",
       "      <th>132</th>\n",
       "      <td>Ах, да! И у нас тоже Фекла!</td>\n",
       "      <td>[ах, да, и, у, нас, тоже, фекла]</td>\n",
       "      <td>ах да и у нас тоже фекла</td>\n",
       "      <td>[,, !, o, o, o, o, !]</td>\n",
       "    </tr>\n",
       "    <tr>\n",
       "      <th>133</th>\n",
       "      <td>Матрена добрая, только один недостаток: у ней ...</td>\n",
       "      <td>[матрена, добрая, только, один, недостаток, у,...</td>\n",
       "      <td>матрена добрая только один недостаток у ней не...</td>\n",
       "      <td>[o, ,, o, o, :, o, o, o, ,, ,, o, o, ., o, o, !]</td>\n",
       "    </tr>\n",
       "    <tr>\n",
       "      <th>134</th>\n",
       "      <td>Все равно! Они обе могут быть вместе. Только в...</td>\n",
       "      <td>[все, равно, они, обе, могут, быть, вместе, то...</td>\n",
       "      <td>все равно они обе могут быть вместе только вы ...</td>\n",
       "      <td>[o, !, o, o, o, o, ., o, o, o, o, o, !]</td>\n",
       "    </tr>\n",
       "    <tr>\n",
       "      <th>135</th>\n",
       "      <td>Ах, Настенька!</td>\n",
       "      <td>[ах, настенька]</td>\n",
       "      <td>ах настенька</td>\n",
       "      <td>[,, !]</td>\n",
       "    </tr>\n",
       "    <tr>\n",
       "      <th>136</th>\n",
       "      <td>И оба мы засмеялись!</td>\n",
       "      <td>[и, оба, мы, засмеялись]</td>\n",
       "      <td>и оба мы засмеялись</td>\n",
       "      <td>[o, o, o, !]</td>\n",
       "    </tr>\n",
       "  </tbody>\n",
       "</table>\n",
       "<p>137 rows × 4 columns</p>\n",
       "</div>"
      ],
      "text/plain": [
       "                                                  text  \\\n",
       "0    И так, вы понимаете, читатель, каким образом я...   \n",
       "1    Я ходил много и долго, так что уже совсем успе...   \n",
       "2    А все-таки моя ночь была лучше дня! Вот как эт...   \n",
       "3    Я пришел назад в город очень поздно, и уже про...   \n",
       "4    По той стороне тротуара, недалеко от моей незн...   \n",
       "..                                                 ...   \n",
       "132                        Ах, да! И у нас тоже Фекла!   \n",
       "133  Матрена добрая, только один недостаток: у ней ...   \n",
       "134  Все равно! Они обе могут быть вместе. Только в...   \n",
       "135                                     Ах, Настенька!   \n",
       "136                               И оба мы засмеялись!   \n",
       "\n",
       "                                                tokens  \\\n",
       "0    [и, так, вы, понимаете, читатель, каким, образ...   \n",
       "1    [я, ходил, много, и, долго, так, что, уже, сов...   \n",
       "2    [а, всетаки, моя, ночь, была, лучше, дня, вот,...   \n",
       "3    [я, пришел, назад, в, город, очень, поздно, и,...   \n",
       "4    [по, той, стороне, тротуара, недалеко, от, мое...   \n",
       "..                                                 ...   \n",
       "132                   [ах, да, и, у, нас, тоже, фекла]   \n",
       "133  [матрена, добрая, только, один, недостаток, у,...   \n",
       "134  [все, равно, они, обе, могут, быть, вместе, то...   \n",
       "135                                    [ах, настенька]   \n",
       "136                           [и, оба, мы, засмеялись]   \n",
       "\n",
       "                                     clear_punct_lower  \\\n",
       "0    и так вы понимаете читатель каким образом я зн...   \n",
       "1    я ходил много и долго так что уже совсем успел...   \n",
       "2    а всетаки моя ночь была лучше дня вот как это ...   \n",
       "3    я пришел назад в город очень поздно и уже проб...   \n",
       "4    по той стороне тротуара недалеко от моей незна...   \n",
       "..                                                 ...   \n",
       "132                           ах да и у нас тоже фекла   \n",
       "133  матрена добрая только один недостаток у ней не...   \n",
       "134  все равно они обе могут быть вместе только вы ...   \n",
       "135                                       ах настенька   \n",
       "136                                и оба мы засмеялись   \n",
       "\n",
       "                                                labels  \n",
       "0                 [o, ,, o, ,, ,, o, o, o, o, o, o, !]  \n",
       "1    [o, o, o, o, ,, o, o, o, o, ,, o, o, ,, ,, o, ...  \n",
       "2    [o, o, o, o, o, o, !, o, o, o, :, o, o, ,, o, ...  \n",
       "3    [o, o, o, o, o, o, ,, o, o, o, o, ,, o, o, o, ...  \n",
       "4    [o, o, o, ,, o, o, o, ,, o, o, o, o, ,, o, ,, ...  \n",
       "..                                                 ...  \n",
       "132                              [,, !, o, o, o, o, !]  \n",
       "133   [o, ,, o, o, :, o, o, o, ,, ,, o, o, ., o, o, !]  \n",
       "134            [o, !, o, o, o, o, ., o, o, o, o, o, !]  \n",
       "135                                             [,, !]  \n",
       "136                                       [o, o, o, !]  \n",
       "\n",
       "[137 rows x 4 columns]"
      ]
     },
     "execution_count": 31,
     "metadata": {},
     "output_type": "execute_result"
    }
   ],
   "source": [
    "gig_markup = pd.DataFrame()\n",
    "gig_markup['text'] = responses\n",
    "gig_markup = get_markup(gig_markup)\n",
    "gig_markup"
   ]
  },
  {
   "cell_type": "code",
   "execution_count": 37,
   "id": "0dd316b4",
   "metadata": {},
   "outputs": [
    {
     "data": {
      "text/html": [
       "<div>\n",
       "<style scoped>\n",
       "    .dataframe tbody tr th:only-of-type {\n",
       "        vertical-align: middle;\n",
       "    }\n",
       "\n",
       "    .dataframe tbody tr th {\n",
       "        vertical-align: top;\n",
       "    }\n",
       "\n",
       "    .dataframe thead th {\n",
       "        text-align: right;\n",
       "    }\n",
       "</style>\n",
       "<table border=\"1\" class=\"dataframe\">\n",
       "  <thead>\n",
       "    <tr style=\"text-align: right;\">\n",
       "      <th></th>\n",
       "      <th>text</th>\n",
       "      <th>tokens</th>\n",
       "      <th>clear_punct_lower</th>\n",
       "      <th>labels</th>\n",
       "    </tr>\n",
       "  </thead>\n",
       "  <tbody>\n",
       "    <tr>\n",
       "      <th>0</th>\n",
       "      <td>Итак, вы понимаете, читатель, каким образом я ...</td>\n",
       "      <td>[итак, вы, понимаете, читатель, каким, образом...</td>\n",
       "      <td>итак вы понимаете читатель каким образом я зна...</td>\n",
       "      <td>[,, o, ,, ,, o, o, o, o, o, o, .]</td>\n",
       "    </tr>\n",
       "    <tr>\n",
       "      <th>1</th>\n",
       "      <td>Я ходил много и долго, так что уже совсем успе...</td>\n",
       "      <td>[я, ходил, много, и, долго, так, что, уже, сов...</td>\n",
       "      <td>я ходил много и долго так что уже совсем успел...</td>\n",
       "      <td>[o, o, o, o, ,, o, o, o, o, ,, o, o, ,, ,, o, ...</td>\n",
       "    </tr>\n",
       "    <tr>\n",
       "      <th>2</th>\n",
       "      <td>А все-таки моя ночь была лучше дня!от как это ...</td>\n",
       "      <td>[а, всетаки, моя, ночь, была, лучше, дняот, ка...</td>\n",
       "      <td>а всетаки моя ночь была лучше дняот как это было</td>\n",
       "      <td>[o, o, o, o, o, o, o, o, o, .]</td>\n",
       "    </tr>\n",
       "    <tr>\n",
       "      <th>3</th>\n",
       "      <td>Я пришел назад в город очень поздно, и уже про...</td>\n",
       "      <td>[я, пришел, назад, в, город, очень, поздно, и,...</td>\n",
       "      <td>я пришел назад в город очень поздно и уже проб...</td>\n",
       "      <td>[o, o, o, o, o, o, ,, o, o, o, o, ,, o, o, o, ...</td>\n",
       "    </tr>\n",
       "    <tr>\n",
       "      <th>4</th>\n",
       "      <td>По той стороне тротуара, недалеко от моей незн...</td>\n",
       "      <td>[по, той, стороне, тротуара, недалеко, от, мое...</td>\n",
       "      <td>по той стороне тротуара недалеко от моей незна...</td>\n",
       "      <td>[o, o, o, ,, o, o, o, ,, o, o, o, o, ,, o, ,, ...</td>\n",
       "    </tr>\n",
       "    <tr>\n",
       "      <th>...</th>\n",
       "      <td>...</td>\n",
       "      <td>...</td>\n",
       "      <td>...</td>\n",
       "      <td>...</td>\n",
       "    </tr>\n",
       "    <tr>\n",
       "      <th>132</th>\n",
       "      <td>Ах, да и у нас тоже Фекла!</td>\n",
       "      <td>[ах, да, и, у, нас, тоже, фекла]</td>\n",
       "      <td>ах да и у нас тоже фекла</td>\n",
       "      <td>[,, o, o, o, o, o, !]</td>\n",
       "    </tr>\n",
       "    <tr>\n",
       "      <th>133</th>\n",
       "      <td>Матрена добрая, только один недостаток: у ней ...</td>\n",
       "      <td>[матрена, добрая, только, один, недостаток, у,...</td>\n",
       "      <td>матрена добрая только один недостаток у ней не...</td>\n",
       "      <td>[o, ,, o, o, :, o, o, o, ,, ,, o, o, ., o, o, !]</td>\n",
       "    </tr>\n",
       "    <tr>\n",
       "      <th>134</th>\n",
       "      <td>Все равно. они обе могут быть вместе. только в...</td>\n",
       "      <td>[все, равно, они, обе, могут, быть, вместе, то...</td>\n",
       "      <td>все равно они обе могут быть вместе только вы ...</td>\n",
       "      <td>[o, ., o, o, o, o, ., o, o, o, o, o, .]</td>\n",
       "    </tr>\n",
       "    <tr>\n",
       "      <th>135</th>\n",
       "      <td>Ах, Настенька!</td>\n",
       "      <td>[ах, настенька]</td>\n",
       "      <td>ах настенька</td>\n",
       "      <td>[,, !]</td>\n",
       "    </tr>\n",
       "    <tr>\n",
       "      <th>136</th>\n",
       "      <td>И оба мы засмеялись.</td>\n",
       "      <td>[и, оба, мы, засмеялись]</td>\n",
       "      <td>и оба мы засмеялись</td>\n",
       "      <td>[o, o, o, .]</td>\n",
       "    </tr>\n",
       "  </tbody>\n",
       "</table>\n",
       "<p>137 rows × 4 columns</p>\n",
       "</div>"
      ],
      "text/plain": [
       "                                                  text  \\\n",
       "0    Итак, вы понимаете, читатель, каким образом я ...   \n",
       "1    Я ходил много и долго, так что уже совсем успе...   \n",
       "2    А все-таки моя ночь была лучше дня!от как это ...   \n",
       "3    Я пришел назад в город очень поздно, и уже про...   \n",
       "4    По той стороне тротуара, недалеко от моей незн...   \n",
       "..                                                 ...   \n",
       "132                         Ах, да и у нас тоже Фекла!   \n",
       "133  Матрена добрая, только один недостаток: у ней ...   \n",
       "134  Все равно. они обе могут быть вместе. только в...   \n",
       "135                                     Ах, Настенька!   \n",
       "136                               И оба мы засмеялись.   \n",
       "\n",
       "                                                tokens  \\\n",
       "0    [итак, вы, понимаете, читатель, каким, образом...   \n",
       "1    [я, ходил, много, и, долго, так, что, уже, сов...   \n",
       "2    [а, всетаки, моя, ночь, была, лучше, дняот, ка...   \n",
       "3    [я, пришел, назад, в, город, очень, поздно, и,...   \n",
       "4    [по, той, стороне, тротуара, недалеко, от, мое...   \n",
       "..                                                 ...   \n",
       "132                   [ах, да, и, у, нас, тоже, фекла]   \n",
       "133  [матрена, добрая, только, один, недостаток, у,...   \n",
       "134  [все, равно, они, обе, могут, быть, вместе, то...   \n",
       "135                                    [ах, настенька]   \n",
       "136                           [и, оба, мы, засмеялись]   \n",
       "\n",
       "                                     clear_punct_lower  \\\n",
       "0    итак вы понимаете читатель каким образом я зна...   \n",
       "1    я ходил много и долго так что уже совсем успел...   \n",
       "2     а всетаки моя ночь была лучше дняот как это было   \n",
       "3    я пришел назад в город очень поздно и уже проб...   \n",
       "4    по той стороне тротуара недалеко от моей незна...   \n",
       "..                                                 ...   \n",
       "132                           ах да и у нас тоже фекла   \n",
       "133  матрена добрая только один недостаток у ней не...   \n",
       "134  все равно они обе могут быть вместе только вы ...   \n",
       "135                                       ах настенька   \n",
       "136                                и оба мы засмеялись   \n",
       "\n",
       "                                                labels  \n",
       "0                    [,, o, ,, ,, o, o, o, o, o, o, .]  \n",
       "1    [o, o, o, o, ,, o, o, o, o, ,, o, o, ,, ,, o, ...  \n",
       "2                       [o, o, o, o, o, o, o, o, o, .]  \n",
       "3    [o, o, o, o, o, o, ,, o, o, o, o, ,, o, o, o, ...  \n",
       "4    [o, o, o, ,, o, o, o, ,, o, o, o, o, ,, o, ,, ...  \n",
       "..                                                 ...  \n",
       "132                              [,, o, o, o, o, o, !]  \n",
       "133   [o, ,, o, o, :, o, o, o, ,, ,, o, o, ., o, o, !]  \n",
       "134            [o, ., o, o, o, o, ., o, o, o, o, o, .]  \n",
       "135                                             [,, !]  \n",
       "136                                       [o, o, o, .]  \n",
       "\n",
       "[137 rows x 4 columns]"
      ]
     },
     "execution_count": 37,
     "metadata": {},
     "output_type": "execute_result"
    }
   ],
   "source": [
    "books_markup.head(137)"
   ]
  },
  {
   "cell_type": "code",
   "execution_count": 35,
   "id": "d89b0b1c",
   "metadata": {},
   "outputs": [
    {
     "name": "stderr",
     "output_type": "stream",
     "text": [
      "100%|█████████████████████████████████████████████████████████████████████████████| 137/137 [00:00<00:00, 180244.56it/s]"
     ]
    },
    {
     "name": "stdout",
     "output_type": "stream",
     "text": [
      "Share of o = 2.8183\n",
      "Share of , = 0.5746\n",
      "Share of ! = 0.1574\n",
      "Share of . = 0.1452\n",
      "Share of : = 0.0183\n",
      "Share of ... = 0.066\n",
      "Share of ? = 0.0386\n"
     ]
    },
    {
     "name": "stderr",
     "output_type": "stream",
     "text": [
      "\n"
     ]
    }
   ],
   "source": [
    "markup_stats_giga = Counter()\n",
    "\n",
    "for row in tqdm.tqdm(gig_markup.values):\n",
    "    markup_stats_giga += Counter(row[3])\n",
    "\n",
    "for key, value in markup_stats_giga.items():\n",
    "    print(f\"Share of {key} = {np.round(value/(sum(markup_stats_giga.values())-markup_stats_giga['o']), 4)}\")"
   ]
  },
  {
   "cell_type": "code",
   "execution_count": 40,
   "id": "6d0a89a4",
   "metadata": {},
   "outputs": [
    {
     "name": "stderr",
     "output_type": "stream",
     "text": [
      "100%|█████████████████████████████████████████████████████████████████████████████| 137/137 [00:00<00:00, 194390.95it/s]"
     ]
    },
    {
     "name": "stdout",
     "output_type": "stream",
     "text": [
      "Share of , = 0.6036\n",
      "Share of o = 2.9599\n",
      "Share of . = 0.2639\n",
      "Share of ... = 0.0312\n",
      "Share of ! = 0.0434\n",
      "Share of : = 0.0178\n",
      "Share of ? = 0.0401\n"
     ]
    },
    {
     "name": "stderr",
     "output_type": "stream",
     "text": [
      "\n"
     ]
    }
   ],
   "source": [
    "markup_stats_giga = Counter()\n",
    "\n",
    "for row in tqdm.tqdm(books_markup.values[:137]):\n",
    "    markup_stats_giga += Counter(row[3])\n",
    "\n",
    "for key, value in markup_stats_giga.items():\n",
    "    print(f\"Share of {key} = {np.round(value/(sum(markup_stats_giga.values())-markup_stats_giga['o']), 4)}\")"
   ]
  }
 ],
 "metadata": {
  "kernelspec": {
   "display_name": "Python 3 (ipykernel)",
   "language": "python",
   "name": "python3"
  },
  "language_info": {
   "codemirror_mode": {
    "name": "ipython",
    "version": 3
   },
   "file_extension": ".py",
   "mimetype": "text/x-python",
   "name": "python",
   "nbconvert_exporter": "python",
   "pygments_lexer": "ipython3",
   "version": "3.10.13"
  }
 },
 "nbformat": 4,
 "nbformat_minor": 5
}
