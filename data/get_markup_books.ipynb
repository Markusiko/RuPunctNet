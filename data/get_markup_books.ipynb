{
 "cells": [
  {
   "cell_type": "code",
   "execution_count": 1,
   "id": "292b684a",
   "metadata": {},
   "outputs": [],
   "source": [
    "import pandas as pd\n",
    "import re\n",
    "import tqdm\n",
    "import os"
   ]
  },
  {
   "cell_type": "code",
   "execution_count": 2,
   "id": "0251126a",
   "metadata": {},
   "outputs": [],
   "source": [
    "path_to_books = 'prepared_data/books/'"
   ]
  },
  {
   "cell_type": "code",
   "execution_count": 3,
   "id": "9448924e",
   "metadata": {},
   "outputs": [
    {
     "data": {
      "text/plain": [
       "16"
      ]
     },
     "execution_count": 3,
     "metadata": {},
     "output_type": "execute_result"
    }
   ],
   "source": [
    "book_file_names = os.listdir(path_to_books)\n",
    "len(book_file_names)"
   ]
  },
  {
   "cell_type": "code",
   "execution_count": 4,
   "id": "ff45fd03",
   "metadata": {},
   "outputs": [
    {
     "data": {
      "text/plain": [
       "['bytie_i_vremya.txt',\n",
       " 'po.txt',\n",
       " 'oblomov.txt',\n",
       " 'idiot.txt',\n",
       " 'tak_govoril_zaratustra.txt',\n",
       " 'master_margarita.txt',\n",
       " 'starik_i_more.txt',\n",
       " 'detstvo_tolstoi.txt',\n",
       " 'chekhov.txt',\n",
       " 'voina_mir4.txt',\n",
       " 'mir_v_orehovoy-skorlupke.txt',\n",
       " 'anna_karenina.txt',\n",
       " 'voina_mir3.txt',\n",
       " 'belye_nochi.txt',\n",
       " 'prestup_i_nakaz.txt',\n",
       " 'voina_mir12.txt']"
      ]
     },
     "execution_count": 4,
     "metadata": {},
     "output_type": "execute_result"
    }
   ],
   "source": [
    "book_file_names"
   ]
  },
  {
   "cell_type": "code",
   "execution_count": 5,
   "id": "b9230aed",
   "metadata": {},
   "outputs": [],
   "source": [
    "def get_book(book_name):\n",
    "    with open(path_to_books + book_name, encoding='utf-8') as file:\n",
    "        line_list = []\n",
    "        for line in file:\n",
    "            line_list.append(line[:-1])\n",
    "                \n",
    "    return line_list\n"
   ]
  },
  {
   "cell_type": "code",
   "execution_count": 6,
   "id": "5ddb4212",
   "metadata": {},
   "outputs": [
    {
     "data": {
      "text/plain": [
       "['Однажды весною, в час небывало жаркого заката, в Москве, на Патриарших прудах, появились два гражданина. Первый из них, одетый в летнюю серенькую пару, был маленького роста, упитан, лыс, свою приличную шляпу пирожком нес в руке, а на хорошо выбритом лице его помещались сверхъестественных размеров очки в черной роговой оправе. Второй – плечистый, рыжеватый, вихрастый молодой человек в заломленной на затылок клетчатой кепке – был в ковбойке, жеваных белых брюках и в черных тапочках.',\n",
       " 'Первый был не кто иной, как Михаил Александрович Берлиоз, председатель правления одной из крупнейших московских литературных ассоциаций, сокращенно именуемой МАССОЛИТ, и редактор толстого художественного журнала, а молодой спутник его – поэт Иван Николаевич Понырев, пишущий под псевдонимом Бездомный.',\n",
       " 'Попав в тень чуть зеленеющих лип, писатели первым долгом бросились к пестро раскрашенной будочке с надписью \"Пиво и воды\".',\n",
       " 'Да, следует отметить первую странность этого страшного майского вечера. Не только у будочки, но и во всей аллее, параллельной Малой Бронной улице, не оказалось ни одного человека. В тот час, когда уж, кажется, и сил не было дышать, когда солнце, раскалив Москву, в сухом тумане валилось куда-то за Садовое кольцо, – никто не пришел под липы, никто не сел на скамейку, пуста была аллея.']"
      ]
     },
     "execution_count": 6,
     "metadata": {},
     "output_type": "execute_result"
    }
   ],
   "source": [
    "# пример работы функции\n",
    "some_book = get_book(book_file_names[5])\n",
    "some_book[:4]"
   ]
  },
  {
   "cell_type": "code",
   "execution_count": 7,
   "id": "1b15d0af",
   "metadata": {},
   "outputs": [],
   "source": [
    "def get_markup(text_list):\n",
    "    '''\n",
    "    Функция, принимающая на вход список слов и\n",
    "    возвращающая список соответствующих меток.\n",
    "    Для начала используется всего несколько меток из списка:\n",
    "    ['.', ',', '?', '!', 'o']. (o = other)\n",
    "    '''\n",
    "    \n",
    "    labels_puncts = ['.', ',', '?', '!']\n",
    "    labels = [token[-1] if token[-1] in labels_puncts else 'o' for token in text_list]\n",
    "    \n",
    "    return labels"
   ]
  },
  {
   "cell_type": "code",
   "execution_count": 8,
   "id": "7f798948",
   "metadata": {},
   "outputs": [
    {
     "name": "stderr",
     "output_type": "stream",
     "text": [
      "100%|███████████████████████████████████████████| 16/16 [00:00<00:00, 17.02it/s]\n"
     ]
    },
    {
     "data": {
      "text/html": [
       "<div>\n",
       "<style scoped>\n",
       "    .dataframe tbody tr th:only-of-type {\n",
       "        vertical-align: middle;\n",
       "    }\n",
       "\n",
       "    .dataframe tbody tr th {\n",
       "        vertical-align: top;\n",
       "    }\n",
       "\n",
       "    .dataframe thead th {\n",
       "        text-align: right;\n",
       "    }\n",
       "</style>\n",
       "<table border=\"1\" class=\"dataframe\">\n",
       "  <thead>\n",
       "    <tr style=\"text-align: right;\">\n",
       "      <th></th>\n",
       "      <th>text</th>\n",
       "      <th>tokens</th>\n",
       "      <th>labels</th>\n",
       "    </tr>\n",
       "  </thead>\n",
       "  <tbody>\n",
       "    <tr>\n",
       "      <th>0</th>\n",
       "      <td>Названный вопрос пришел сегодня в забвение, хо...</td>\n",
       "      <td>[Названный, вопрос, пришел, сегодня, в, забвен...</td>\n",
       "      <td>[o, o, o, o, o, ,, o, o, o, o, o, o, o, ,, o, ...</td>\n",
       "    </tr>\n",
       "    <tr>\n",
       "      <th>1</th>\n",
       "      <td>Мало того. На почве греческих подходов к интер...</td>\n",
       "      <td>[Мало, того., На, почве, греческих, подходов, ...</td>\n",
       "      <td>[o, ., o, o, o, o, o, o, o, o, ,, o, o, o, o, ...</td>\n",
       "    </tr>\n",
       "    <tr>\n",
       "      <th>2</th>\n",
       "      <td>1) \"Бытие\" есть \"наиболее общее\" понятие: τό ŏ...</td>\n",
       "      <td>[1), \"Бытие\", есть, \"наиболее, общее\", понятие...</td>\n",
       "      <td>[o, o, o, o, o, o, o, o, o, o, o, o, o, o, o, ...</td>\n",
       "    </tr>\n",
       "    <tr>\n",
       "      <th>3</th>\n",
       "      <td>2) Понятие \"бытие\" неопределимо. Это выводили ...</td>\n",
       "      <td>[2), Понятие, \"бытие\", неопределимо., Это, выв...</td>\n",
       "      <td>[o, o, o, ., o, o, o, o, o, ., o, o, o, o, o, ...</td>\n",
       "    </tr>\n",
       "    <tr>\n",
       "      <th>4</th>\n",
       "      <td>3) Бытие есть само собой разумеющееся понятие....</td>\n",
       "      <td>[3), Бытие, есть, само, собой, разумеющееся, п...</td>\n",
       "      <td>[o, o, o, o, o, o, ., o, o, ,, ,, o, o, o, o, ...</td>\n",
       "    </tr>\n",
       "    <tr>\n",
       "      <th>...</th>\n",
       "      <td>...</td>\n",
       "      <td>...</td>\n",
       "      <td>...</td>\n",
       "    </tr>\n",
       "    <tr>\n",
       "      <th>47751</th>\n",
       "      <td>Пьер тоже вслед за нею почти выбежал в передню...</td>\n",
       "      <td>[Пьер, тоже, вслед, за, нею, почти, выбежал, в...</td>\n",
       "      <td>[o, o, o, o, o, o, o, o, ,, o, o, o, o, ,, o, ...</td>\n",
       "    </tr>\n",
       "    <tr>\n",
       "      <th>47752</th>\n",
       "      <td>— Теперь куда прикажете? — спросил кучер.</td>\n",
       "      <td>[—, Теперь, куда, прикажете?, —, спросил, кучер.]</td>\n",
       "      <td>[o, o, o, ?, o, o, .]</td>\n",
       "    </tr>\n",
       "    <tr>\n",
       "      <th>47753</th>\n",
       "      <td>\"Куда? — спросил себя Пьер. — Куда же можно ех...</td>\n",
       "      <td>[\"Куда?, —, спросил, себя, Пьер., —, Куда, же,...</td>\n",
       "      <td>[?, o, o, o, ., o, o, o, o, o, ?, o, o, o, o, ...</td>\n",
       "    </tr>\n",
       "    <tr>\n",
       "      <th>47754</th>\n",
       "      <td>— Домой, — сказал Пьер, несмотря на десять гра...</td>\n",
       "      <td>[—, Домой,, —, сказал, Пьер,, несмотря, на, де...</td>\n",
       "      <td>[o, ,, o, o, ,, o, o, o, o, o, o, o, o, o, o, ...</td>\n",
       "    </tr>\n",
       "    <tr>\n",
       "      <th>47755</th>\n",
       "      <td>Было морозно и ясно. Над грязными, полутемными...</td>\n",
       "      <td>[Было, морозно, и, ясно., Над, грязными,, полу...</td>\n",
       "      <td>[o, o, o, ., o, ,, o, ,, o, o, o, o, o, o, ., ...</td>\n",
       "    </tr>\n",
       "  </tbody>\n",
       "</table>\n",
       "<p>47756 rows × 3 columns</p>\n",
       "</div>"
      ],
      "text/plain": [
       "                                                    text  \\\n",
       "0      Названный вопрос пришел сегодня в забвение, хо...   \n",
       "1      Мало того. На почве греческих подходов к интер...   \n",
       "2      1) \"Бытие\" есть \"наиболее общее\" понятие: τό ŏ...   \n",
       "3      2) Понятие \"бытие\" неопределимо. Это выводили ...   \n",
       "4      3) Бытие есть само собой разумеющееся понятие....   \n",
       "...                                                  ...   \n",
       "47751  Пьер тоже вслед за нею почти выбежал в передню...   \n",
       "47752          — Теперь куда прикажете? — спросил кучер.   \n",
       "47753  \"Куда? — спросил себя Пьер. — Куда же можно ех...   \n",
       "47754  — Домой, — сказал Пьер, несмотря на десять гра...   \n",
       "47755  Было морозно и ясно. Над грязными, полутемными...   \n",
       "\n",
       "                                                  tokens  \\\n",
       "0      [Названный, вопрос, пришел, сегодня, в, забвен...   \n",
       "1      [Мало, того., На, почве, греческих, подходов, ...   \n",
       "2      [1), \"Бытие\", есть, \"наиболее, общее\", понятие...   \n",
       "3      [2), Понятие, \"бытие\", неопределимо., Это, выв...   \n",
       "4      [3), Бытие, есть, само, собой, разумеющееся, п...   \n",
       "...                                                  ...   \n",
       "47751  [Пьер, тоже, вслед, за, нею, почти, выбежал, в...   \n",
       "47752  [—, Теперь, куда, прикажете?, —, спросил, кучер.]   \n",
       "47753  [\"Куда?, —, спросил, себя, Пьер., —, Куда, же,...   \n",
       "47754  [—, Домой,, —, сказал, Пьер,, несмотря, на, де...   \n",
       "47755  [Было, морозно, и, ясно., Над, грязными,, полу...   \n",
       "\n",
       "                                                  labels  \n",
       "0      [o, o, o, o, o, ,, o, o, o, o, o, o, o, ,, o, ...  \n",
       "1      [o, ., o, o, o, o, o, o, o, o, ,, o, o, o, o, ...  \n",
       "2      [o, o, o, o, o, o, o, o, o, o, o, o, o, o, o, ...  \n",
       "3      [o, o, o, ., o, o, o, o, o, ., o, o, o, o, o, ...  \n",
       "4      [o, o, o, o, o, o, ., o, o, ,, ,, o, o, o, o, ...  \n",
       "...                                                  ...  \n",
       "47751  [o, o, o, o, o, o, o, o, ,, o, o, o, o, ,, o, ...  \n",
       "47752                              [o, o, o, ?, o, o, .]  \n",
       "47753  [?, o, o, o, ., o, o, o, o, o, ?, o, o, o, o, ...  \n",
       "47754  [o, ,, o, o, ,, o, o, o, o, o, o, o, o, o, o, ...  \n",
       "47755  [o, o, o, ., o, ,, o, ,, o, o, o, o, o, o, ., ...  \n",
       "\n",
       "[47756 rows x 3 columns]"
      ]
     },
     "execution_count": 8,
     "metadata": {},
     "output_type": "execute_result"
    }
   ],
   "source": [
    "whole_markup = pd.DataFrame()\n",
    "\n",
    "for book in tqdm.tqdm(book_file_names):\n",
    "    book_text = get_book(book)\n",
    "    \n",
    "    markup = pd.DataFrame()\n",
    "    markup['text'] = book_text\n",
    "    markup['tokens'] = markup.text.apply(lambda x: x.split(' '))\n",
    "    markup['labels'] = markup.tokens.apply(get_markup)\n",
    "    \n",
    "    whole_markup = pd.concat([whole_markup, markup]).reset_index(drop=True)\n",
    "\n",
    "whole_markup"
   ]
  },
  {
   "cell_type": "code",
   "execution_count": 9,
   "id": "67fe8a07",
   "metadata": {},
   "outputs": [],
   "source": [
    "whole_markup.to_csv('books_markup.csv', index=False)"
   ]
  },
  {
   "cell_type": "code",
   "execution_count": 10,
   "id": "bb090a3f",
   "metadata": {},
   "outputs": [],
   "source": [
    "labels_list = []\n",
    "\n",
    "for row in whole_markup.values:\n",
    "    labels_list += row[2]\n",
    "    "
   ]
  },
  {
   "cell_type": "code",
   "execution_count": 11,
   "id": "c85d47e7",
   "metadata": {},
   "outputs": [
    {
     "data": {
      "text/plain": [
       "1993736"
      ]
     },
     "execution_count": 11,
     "metadata": {},
     "output_type": "execute_result"
    }
   ],
   "source": [
    "len(labels_list)"
   ]
  },
  {
   "cell_type": "code",
   "execution_count": 12,
   "id": "2901d701",
   "metadata": {},
   "outputs": [
    {
     "data": {
      "text/plain": [
       "o    1592668\n",
       ",     262814\n",
       ".     107422\n",
       "!      16188\n",
       "?      14644\n",
       "Name: labels, dtype: int64"
      ]
     },
     "execution_count": 12,
     "metadata": {},
     "output_type": "execute_result"
    }
   ],
   "source": [
    "pd.DataFrame(labels_list, columns=['labels']).labels.value_counts()"
   ]
  },
  {
   "cell_type": "code",
   "execution_count": null,
   "id": "6e75d6ce",
   "metadata": {},
   "outputs": [],
   "source": []
  }
 ],
 "metadata": {
  "kernelspec": {
   "display_name": "Python 3 (ipykernel)",
   "language": "python",
   "name": "python3"
  },
  "language_info": {
   "codemirror_mode": {
    "name": "ipython",
    "version": 3
   },
   "file_extension": ".py",
   "mimetype": "text/x-python",
   "name": "python",
   "nbconvert_exporter": "python",
   "pygments_lexer": "ipython3",
   "version": "3.9.12"
  }
 },
 "nbformat": 4,
 "nbformat_minor": 5
}
