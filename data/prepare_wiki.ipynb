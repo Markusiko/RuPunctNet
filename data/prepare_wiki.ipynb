{
 "cells": [
  {
   "cell_type": "code",
   "execution_count": 1,
   "id": "67751b0a",
   "metadata": {},
   "outputs": [],
   "source": [
    "import os\n",
    "import re\n",
    "import tqdm\n",
    "import glob"
   ]
  },
  {
   "cell_type": "code",
   "execution_count": 3,
   "id": "c10fcc97",
   "metadata": {},
   "outputs": [
    {
     "name": "stderr",
     "output_type": "stream",
     "text": [
      "100%|███████████████████████████████████████████| 84/84 [35:46<00:00, 25.55s/it]\n"
     ]
    }
   ],
   "source": [
    "paths_to_folders = os.listdir('wiki/')\n",
    "\n",
    "for folder in tqdm.tqdm(paths_to_folders):\n",
    "    if folder == '.DS_Store':\n",
    "        continue\n",
    "        \n",
    "    files = os.listdir('wiki/' + folder + '/')\n",
    "    \n",
    "    for filename in files:\n",
    "        with open('wiki/' + folder + '/' + filename, 'r')as file:\n",
    "            for line in file:\n",
    "                \n",
    "#                 # технический символ, который может быть непредсказуемым\n",
    "#                 if b'\\u' in line.encode('unicode-escape'):\n",
    "#                     continue\n",
    "\n",
    "                line = re.sub('\\n', '', line) # переносы на новую строчку\n",
    "                line = re.sub('<.*>', '', line)\n",
    "                line = re.sub('/&.*;', '', line)\n",
    "                line = re.sub('&.*;', '', line)\n",
    "                # убираем дургие технические символы\n",
    "                line = re.sub('formula[0-9]+', '', line)                \n",
    "                line = re.sub('templatestyles .*\"', '', line)\n",
    "                line = re.sub('См. также.', '', line)\n",
    "                line = re.sub('(#ПЕРЕНАПРАВЛЕНИЕ)', '', line)\n",
    "                line = re.sub('\\[\\[(.*?)\\]\\]', '', line) # ссылки\n",
    "                line = re.sub('\\s+', ' ', line) # пробелы между словами\n",
    "                \n",
    "                # приводим кавычки к одному типу\n",
    "                line = re.sub('\\'', '\"', line) \n",
    "                line = re.sub('«', '\"', line) \n",
    "                line = re.sub('»', '\"', line) \n",
    "                \n",
    "                line = line.strip()\n",
    "            \n",
    "                if line == '' or (line[-1] not in ['.', '!', '?'])\\\n",
    "                              or (len(line.split(' ')) <= 1)\\\n",
    "                              or (line[0] in ['.', '!', '?', ',']):\n",
    "                    continue\n",
    "                \n",
    "                with open('all_articles_edited/' + folder + '.txt', 'a') as file_to_write:\n",
    "                    file_to_write.write(line + '\\n')\n",
    "\n",
    "        "
   ]
  },
  {
   "cell_type": "markdown",
   "id": "744a8650",
   "metadata": {},
   "source": [
    "Считаем статистики по корпусу:"
   ]
  },
  {
   "cell_type": "code",
   "execution_count": 4,
   "id": "773a73c2",
   "metadata": {},
   "outputs": [
    {
     "name": "stderr",
     "output_type": "stream",
     "text": [
      "100%|███████████████████████████████████████████| 83/83 [04:49<00:00,  3.49s/it]\n"
     ]
    }
   ],
   "source": [
    "paths_to_folders = os.listdir('all_articles_edited/')\n",
    "dict_counter = {'Абзацы': 0, 'Всего меток': 0,\n",
    "                '?': 0, 'o': 0, '!': 0, '.': 0, ',': 0}\n",
    "\n",
    "for file_name in tqdm.tqdm(paths_to_folders):\n",
    "    with open('all_articles_edited/' + file_name, 'r') as file:\n",
    "        if file_name == '.DS_Store':\n",
    "            continue\n",
    "            \n",
    "        for line in file:\n",
    "            line = line[:-1]\n",
    "\n",
    "            dict_counter['Абзацы'] += 1\n",
    "            tokens = line.split(' ')\n",
    "            dict_counter['Всего меток'] += len(tokens)\n",
    "            \n",
    "            for token in tokens:\n",
    "                if token[-1] == '.':\n",
    "                    dict_counter['.'] += 1\n",
    "            \n",
    "                elif token[-1] == ',':\n",
    "                    dict_counter[','] += 1\n",
    "                    \n",
    "                elif token[-1] == '?':\n",
    "                    dict_counter['?'] += 1\n",
    "                \n",
    "                elif token[-1] == '!':\n",
    "                    dict_counter['!'] += 1\n",
    "                    \n",
    "                else:\n",
    "                    dict_counter['o'] += 1\n",
    "                    "
   ]
  },
  {
   "cell_type": "code",
   "execution_count": 5,
   "id": "8139d313",
   "metadata": {},
   "outputs": [
    {
     "data": {
      "text/plain": [
       "{'Абзацы': 14813389,\n",
       " 'Всего меток': 555674748,\n",
       " '?': 33961,\n",
       " 'o': 474669460,\n",
       " '!': 39084,\n",
       " '.': 40085706,\n",
       " ',': 40846537}"
      ]
     },
     "execution_count": 5,
     "metadata": {},
     "output_type": "execute_result"
    }
   ],
   "source": [
    "dict_counter"
   ]
  },
  {
   "cell_type": "code",
   "execution_count": null,
   "id": "4eaaf3cc",
   "metadata": {},
   "outputs": [],
   "source": []
  }
 ],
 "metadata": {
  "kernelspec": {
   "display_name": "Python 3 (ipykernel)",
   "language": "python",
   "name": "python3"
  },
  "language_info": {
   "codemirror_mode": {
    "name": "ipython",
    "version": 3
   },
   "file_extension": ".py",
   "mimetype": "text/x-python",
   "name": "python",
   "nbconvert_exporter": "python",
   "pygments_lexer": "ipython3",
   "version": "3.9.12"
  }
 },
 "nbformat": 4,
 "nbformat_minor": 5
}
