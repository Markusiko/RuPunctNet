{
 "cells": [
  {
   "cell_type": "markdown",
   "id": "630ce22f",
   "metadata": {},
   "source": [
    "# Ноутбук с первичной фильтрацией текстов книг"
   ]
  },
  {
   "cell_type": "code",
   "execution_count": 1,
   "id": "73e0b38c",
   "metadata": {},
   "outputs": [],
   "source": [
    "import pandas as pd\n",
    "import re\n",
    "import os"
   ]
  },
  {
   "cell_type": "code",
   "execution_count": 2,
   "id": "271a0f26",
   "metadata": {},
   "outputs": [],
   "source": [
    "path_to_raw_books = 'raw_data/books/'\n",
    "path_to_save_prepared_books = 'prepared_data/books/'"
   ]
  },
  {
   "cell_type": "code",
   "execution_count": 3,
   "id": "919c4573",
   "metadata": {},
   "outputs": [],
   "source": [
    "def prepare_line(x):\n",
    "    '''\n",
    "    Функция для обработки одного абзаца текста\n",
    "    '''\n",
    "    # удаляем перенос на следующую строчку\n",
    "    x = x.replace('\\n', '').strip()\n",
    "    \n",
    "    # после заголовков не ставятся знаки конца предложения\n",
    "    # удалим заголовки\n",
    "    if x[-1] not in ['?', '!', '.', ',', '–']:\n",
    "        return ''\n",
    "    \n",
    "    # ссылки указываются в числами в скобках\n",
    "    x = re.sub(\"\\[[0-9]+\\]\", '',  x)\n",
    "    x = re.sub(\"\\[{0-9}+\\]\", '',  x)\n",
    "    \n",
    "#     # в художественных произведениях много диалогов\n",
    "#     # они начинаются на '– ' и для наших целей, скорее, не нужны\n",
    "#     # ??? при этом там могут быть авторские слова; их нужно тоже исключить?\n",
    "#     if x[:2] == '– ':\n",
    "#         x = x[2:]\n",
    "    \n",
    "    # приводим скобки к одному формату\n",
    "    quotes = ['«', '»', '\\'']\n",
    "    for quote in quotes:\n",
    "        x = x.replace(quote, '\\\"')\n",
    "        \n",
    "    # на всякий случай объединяем пробелы\n",
    "    x = ' '.join(x.split())\n",
    "    \n",
    "    return x.strip()"
   ]
  },
  {
   "cell_type": "code",
   "execution_count": 4,
   "id": "ae8e84f2",
   "metadata": {},
   "outputs": [],
   "source": [
    "def write_prepared_book(book_name):\n",
    "    with open(path_to_raw_books + book_name, encoding='utf-8') as file:\n",
    "        line_list = []\n",
    "        for line in file:\n",
    "        \n",
    "            # если пустая строка, то пропускаем\n",
    "            if line.strip() == '':\n",
    "                continue\n",
    "            \n",
    "            prepared_line = prepare_line(line)\n",
    "        \n",
    "            if prepared_line != '':\n",
    "                line_list.append(prepared_line)\n",
    "                \n",
    "    with open(path_to_save_prepared_books + book_name, 'w', encoding='utf-8') as file:\n",
    "        \n",
    "        for line in line_list:\n",
    "            file.write(line + '\\n')\n",
    "            \n",
    "    print(book_name + 'is done!')\n"
   ]
  },
  {
   "cell_type": "code",
   "execution_count": 5,
   "id": "b02a3751",
   "metadata": {},
   "outputs": [
    {
     "data": {
      "text/plain": [
       "16"
      ]
     },
     "execution_count": 5,
     "metadata": {},
     "output_type": "execute_result"
    }
   ],
   "source": [
    "book_file_names = os.listdir(path_to_raw_books)\n",
    "len(book_file_names)"
   ]
  },
  {
   "cell_type": "code",
   "execution_count": 6,
   "id": "3d49f9f3",
   "metadata": {},
   "outputs": [
    {
     "data": {
      "text/plain": [
       "['bytie_i_vremya.txt',\n",
       " 'po.txt',\n",
       " 'oblomov.txt',\n",
       " 'idiot.txt',\n",
       " 'tak_govoril_zaratustra.txt',\n",
       " 'master_margarita.txt',\n",
       " 'starik_i_more.txt',\n",
       " 'detstvo_tolstoi.txt',\n",
       " 'chekhov.txt',\n",
       " 'voina_mir4.txt',\n",
       " 'mir_v_orehovoy-skorlupke.txt',\n",
       " 'anna_karenina.txt',\n",
       " 'voina_mir3.txt',\n",
       " 'belye_nochi.txt',\n",
       " 'prestup_i_nakaz.txt',\n",
       " 'voina_mir12.txt']"
      ]
     },
     "execution_count": 6,
     "metadata": {},
     "output_type": "execute_result"
    }
   ],
   "source": [
    "book_file_names"
   ]
  },
  {
   "cell_type": "code",
   "execution_count": 7,
   "id": "7c169329",
   "metadata": {},
   "outputs": [
    {
     "name": "stdout",
     "output_type": "stream",
     "text": [
      "bytie_i_vremya.txtis done!\n",
      "po.txtis done!\n",
      "oblomov.txtis done!\n",
      "idiot.txtis done!\n",
      "tak_govoril_zaratustra.txtis done!\n",
      "master_margarita.txtis done!\n",
      "starik_i_more.txtis done!\n",
      "detstvo_tolstoi.txtis done!\n",
      "chekhov.txtis done!\n",
      "voina_mir4.txtis done!\n",
      "mir_v_orehovoy-skorlupke.txtis done!\n",
      "anna_karenina.txtis done!\n",
      "voina_mir3.txtis done!\n",
      "belye_nochi.txtis done!\n",
      "prestup_i_nakaz.txtis done!\n",
      "voina_mir12.txtis done!\n"
     ]
    }
   ],
   "source": [
    "for book in book_file_names:\n",
    "    write_prepared_book(book)"
   ]
  },
  {
   "cell_type": "code",
   "execution_count": null,
   "id": "2790435c",
   "metadata": {},
   "outputs": [],
   "source": []
  }
 ],
 "metadata": {
  "kernelspec": {
   "display_name": "Python 3 (ipykernel)",
   "language": "python",
   "name": "python3"
  },
  "language_info": {
   "codemirror_mode": {
    "name": "ipython",
    "version": 3
   },
   "file_extension": ".py",
   "mimetype": "text/x-python",
   "name": "python",
   "nbconvert_exporter": "python",
   "pygments_lexer": "ipython3",
   "version": "3.9.12"
  }
 },
 "nbformat": 4,
 "nbformat_minor": 5
}
